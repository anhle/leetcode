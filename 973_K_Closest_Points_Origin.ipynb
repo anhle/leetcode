{
 "cells": [
  {
   "cell_type": "markdown",
   "metadata": {},
   "source": [
    "# 973. K Closest Points to Origin\n",
    "We have a list of points on the plane.  Find the K closest points to the origin (0, 0).\n",
    "\n",
    "(Here, the distance between two points on a plane is the Euclidean distance.)\n",
    "\n",
    "You may return the answer in any order.  The answer is guaranteed to be unique (except for the order that it is in.)\n",
    "\n",
    "Example 1:\n",
    "\n",
    "Input: points = [[1,3],[-2,2]], K = 1\n",
    "\n",
    "Output: [[-2,2]]\n",
    "\n",
    "Explanation: \n",
    "The distance between (1, 3) and the origin is sqrt(10).\n",
    "The distance between (-2, 2) and the origin is sqrt(8).\n",
    "Since sqrt(8) < sqrt(10), (-2, 2) is closer to the origin.\n",
    "\n",
    "We only want the closest K = 1 points from the origin, so the answer is just [[-2,2]].\n",
    "\n"
   ]
  },
  {
   "cell_type": "markdown",
   "metadata": {},
   "source": [
    "## Approach 1: Sort\n",
    "Intuition\n",
    "\n",
    "Sort the points by distance, then take the closest K points.\n",
    "\n",
    "In Python, we sort by a custom key function - namely, the distance to the origin. Afterwards, we return the first K elements of the list."
   ]
  },
  {
   "cell_type": "code",
   "execution_count": 2,
   "metadata": {},
   "outputs": [
    {
     "data": {
      "text/plain": [
       "[[-2, 2]]"
      ]
     },
     "execution_count": 2,
     "metadata": {},
     "output_type": "execute_result"
    }
   ],
   "source": [
    "def kClosest(points, K):\n",
    "    points.sort(key = lambda P: P[0]**2 + P[1]**2)\n",
    "    return points[:K]\n",
    "\n",
    "kClosest([[1,3],[-2,2]],1)"
   ]
  },
  {
   "cell_type": "markdown",
   "metadata": {},
   "source": [
    "## Heap \n",
    "Runtime:\n",
    "Inserting an item to a heap of size k take O(logK) time.\n",
    "And we do this for each item points.\n",
    "So runtime is O(N * logK) where N is the length of points.\n",
    "\n",
    "Space: O(K) for our heap."
   ]
  },
  {
   "cell_type": "code",
   "execution_count": 7,
   "metadata": {},
   "outputs": [
    {
     "data": {
      "text/plain": [
       "[[-2, 2]]"
      ]
     },
     "execution_count": 7,
     "metadata": {},
     "output_type": "execute_result"
    }
   ],
   "source": [
    "def kCloset(points,K):\n",
    "    return heapq.nsmallest(K,points,key = lambda P: P[0]**2+P[1]**2)\n",
    "\n",
    "kClosest([[1,3],[-2,2]],1)"
   ]
  },
  {
   "cell_type": "code",
   "execution_count": null,
   "metadata": {},
   "outputs": [],
   "source": [
    "def kClosest(points, K):\n",
    "    heap = []\n",
    "    for (x,y) in points:\n",
    "        dist = -(x**2 + y**2)\n",
    "        if len(heap) == K:\n",
    "            heapq.heappushpop(heap,(dist,x,y))\n",
    "        else:\n",
    "            heapq.heappush(heap,(dist,x,y))\n",
    "    return [(x,y) for (dist,x,y) in heap]"
   ]
  },
  {
   "cell_type": "markdown",
   "metadata": {},
   "source": [
    "## Approach 3: Divide and Conquer\n",
    "Intuition\n",
    "\n",
    "We want an algorithm faster than N \\log NNlogN. Clearly, the only way to do this is to use the fact that the K elements returned can be in any order -- otherwise we would be sorting which is at least N \\log NNlogN.\n",
    "\n",
    "Say we choose some random element x = A[i] and split the array into two buckets: one bucket of all the elements less than x, and another bucket of all the elements greater than or equal to x. This is known as \"quickselecting by a pivot x\".\n",
    "\n",
    "The idea is that if we quickselect by some pivot, on average in linear time we'll reduce the problem to a problem of half the size."
   ]
  },
  {
   "cell_type": "code",
   "execution_count": 9,
   "metadata": {},
   "outputs": [
    {
     "data": {
      "text/plain": [
       "[[-2, 2]]"
      ]
     },
     "execution_count": 9,
     "metadata": {},
     "output_type": "execute_result"
    }
   ],
   "source": [
    "import random\n",
    "def kClosest(points, K):\n",
    "    # Average O(N) time\n",
    "    #we quickselect by some pivot, on average in linear time we'll reduce the problem to a problem of half the size\n",
    "\n",
    "    def quick_select(l,r,k):\n",
    "        # partially sorts A[l:r+1], so the first k elements are the smallest\n",
    "        while l < r :\n",
    "            pivot = random.randint(l,r) # to avoid the worst case\n",
    "            points[pivot],points[l] = points[l],points[pivot]\n",
    "            mid = partition(l,r)\n",
    "            if k > mid:\n",
    "                l = mid+1\n",
    "            elif k < mid:\n",
    "                r = mid -1\n",
    "            else:\n",
    "                break\n",
    "\n",
    "    def partition(l,r):\n",
    "        # partition by pivot A[i]\n",
    "        pivot = points[r]\n",
    "        idx = -1\n",
    "        for i in range(r+1):\n",
    "            if points[i][0]**2 + points[i][1]**2 <= pivot[0]**2 + pivot[1]**2:\n",
    "                idx +=1\n",
    "                points[idx],points[i] = points[i],points[idx]\n",
    "        return idx\n",
    "\n",
    "    quick_select(0,len(points)-1,K)\n",
    "    return points[:K]\n",
    "\n",
    "kClosest([[1,3],[-2,2]],1)"
   ]
  },
  {
   "cell_type": "code",
   "execution_count": null,
   "metadata": {},
   "outputs": [],
   "source": []
  }
 ],
 "metadata": {
  "kernelspec": {
   "display_name": "Python 3",
   "language": "python",
   "name": "python3"
  },
  "language_info": {
   "codemirror_mode": {
    "name": "ipython",
    "version": 3
   },
   "file_extension": ".py",
   "mimetype": "text/x-python",
   "name": "python",
   "nbconvert_exporter": "python",
   "pygments_lexer": "ipython3",
   "version": "3.6.8"
  }
 },
 "nbformat": 4,
 "nbformat_minor": 2
}
