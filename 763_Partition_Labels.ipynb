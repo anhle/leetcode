{
 "cells": [
  {
   "cell_type": "markdown",
   "metadata": {},
   "source": [
    "# 763. Partition Labels\n",
    "A string S of lowercase letters is given. We want to partition this string into as many parts as possible so that each letter appears in at most one part, and return a list of integers representing the size of these parts.\n",
    "\n",
    "Example 1:\n",
    "Input: S = \"ababcbacadefegdehijhklij\"\n",
    "Output: [9,7,8]\n",
    "Explanation:\n",
    "The partition is \"ababcbaca\", \"defegde\", \"hijhklij\".\n",
    "This is a partition so that each letter appears in at most one part.\n",
    "A partition like \"ababcbacadefegde\", \"hijhklij\" is incorrect, because it splits S into less parts.\n",
    "Note:\n",
    "\n",
    "S will have length in range [1, 500].\n",
    "S will consist of lowercase letters ('a' to 'z') only."
   ]
  },
  {
   "cell_type": "code",
   "execution_count": null,
   "metadata": {},
   "outputs": [],
   "source": [
    "def partitionLabels(self, S):\n",
    "    sizes = []\n",
    "    while S:\n",
    "        split = 1\n",
    "        while set(S[:split]) & set(S[split:]):\n",
    "            split += 1\n",
    "        sizes.append(split)\n",
    "        S = S[split:]\n",
    "    return sizes\n",
    "        "
   ]
  },
  {
   "attachments": {
    "image_1558729275.png": {
     "image/png": "[encoded data removed]"
    }
   },
   "cell_type": "markdown",
   "metadata": {},
   "source": [
    "## Approach 1: Greedy \n",
    "Intuition\n",
    "\n",
    "Let's try to repeatedly choose the smallest left-justified partition. Consider the first label, say it's 'a'. The first partition must include it, and also the last occurrence of 'a'. However, between those two occurrences of 'a', there could be other labels that make the minimum size of this partition bigger. For example, in \"abccaddbeffe\", the minimum first partition is \"abccaddb\". This gives us the idea for the algorithm: For each letter encountered, process the last occurrence of that letter, extending the current partition [anchor, j] appropriately.\n",
    "\n",
    "Algorithm\n",
    "\n",
    "We need an array last[char] -> index of S where char occurs last. Then, let anchor and j be the start and end of the current partition. If we are at a label that occurs last at some index after j, we'll extend the partition j = last[c]. If we are at the end of the partition (i == j) then we'll append a partition size to our answer, and set the start of our new partition to i+1.\n",
    "\n",
    "Figure out the rightmost index first and use it to denote the start of the next section.\n",
    "\n",
    "Reset the left pointer at the start of each new section.\n",
    "\n",
    "Store the difference of right and left pointers + 1 as in the result for each section.\n",
    "\n",
    "![image_1558729275.png](attachment:image_1558729275.png)"
   ]
  },
  {
   "cell_type": "code",
   "execution_count": 2,
   "metadata": {},
   "outputs": [
    {
     "data": {
      "text/plain": [
       "[9, 7, 8]"
      ]
     },
     "execution_count": 2,
     "metadata": {},
     "output_type": "execute_result"
    }
   ],
   "source": [
    "def partitionLabels(S):\n",
    "    sizes = []\n",
    "    # record the last index of each char\n",
    "    last = {char:i for i,char in enumerate(S)}\n",
    "    \n",
    "    # record the current sub string [left:right]\n",
    "    l = r = 0\n",
    "    for i in range(len(S)):\n",
    "        r = max(r,last[S[i]])\n",
    "        if i == r:\n",
    "            sizes.append(r-l+1)\n",
    "            l = r+1\n",
    "    return sizes\n",
    "\n",
    "partitionLabels(\"ababcbacadefegdehijhklij\")"
   ]
  },
  {
   "cell_type": "code",
   "execution_count": null,
   "metadata": {},
   "outputs": [],
   "source": []
  }
 ],
 "metadata": {
  "kernelspec": {
   "display_name": "Python 3",
   "language": "python",
   "name": "python3"
  },
  "language_info": {
   "codemirror_mode": {
    "name": "ipython",
    "version": 3
   },
   "file_extension": ".py",
   "mimetype": "text/x-python",
   "name": "python",
   "nbconvert_exporter": "python",
   "pygments_lexer": "ipython3",
   "version": "3.6.8"
  }
 },
 "nbformat": 4,
 "nbformat_minor": 2
}
