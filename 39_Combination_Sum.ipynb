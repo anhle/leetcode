{
 "cells": [
  {
   "cell_type": "markdown",
   "metadata": {},
   "source": [
    "## 39. Combination Sum\n",
    "Given a set of candidate numbers (candidates) (without duplicates) and a target number (target), find all unique combinations in candidates where the candidate numbers sums to target.\n",
    "\n",
    "The same repeated number may be chosen from candidates unlimited number of times.\n",
    "\n",
    "All numbers (including target) will be positive integers.\n",
    "The solution set must not contain duplicate combinations.\n",
    "Example 1:\n",
    "\n",
    "Input: candidates = [2,3,6,7], target = 7,\n",
    "A solution set is:\n",
    "\n",
    "[\n",
    "  [7],\n",
    "  [2,2,3]\n",
    "]"
   ]
  },
  {
   "cell_type": "code",
   "execution_count": 1,
   "metadata": {},
   "outputs": [
    {
     "data": {
      "text/plain": [
       "[[7], [3, 2, 2]]"
      ]
     },
     "execution_count": 1,
     "metadata": {},
     "output_type": "execute_result"
    }
   ],
   "source": [
    "def combinationSum(candidates, target):\n",
    "    def backtrack(path,start,end,target):\n",
    "        if target == 0:\n",
    "            ans.append(path)\n",
    "            return\n",
    "        if target > 0:\n",
    "            for i in range(start,end):\n",
    "                path.append(candidates[i])\n",
    "                backtrack(path,i,end,target-candidates[i])\n",
    "                path.pop()\n",
    "    ans = []\n",
    "    candidates.sort(reverse = True)\n",
    "    backtrack([],0,len(candidates),target)\n",
    "    return ans\n",
    "\n",
    "combinationSum([2,3,6,7],7)"
   ]
  },
  {
   "cell_type": "code",
   "execution_count": null,
   "metadata": {},
   "outputs": [],
   "source": [
    "def combinationSum(candidates, target):\n",
    "    candidates.sort()\n",
    "    dp = [[] for _ in range(target+1)]\n",
    "    dp[0].append([]) # when target is 0, there is no combination\n",
    "    for sub_target in range(target+1):\n",
    "        for c in candidates:     \n",
    "            if c == sub_target:\n",
    "                dp[sub_target] += [[c]]\n",
    "            if c < sub_target and sub_target - c >= c:\n",
    "                dp[sub_target] += [[c] + L for L in dp[sub_target-c] if L[0] >= c]\n",
    "\n",
    "    return dp[target]"
   ]
  },
  {
   "cell_type": "markdown",
   "metadata": {},
   "source": [
    "## 216. Combination Sum III\n",
    "Find all possible combinations of k numbers that add up to a number n, given that only numbers from 1 to 9 can be used and each combination should be a unique set of numbers.\n",
    "\n",
    "Note:\n",
    "\n",
    "All numbers will be positive integers.\n",
    "The solution set must not contain duplicate combinations.\n",
    "Example 1:\n",
    "\n",
    "Input: k = 3, n = 7\n",
    "    \n",
    "Output: [[1,2,4]]"
   ]
  },
  {
   "cell_type": "code",
   "execution_count": null,
   "metadata": {},
   "outputs": [],
   "source": [
    "def combinationSum3(k, n):\n",
    "    res = []\n",
    "    backtrack(k,n,1,[],res)\n",
    "    return res\n",
    "def backtrack(k,remain,start,path,res):\n",
    "    if len(path) == k and remain == 0:\n",
    "        res.append(path)\n",
    "        return\n",
    "    if len(path) < k:\n",
    "        for i in range(start,10):\n",
    "            backtrack(k,remain-i,i+1,path+[i],res)"
   ]
  }
 ],
 "metadata": {
  "kernelspec": {
   "display_name": "Python 3",
   "language": "python",
   "name": "python3"
  },
  "language_info": {
   "codemirror_mode": {
    "name": "ipython",
    "version": 3
   },
   "file_extension": ".py",
   "mimetype": "text/x-python",
   "name": "python",
   "nbconvert_exporter": "python",
   "pygments_lexer": "ipython3",
   "version": "3.6.8"
  }
 },
 "nbformat": 4,
 "nbformat_minor": 2
}
