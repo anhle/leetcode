{
 "cells": [
  {
   "cell_type": "markdown",
   "metadata": {},
   "source": [
    "# 60. Permutation Sequence\n",
    "The set [1,2,3,...,n] contains a total of n! unique permutations.\n",
    "\n",
    "By listing and labeling all of the permutations in order, we get the following sequence for n = 3:\n",
    "\n",
    "\"123\"\n",
    "\"132\"\n",
    "\"213\"\n",
    "\"231\"\n",
    "\"312\"\n",
    "\"321\"\n",
    "\n",
    "Given n and k, return the kth permutation sequence.\n",
    "\n",
    "Note:\n",
    "\n",
    "Given n will be between 1 and 9 inclusive.\n",
    "Given k will be between 1 and n! inclusive.\n",
    "Example 1:\n",
    "\n",
    "Input: n = 3, k = 3\n",
    "Output: \"213\""
   ]
  },
  {
   "cell_type": "markdown",
   "metadata": {},
   "source": [
    "The idea is as follow:\n",
    "\n",
    "For permutations of n, the first (n-1)! permutations start with 1, next (n-1)! ones start with 2, ... and so on. And in each group of (n-1)! permutations, the first (n-2)! permutations start with the smallest remaining number, ...\n",
    "\n",
    "take n = 3 as an example, the first 2 (that is, (3-1)! ) permutations start with 1, next 2 start with 2 and last 2 start with 3. For the first 2 permutations (123 and 132), the 1st one (1!) starts with 2, which is the smallest remaining number (2 and 3). So we can use a loop to check the region that the sequence number falls in and get the starting digit. Then we adjust the sequence number and continue."
   ]
  },
  {
   "cell_type": "code",
   "execution_count": 2,
   "metadata": {},
   "outputs": [
    {
     "data": {
      "text/plain": [
       "'312'"
      ]
     },
     "execution_count": 2,
     "metadata": {},
     "output_type": "execute_result"
    }
   ],
   "source": [
    "def getPermutation(n, k):\n",
    "    nums = [str(i) for i in range(1,n+1)]\n",
    "    factorial = [1]*n\n",
    "    for i in range(1,n):\n",
    "        factorial[i] = i*factorial[i-1]\n",
    "    k -= 1\n",
    "    ans = []\n",
    "    for i in range(n,0,-1):\n",
    "        id = k // factorial[i-1]\n",
    "        k %= factorial[i-1]\n",
    "        ans.append(nums[id])\n",
    "        nums.pop(id)\n",
    "    return ''.join(ans)\n",
    "\n",
    "getPermutation(3,5)"
   ]
  },
  {
   "cell_type": "code",
   "execution_count": null,
   "metadata": {},
   "outputs": [],
   "source": []
  }
 ],
 "metadata": {
  "kernelspec": {
   "display_name": "Python 3",
   "language": "python",
   "name": "python3"
  },
  "language_info": {
   "codemirror_mode": {
    "name": "ipython",
    "version": 3
   },
   "file_extension": ".py",
   "mimetype": "text/x-python",
   "name": "python",
   "nbconvert_exporter": "python",
   "pygments_lexer": "ipython3",
   "version": "3.6.8"
  }
 },
 "nbformat": 4,
 "nbformat_minor": 2
}
