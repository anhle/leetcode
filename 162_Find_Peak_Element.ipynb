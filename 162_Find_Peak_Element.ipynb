{
 "cells": [
  {
   "cell_type": "markdown",
   "metadata": {},
   "source": [
    "# 162. Find Peak Element\n",
    "A peak element is an element that is greater than its neighbors.\n",
    "\n",
    "Given an input array nums, where nums[i] ≠ nums[i+1], find a peak element and return its index.\n",
    "\n",
    "The array may contain multiple peaks, in that case return the index to any one of the peaks is fine.\n",
    "\n",
    "You may imagine that nums[-1] = nums[n] = -∞.\n",
    "\n",
    "Example 1:\n",
    "\n",
    "Input: nums = [1,2,3,1]\n",
    "Output: 2\n",
    "Explanation: 3 is a peak element and your function should return the index number 2."
   ]
  },
  {
   "cell_type": "markdown",
   "metadata": {},
   "source": [
    "## Approach 2: Recursive Binary Search\n",
    "Algorithm\n",
    "\n",
    "We can view any given sequence in numsnums array as alternating ascending and descending sequences. By making use of this, and the fact that we can return any peak as the result, we can make use of Binary Search to find the required peak element.\n",
    "\n",
    "In case of simple Binary Search, we work on a sorted sequence of numbers and try to find out the required number by reducing the search space at every step. In this case, we use a modification of this simple Binary Search to our advantage. We start off by finding the middle element, midmid from the given numsnums array. If this element happens to be lying in a descending sequence of numbers. or a local falling slope(found by comparing nums[i]nums[i] to its right neighbour), it means that the peak will always lie towards the left of this element. Thus, we reduce the search space to the left of midmid(including itself) and perform the same process on left subarray.\n",
    "\n",
    "If the middle element, midmid lies in an ascending sequence of numbers, or a rising slope(found by comparing nums[i]nums[i] to its right neighbour), it obviously implies that the peak lies towards the right of this element. Thus, we reduce the search space to the right of midmid and perform the same process on the right subarray.\n",
    "\n",
    "In this way, we keep on reducing the search space till we eventually reach a state where only one element is remaining in the search space. This single element is the peak element."
   ]
  },
  {
   "cell_type": "code",
   "execution_count": 1,
   "metadata": {},
   "outputs": [
    {
     "data": {
      "text/plain": [
       "5"
      ]
     },
     "execution_count": 1,
     "metadata": {},
     "output_type": "execute_result"
    }
   ],
   "source": [
    "def findPeakElement(nums):\n",
    "    lo,hi = 0,len(nums)-1\n",
    "    while lo < hi:\n",
    "        mid = (lo+hi)//2\n",
    "        if nums[mid] < nums[mid+1]: # ascending trend, peak will lies toward the right\n",
    "            lo = mid +1\n",
    "        else:\n",
    "            hi = mid\n",
    "    return lo\n",
    "\n",
    "findPeakElement([1,2,1,3,5,6,4])"
   ]
  },
  {
   "cell_type": "code",
   "execution_count": null,
   "metadata": {},
   "outputs": [],
   "source": []
  }
 ],
 "metadata": {
  "kernelspec": {
   "display_name": "Python 3",
   "language": "python",
   "name": "python3"
  },
  "language_info": {
   "codemirror_mode": {
    "name": "ipython",
    "version": 3
   },
   "file_extension": ".py",
   "mimetype": "text/x-python",
   "name": "python",
   "nbconvert_exporter": "python",
   "pygments_lexer": "ipython3",
   "version": "3.6.8"
  }
 },
 "nbformat": 4,
 "nbformat_minor": 2
}
