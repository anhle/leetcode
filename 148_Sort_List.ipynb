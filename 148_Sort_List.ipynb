{
 "cells": [
  {
   "cell_type": "markdown",
   "metadata": {},
   "source": [
    "## 148. Sort List\n",
    "Sort a linked list in O(n log n) time using constant space complexity.\n",
    "\n",
    "Example 1:\n",
    "\n",
    "Input: 4->2->1->3\n",
    "\n",
    "Output: 1->2->3->4"
   ]
  },
  {
   "cell_type": "code",
   "execution_count": null,
   "metadata": {},
   "outputs": [],
   "source": [
    "def sortList(head):\n",
    "    if not head or not head.next:\n",
    "        return head\n",
    "    pre,slow,fast = None,head,head\n",
    "    # slit list in the middle using fast and slow pointer\n",
    "    while fast and fast.next:\n",
    "        pre,slow,fast = slow,slow.next,fast.next.next\n",
    "    pre.next = None\n",
    "\n",
    "    l1,l2 = self.sortList(head),self.sortList(slow)\n",
    "    return self.mergeList(l1,l2)\n",
    "\n",
    "def mergeList(l1,l2):\n",
    "    dummy = tail = ListNode(None)\n",
    "    while l1 and l2:\n",
    "        print(l1.val,l2.val)\n",
    "        if l1.val < l2.val:\n",
    "            tail.next = l1\n",
    "            l1 = l1.next\n",
    "        else:\n",
    "            tail.next = l2\n",
    "            l2 = l2.next\n",
    "        tail = tail.next"
   ]
  },
  {
   "cell_type": "markdown",
   "metadata": {},
   "source": [
    "## 21. Merge Two Sorted Lists\n",
    "Merge two sorted linked lists and return it as a new list. The new list should be made by splicing together the nodes of the first two lists.\n",
    "\n",
    "Example:\n",
    "\n",
    "Input: 1->2->4, 1->3->4\n",
    "Output: 1->1->2->3->4->4"
   ]
  }
 ],
 "metadata": {
  "kernelspec": {
   "display_name": "Python 3",
   "language": "python",
   "name": "python3"
  },
  "language_info": {
   "codemirror_mode": {
    "name": "ipython",
    "version": 3
   },
   "file_extension": ".py",
   "mimetype": "text/x-python",
   "name": "python",
   "nbconvert_exporter": "python",
   "pygments_lexer": "ipython3",
   "version": "3.6.8"
  }
 },
 "nbformat": 4,
 "nbformat_minor": 2
}
