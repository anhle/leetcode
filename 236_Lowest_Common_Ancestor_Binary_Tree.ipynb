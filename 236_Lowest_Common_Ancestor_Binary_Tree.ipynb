{
 "cells": [
  {
   "cell_type": "markdown",
   "metadata": {},
   "source": [
    "# 236. Lowest Common Ancestor of a Binary Tree\n",
    "Given a binary tree, find the lowest common ancestor (LCA) of two given nodes in the tree.\n",
    "\n",
    "According to the definition of LCA on Wikipedia: “The lowest common ancestor is defined between two nodes p and q as the lowest node in T that has both p and q as descendants (where we allow a node to be a descendant of itself).”\n",
    "\n",
    "Given the following binary tree:  root = [3,5,1,6,2,0,8,null,null,7,4]\n",
    "\n",
    "             3\n",
    "           /  \\\n",
    "          5    1\n",
    "         / \\  / \\\n",
    "        6   2 0  8\n",
    "           / \\\n",
    "          7  4\n",
    "\n",
    "\n",
    "Example 1:\n",
    "\n",
    "Input: root = [3,5,1,6,2,0,8,null,null,7,4], p = 5, q = 1\n",
    "Output: 3\n",
    "Explanation: The LCA of nodes 5 and 1 is 3."
   ]
  },
  {
   "cell_type": "markdown",
   "metadata": {},
   "source": [
    "## Intuition\n",
    "We can resort to a normal tree traversal to search for the two nodes. Once we reach the desired nodes p and q, we can backtrack and find the lowest common ancestor.\n",
    "\n",
    "## Aproach 1: Recursive Approach\n",
    "\n",
    "Intuition\n",
    "\n",
    "The approach is pretty intuitive. Traverse the tree in a depth first manner. The moment you encounter either of the nodes p or q, return some boolean flag. The flag helps to determine if we found the required nodes in any of the paths. The least common ancestor would then be the node for which both the subtree recursions return a True flag. It can also be the node which itself is one of p or q and for which one of the subtree recursions returns a True flag.\n",
    "\n",
    "Let us look at the formal algorithm based on this idea."
   ]
  },
  {
   "cell_type": "code",
   "execution_count": null,
   "metadata": {},
   "outputs": [],
   "source": [
    "def lowestCommonAncestor(self, root: 'TreeNode', p: 'TreeNode', q: 'TreeNode') -> 'TreeNode':\n",
    "    res = None\n",
    "    def helper(current_node):\n",
    "        # if reach the end of branch or found p or q\n",
    "        if not current_node or current_node == p or current_node == q:\n",
    "            return current_node\n",
    "        # Search left subtree and right subtree to get information from its chidren\n",
    "        left = helper(current_node.left)\n",
    "        right = helper(current_node.right)\n",
    "\n",
    "        # if p and q from different side of root\n",
    "        if left and right:\n",
    "            return current_node\n",
    "        # return non null result\n",
    "        return left or right\n",
    "\n",
    "    return helper(root)"
   ]
  },
  {
   "cell_type": "code",
   "execution_count": null,
   "metadata": {},
   "outputs": [],
   "source": [
    "def lowestCommonAncestor(self, root: 'TreeNode', p: 'TreeNode', q: 'TreeNode') -> 'TreeNode':\n",
    "    if root in (None,p,q):\n",
    "        return root\n",
    "    left,right = self.lowestCommonAncestor(root.left,p,q),self.lowestCommonAncestor(root.right,p,q)\n",
    "    return root if left and right else left or right"
   ]
  },
  {
   "cell_type": "markdown",
   "metadata": {},
   "source": [
    "## Approach 2: Iterative using parent pointers\n",
    "Intuition\n",
    "\n",
    "If we have parent pointers for each node we can traverse back from p and q to get their ancestors. The first common node we get during this traversal would be the LCA node. We can save the parent pointers in a dictionary as we traverse the tree.\n",
    "\n",
    "Algorithm\n",
    "\n",
    "- Start from the root node and traverse the tree.\n",
    "- Until we find p and q both, keep storing the parent pointers in a dictionary.\n",
    "- Once we have found both p and q, we get all the ancestors for p using the parent dictionary and add to a set called ancestors.\n",
    "- Similarly, we traverse through ancestors for node q. If the ancestor is present in the ancestors set for p, this means this is the first ancestor common between p and q (while traversing upwards) and hence this is the LCA node."
   ]
  },
  {
   "cell_type": "code",
   "execution_count": null,
   "metadata": {},
   "outputs": [],
   "source": [
    "def lowestCommonAncestor(self, root: 'TreeNode', p: 'TreeNode', q: 'TreeNode') -> 'TreeNode':\n",
    "    # stack for tree traversal\n",
    "    stack = [root]\n",
    "    # Dictionary for parent pointer\n",
    "    parent = {root:None}\n",
    "    #traverse ultil we find both  p and q, keep store parent pointer\n",
    "    while p not in parent or q not in parent:\n",
    "        node = stack.pop()\n",
    "        if node.left:\n",
    "            parent[node.left] = node\n",
    "            stack.append(node.left)\n",
    "        if node.right:\n",
    "            parent[node.right] = node\n",
    "            stack.append(node.right)\n",
    "    #traverse through parent pointer to get all ancestor of p\n",
    "    ancestors = set()\n",
    "    while p:\n",
    "        ancestors.add(p)\n",
    "        p = parent[p]\n",
    "    # traverse through parent pointer of node q\n",
    "    while q not in ancestors:\n",
    "        q = parent[q]\n",
    "\n",
    "    return q"
   ]
  }
 ],
 "metadata": {
  "kernelspec": {
   "display_name": "Python 3",
   "language": "python",
   "name": "python3"
  },
  "language_info": {
   "codemirror_mode": {
    "name": "ipython",
    "version": 3
   },
   "file_extension": ".py",
   "mimetype": "text/x-python",
   "name": "python",
   "nbconvert_exporter": "python",
   "pygments_lexer": "ipython3",
   "version": "3.6.8"
  }
 },
 "nbformat": 4,
 "nbformat_minor": 2
}
