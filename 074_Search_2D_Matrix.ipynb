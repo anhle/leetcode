{
 "cells": [
  {
   "cell_type": "markdown",
   "metadata": {},
   "source": [
    "# 74. Search a 2D Matrix\n",
    "Write an efficient algorithm that searches for a value in an m x n matrix. This matrix has the following properties:\n",
    "\n",
    "Integers in each row are sorted from left to right.\n",
    "The first integer of each row is greater than the last integer of the previous row.\n",
    "Example 1:\n",
    "\n",
    "Input:\n",
    "    matrix = [\n",
    "      [1,   3,  5,  7],\n",
    "      [10, 11, 16, 20],\n",
    "      [23, 30, 34, 50]\n",
    "    ]\n",
    "target = 3\n",
    "Output: true"
   ]
  },
  {
   "cell_type": "markdown",
   "metadata": {},
   "source": [
    "Approach 1: Use binary search.\n",
    "\n",
    "* n * m matrix convert to an array => matrix[x][y] => a[x * m + y]\n",
    "\n",
    "* an array convert to n * m matrix => a[x] =>matrix[x / m][x % m];\n",
    "\n",
    "Note: \n",
    "* n*m may overflow\n",
    "* Time : O(log(mn))"
   ]
  },
  {
   "cell_type": "code",
   "execution_count": null,
   "metadata": {},
   "outputs": [],
   "source": []
  },
  {
   "cell_type": "code",
   "execution_count": 1,
   "metadata": {},
   "outputs": [
    {
     "data": {
      "text/plain": [
       "True"
      ]
     },
     "execution_count": 1,
     "metadata": {},
     "output_type": "execute_result"
    }
   ],
   "source": [
    "def searchMatrix(matrix, target):\n",
    "    if not matrix:\n",
    "        return False\n",
    "\n",
    "    n,m = len(matrix),len(matrix[0])\n",
    "    left,right = 0,(m*n)-1\n",
    "\n",
    "    while left <= right:\n",
    "        mid = left + (right-left)//2\n",
    "        if matrix[mid//m][mid%m] < target:\n",
    "            left = mid +1\n",
    "        elif matrix[mid//m][mid%m] > target:\n",
    "            right = mid -1\n",
    "        else:\n",
    "            return True\n",
    "    return False\n",
    "\n",
    "searchMatrix([[1,3,5,7],[10,11,16,20],[23,30,34,50]],3)"
   ]
  },
  {
   "cell_type": "markdown",
   "metadata": {},
   "source": [
    "## Approach 2: \n",
    "No, if we search row, then column, time complexity is O((logm) + (logn)). Which is O(log(mn))."
   ]
  },
  {
   "cell_type": "code",
   "execution_count": null,
   "metadata": {},
   "outputs": [],
   "source": [
    "## Approach 3:\n",
    "Eliminating one row/one column at a time. (binary search without worrying about overflow)\n",
    "\n",
    "start from top-rightmost element in matrix (matrix[0][n-1]) and remove row if target is greater than matrix[0][n-1] or remove column if target is lesser than matrix[0][n-1].\n",
    "repeat step 1 until you find the element!"
   ]
  },
  {
   "cell_type": "code",
   "execution_count": 2,
   "metadata": {},
   "outputs": [
    {
     "data": {
      "text/plain": [
       "True"
      ]
     },
     "execution_count": 2,
     "metadata": {},
     "output_type": "execute_result"
    }
   ],
   "source": [
    "def searchMatrix(matrix, target):\n",
    "    if not matrix: \n",
    "        return False\n",
    "    m,n = len(matrix),len(matrix[0])\n",
    "    # start from top rightmost\n",
    "    i,j = 0,n-1\n",
    "    while i < m and j >= 0:\n",
    "        if matrix[i][j] == target:\n",
    "            return True\n",
    "        elif matrix[i][j] < target: # remove colum\n",
    "            i += 1\n",
    "        else: # remove row\n",
    "            j -= 1\n",
    "    return False\n",
    "searchMatrix([[1,3,5,7],[10,11,16,20],[23,30,34,50]],3)"
   ]
  },
  {
   "cell_type": "code",
   "execution_count": null,
   "metadata": {},
   "outputs": [],
   "source": []
  }
 ],
 "metadata": {
  "kernelspec": {
   "display_name": "Python 3",
   "language": "python",
   "name": "python3"
  },
  "language_info": {
   "codemirror_mode": {
    "name": "ipython",
    "version": 3
   },
   "file_extension": ".py",
   "mimetype": "text/x-python",
   "name": "python",
   "nbconvert_exporter": "python",
   "pygments_lexer": "ipython3",
   "version": "3.6.8"
  }
 },
 "nbformat": 4,
 "nbformat_minor": 2
}
