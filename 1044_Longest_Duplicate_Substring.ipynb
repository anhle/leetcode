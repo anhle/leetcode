{
 "cells": [
  {
   "cell_type": "markdown",
   "metadata": {},
   "source": [
    "# 1044. Longest Duplicate Substring\n",
    "Given a string S, consider all duplicated substrings: (contiguous) substrings of S that occur 2 or more times.  (The occurrences may overlap.)\n",
    "\n",
    "Return any duplicated substring that has the longest possible length.  (If S does not have a duplicated substring, the answer is \"\".)\n",
    "\n",
    " \n",
    "\n",
    "Example 1:\n",
    "\n",
    "Input: \"banana\"\n",
    "Output: \"ana\"\n",
    "Example 2:\n",
    "\n",
    "Input: \"abcd\"\n",
    "Output: \"\""
   ]
  },
  {
   "cell_type": "markdown",
   "metadata": {},
   "source": [
    "A brute-force solution would be to start from len(S) - 1 and check if there exists a duplicate substring of that size.\n",
    "We decrement the size until we find a duplicate.\n",
    "However, this solution takes O(S^3).\n",
    "There are 2 bottlenecks which make this problem difficult:\n",
    "\n",
    "1. How to search the longest length that satisfies the condition\n",
    "2. How to find a duplicate substring of a specified size\n",
    "\n",
    "For the first bottleneck, we can use binary search, because if there exists a duplicate for size i, then for all j < i, S has a substring of that size. In other words, the existance of a duplicate substring w.r.t. length has monotonicity.\n",
    "e.g.) say S = \"banana\". We have a duplicate substring of size 3 which is \"ana\". Therefore, we have duplicated substrings of size 1, 2, such as \"a\", \"an\".\n",
    "\n",
    "Now we have reduced the time to O(S^2lgS).\n",
    "Next, for the second bottleneck, we can use Rabin-Karp, using the Rolling Hash.\n",
    "Now the solution just only takes O(SlgS) expectedly. Note that you need to deal with collisions when using the Rolling Hash.\n",
    "\n",
    "Binary search the length of longest duplicate substring and call the help function test(L).\n",
    "check(L) slide a window of length L,\n",
    "rolling hash the string in this window,\n",
    "record the seen string in a hashset,\n",
    "and try to find duplicated string.\n",
    "\n",
    "Complexity:\n",
    "* Time: O(NlogN)\n",
    "* SpaceO(N)"
   ]
  },
  {
   "cell_type": "code",
   "execution_count": 2,
   "metadata": {},
   "outputs": [
    {
     "name": "stdout",
     "output_type": "stream",
     "text": [
      "[1, 0, 13, 0, 13, 0]\n"
     ]
    },
    {
     "data": {
      "text/plain": [
       "'ana'"
      ]
     },
     "execution_count": 2,
     "metadata": {},
     "output_type": "execute_result"
    }
   ],
   "source": [
    "from functools import reduce\n",
    "def longestDupSubstring(S: str) -> str:\n",
    "    char2int = [ord(ch)-ord('a') for ch in S]\n",
    "    mod = 2**63-1\n",
    "\n",
    "\n",
    "    def check(L):\n",
    "        p = pow(26,L,mod)\n",
    "        cur = reduce(lambda x,y: (x * 26 +y)%mod,char2int[:L],0)\n",
    "        seen = {cur}\n",
    "        for i in range(L,len(S)):\n",
    "            cur = (cur * 26 + char2int[i] - char2int[i-L]*p)%mod\n",
    "            if cur in seen:\n",
    "                return i - L + 1\n",
    "            seen.add(cur)\n",
    "\n",
    "    res = 0\n",
    "    lo,hi = 0,len(S)\n",
    "    while lo < hi:\n",
    "        mid = (lo+hi+1)//2\n",
    "        pos = check(mid)\n",
    "        if pos:\n",
    "            lo = mid\n",
    "            res = pos\n",
    "        else:\n",
    "            hi = mid -1\n",
    "    return S[res:res+lo]\n",
    "longestDupSubstring(\"banana\")"
   ]
  },
  {
   "cell_type": "code",
   "execution_count": null,
   "metadata": {},
   "outputs": [],
   "source": []
  }
 ],
 "metadata": {
  "kernelspec": {
   "display_name": "Python 3",
   "language": "python",
   "name": "python3"
  },
  "language_info": {
   "codemirror_mode": {
    "name": "ipython",
    "version": 3
   },
   "file_extension": ".py",
   "mimetype": "text/x-python",
   "name": "python",
   "nbconvert_exporter": "python",
   "pygments_lexer": "ipython3",
   "version": "3.6.8"
  }
 },
 "nbformat": 4,
 "nbformat_minor": 2
}
