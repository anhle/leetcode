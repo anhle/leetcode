{
 "cells": [
  {
   "cell_type": "code",
   "execution_count": null,
   "metadata": {},
   "outputs": [],
   "source": [
    "# 91. Decode Ways\n",
    "A message containing letters from A-Z is being encoded to numbers using the following mapping:\n",
    "\n",
    "'A' -> 1\n",
    "'B' -> 2\n",
    "...\n",
    "'Z' -> 26\n",
    "Given a non-empty string containing only digits, determine the total number of ways to decode it.\n",
    "\n",
    "Example 1:\n",
    "\n",
    "Input: \"12\"\n",
    "Output: 2\n",
    "Explanation: It could be decoded as \"AB\" (1 2) or \"L\" (12).\n",
    "Example 2:\n",
    "\n",
    "Input: \"226\"\n",
    "Output: 3\n",
    "Explanation: It could be decoded as \"BZ\" (2 26), \"VF\" (22 6), or \"BBF\" (2 2 6)."
   ]
  },
  {
   "cell_type": "code",
   "execution_count": 1,
   "metadata": {},
   "outputs": [
    {
     "data": {
      "text/plain": [
       "3"
      ]
     },
     "execution_count": 1,
     "metadata": {},
     "output_type": "execute_result"
    }
   ],
   "source": [
    "def numDecodings(s):\n",
    "    mem = {}\n",
    "    if s =='':\n",
    "        return 0\n",
    "\n",
    "    def helper(pos):\n",
    "        if pos == len(s):\n",
    "            return 1\n",
    "        if pos == len(s) - 1:\n",
    "            return 1 if s[pos] != '0' else 0\n",
    "        if pos in mem:\n",
    "            return mem[pos]\n",
    "        if s[pos] == '0':\n",
    "            return 0\n",
    "        cnt = helper(pos+1)\n",
    "        if 0 < int(s[pos:pos+2]) <= 26:\n",
    "            cnt += helper(pos+2)\n",
    "        mem[pos] = cnt\n",
    "        return cnt\n",
    "\n",
    "    return helper(0)\n",
    "\n",
    "numDecodings(\"226\")"
   ]
  },
  {
   "cell_type": "markdown",
   "metadata": {},
   "source": [
    "dp[0] means an empty string will have one way to decode. we make dp[0] = 1 cause we have to make sure dp[2] is valid .dp[1] means the way to decode a string of size 1. I then check one digit and two digit combination and save the results along the way. In the end, dp[n] will be the end result."
   ]
  },
  {
   "cell_type": "code",
   "execution_count": 2,
   "metadata": {},
   "outputs": [
    {
     "data": {
      "text/plain": [
       "3"
      ]
     },
     "execution_count": 2,
     "metadata": {},
     "output_type": "execute_result"
    }
   ],
   "source": [
    "def numDecodings(s):\n",
    "    if not s:\n",
    "        return 0\n",
    "    n = len(s)\n",
    "    dp = [0]*(n+1)\n",
    "    dp[0] = 1\n",
    "    for i in range(1,n+1):\n",
    "        if s[i-1] != '0':\n",
    "            dp[i] += dp[i-1]\n",
    "        if len(s[i-2:i]) == 2 and '10' <= s[i-2:i] <= '26':\n",
    "            dp[i] += dp[i-2]\n",
    "    return dp[n]\n",
    "\n",
    "numDecodings(\"226\")"
   ]
  },
  {
   "cell_type": "code",
   "execution_count": null,
   "metadata": {},
   "outputs": [],
   "source": []
  }
 ],
 "metadata": {
  "kernelspec": {
   "display_name": "Python 3",
   "language": "python",
   "name": "python3"
  },
  "language_info": {
   "codemirror_mode": {
    "name": "ipython",
    "version": 3
   },
   "file_extension": ".py",
   "mimetype": "text/x-python",
   "name": "python",
   "nbconvert_exporter": "python",
   "pygments_lexer": "ipython3",
   "version": "3.6.8"
  }
 },
 "nbformat": 4,
 "nbformat_minor": 2
}
