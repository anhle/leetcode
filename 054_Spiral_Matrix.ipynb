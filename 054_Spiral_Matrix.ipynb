{
 "cells": [
  {
   "cell_type": "markdown",
   "metadata": {},
   "source": [
    "# 54. Spiral Matrix\n",
    "Given a matrix of m x n elements (m rows, n columns), return all elements of the matrix in spiral order.\n",
    "\n",
    "Example 1:\n",
    "\n",
    "Input:\n",
    "[\n",
    " [ 1, 2, 3 ],\n",
    " [ 4, 5, 6 ],\n",
    " [ 7, 8, 9 ]\n",
    "]\n",
    "Output: [1,2,3,6,9,8,7,4,5]\n"
   ]
  },
  {
   "cell_type": "code",
   "execution_count": null,
   "metadata": {},
   "outputs": [],
   "source": [
    "## Approach 1: layer bay layer"
   ]
  },
  {
   "cell_type": "code",
   "execution_count": 1,
   "metadata": {},
   "outputs": [
    {
     "data": {
      "text/plain": [
       "[1, 2, 3, 6, 9, 8, 7, 4, 5]"
      ]
     },
     "execution_count": 1,
     "metadata": {},
     "output_type": "execute_result"
    }
   ],
   "source": [
    "def spiralOrder(matrix):\n",
    "    if not matrix or not matrix[0]:\n",
    "        return []\n",
    "    res = []\n",
    "    m,n = len(matrix),len(matrix[0])\n",
    "    left,right,top,bottom = 0,n-1,0,m-1\n",
    "    while left < right and top < bottom: # matrix have 04 side\n",
    "        res.extend([matrix[top][j] for j in range(left,right)]) # top: from left,...,right-1\n",
    "        res.extend([matrix[i][right] for i in range(top,bottom)]) # right: from top,...,bottom-1\n",
    "        res.extend([matrix[bottom][j] for j in range(right,left,-1)]) # bottom: from right,...,left+1\n",
    "        res.extend([matrix[i][left] for i in range(bottom,top,-1)]) # left: from bottom,...,top+1\n",
    "        top,bottom,left,right = top +1,bottom-1,left+1,right-1\n",
    "    # matrix have 1 side\n",
    "    if left == right:\n",
    "        res.extend([matrix[i][left] for i in range(top,bottom+1)])\n",
    "    elif top == bottom:\n",
    "        res.extend([matrix[top][j] for j in range(left,right+1)])\n",
    "\n",
    "    return res\n",
    "\n",
    "spiralOrder([[1,2,3],[4,5,6],[7,8,9]])"
   ]
  },
  {
   "cell_type": "markdown",
   "metadata": {},
   "source": [
    "## Aproach 2: simulation"
   ]
  },
  {
   "cell_type": "code",
   "execution_count": 2,
   "metadata": {},
   "outputs": [
    {
     "data": {
      "text/plain": [
       "[1, 2, 3, 6, 9, 8, 7, 4, 5]"
      ]
     },
     "execution_count": 2,
     "metadata": {},
     "output_type": "execute_result"
    }
   ],
   "source": [
    "def spiralOrder(matrix):\n",
    "    if not matrix or not matrix[0]:\n",
    "        return []\n",
    "    res = []\n",
    "    m,n = len(matrix),len(matrix[0])\n",
    "    left,right,top,bottom = 0,n-1,0,m-1\n",
    "    while left <= right and top <= bottom: \n",
    "        res.extend(matrix[top][left:right+1]) # top: left to right\n",
    "        top +=1            \n",
    "        res.extend([matrix[i][right] for i in range(top,bottom+1)]) # right\n",
    "        right -=1\n",
    "        if top <= bottom:\n",
    "            res.extend(matrix[bottom][left:right+1][::-1])\n",
    "            bottom -= 1\n",
    "        if left <= right:\n",
    "            res.extend([matrix[i][left] for i in range(bottom,top-1,-1)])\n",
    "            left += 1\n",
    "\n",
    "    return res\n",
    "spiralOrder([[1,2,3],[4,5,6],[7,8,9]])"
   ]
  },
  {
   "cell_type": "markdown",
   "metadata": {},
   "source": [
    "## Recursive\n",
    "Visualization\n",
    "Here's how the matrix changes by always extracting the first row and rotating the remaining matrix counter-clockwise:\n",
    "\n",
    "    |1 2 3|      |6 9|      |8 7|      |4|  =>  |5|  =>  ||\n",
    "    |4 5 6|  =>  |5 8|  =>  |5 4|  =>  |5|\n",
    "    |7 8 9|      |4 7|\n",
    "Now look at the first rows we extracted:\n",
    "\n",
    "    |1 2 3|      |6 9|      |8 7|      |4|      |5|"
   ]
  },
  {
   "cell_type": "code",
   "execution_count": 5,
   "metadata": {},
   "outputs": [
    {
     "data": {
      "text/plain": [
       "[1, 2, 3, 6, 9, 8, 7, 4, 5]"
      ]
     },
     "execution_count": 5,
     "metadata": {},
     "output_type": "execute_result"
    }
   ],
   "source": [
    "def spiralOrder(matrix):\n",
    "    return matrix and [*matrix.pop(0)] + spiralOrder([*zip(*matrix)][::-1])\n",
    "    \n",
    "spiralOrder([[1,2,3],[4,5,6],[7,8,9]])"
   ]
  },
  {
   "cell_type": "code",
   "execution_count": null,
   "metadata": {},
   "outputs": [],
   "source": []
  }
 ],
 "metadata": {
  "kernelspec": {
   "display_name": "Python 3",
   "language": "python",
   "name": "python3"
  },
  "language_info": {
   "codemirror_mode": {
    "name": "ipython",
    "version": 3
   },
   "file_extension": ".py",
   "mimetype": "text/x-python",
   "name": "python",
   "nbconvert_exporter": "python",
   "pygments_lexer": "ipython3",
   "version": "3.6.8"
  }
 },
 "nbformat": 4,
 "nbformat_minor": 2
}
