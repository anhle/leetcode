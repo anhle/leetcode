{
 "cells": [
  {
   "cell_type": "markdown",
   "metadata": {},
   "source": [
    "This problem was asked by Microsoft.\n",
    "\n",
    "Suppose an arithmetic expression is given as a binary tree. Each leaf is an integer and each internal node is one of '+', '−', '∗', or '/'.\n",
    "\n",
    "Given the root to such a tree, write a function to evaluate it.\n",
    "\n",
    "For example, given the following tree:\n",
    "\n",
    "        *\n",
    "       / \\\n",
    "      +    +\n",
    "     / \\  / \\\n",
    "    3  2  4  5\n",
    "    \n",
    "You should return 45, as it is (3 + 2) * (4 + 5)."
   ]
  },
  {
   "cell_type": "code",
   "execution_count": 5,
   "metadata": {},
   "outputs": [
    {
     "data": {
      "text/plain": [
       "45.0"
      ]
     },
     "execution_count": 5,
     "metadata": {},
     "output_type": "execute_result"
    }
   ],
   "source": [
    "class Node:\n",
    "    def __init__(self, val):\n",
    "        self.val = val\n",
    "        self.left = None\n",
    "        self.right = None\n",
    "\n",
    "\n",
    "def solve_graph(root):\n",
    "    if root.val.isnumeric():\n",
    "        return float(root.val)\n",
    "    return eval(\"{} {} {}\".format(solve_graph(root.left), root.val,solve_graph(root.right)))\n",
    "\n",
    "d = Node(\"3\")\n",
    "e = Node(\"2\")\n",
    "f = Node(\"4\")\n",
    "g = Node(\"5\")\n",
    "\n",
    "b = Node(\"+\")\n",
    "b.left = d\n",
    "b.right = e\n",
    "\n",
    "c = Node(\"+\")\n",
    "c.left = f\n",
    "c.right = g\n",
    "\n",
    "a = Node(\"*\")\n",
    "a.left = b\n",
    "a.right = c\n",
    "solve_graph(a)"
   ]
  },
  {
   "cell_type": "code",
   "execution_count": null,
   "metadata": {},
   "outputs": [],
   "source": []
  }
 ],
 "metadata": {
  "kernelspec": {
   "display_name": "Python 3",
   "language": "python",
   "name": "python3"
  },
  "language_info": {
   "codemirror_mode": {
    "name": "ipython",
    "version": 3
   },
   "file_extension": ".py",
   "mimetype": "text/x-python",
   "name": "python",
   "nbconvert_exporter": "python",
   "pygments_lexer": "ipython3",
   "version": "3.6.8"
  }
 },
 "nbformat": 4,
 "nbformat_minor": 2
}
