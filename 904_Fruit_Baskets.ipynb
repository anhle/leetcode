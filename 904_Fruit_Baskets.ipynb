{
 "cells": [
  {
   "cell_type": "markdown",
   "metadata": {},
   "source": [
    "# 904. Fruit Into Baskets\n",
    "In a row of trees, the i-th tree produces fruit with type tree[i].\n",
    "\n",
    "You start at any tree of your choice, then repeatedly perform the following steps:\n",
    "\n",
    "Add one piece of fruit from this tree to your baskets.  If you cannot, stop.\n",
    "Move to the next tree to the right of the current tree.  If there is no tree to the right, stop.\n",
    "Note that you do not have any choice after the initial choice of starting tree: you must perform step 1, then step 2, then back to step 1, then step 2, and so on until you stop.\n",
    "\n",
    "You have two baskets, and each basket can carry any quantity of fruit, but you want each basket to only carry one type of fruit each.\n",
    "\n",
    "What is the total amount of fruit you can collect with this procedure?\n",
    "\n",
    " \n",
    "\n",
    "Example 1:\n",
    "\n",
    "Input: [1,2,1]\n",
    "Output: 3\n",
    "Explanation: We can collect [1,2,1].\n",
    "Example 2:\n",
    "\n",
    "Input: [0,1,2,2]\n",
    "Output: 3\n",
    "Explanation: We can collect [1,2,2].\n",
    "If we started at the first tree, we would only collect [0, 1]."
   ]
  },
  {
   "cell_type": "markdown",
   "metadata": {},
   "source": [
    "## Approach 2: Sliding Window\n",
    "Intuition\n",
    "\n",
    "As in Approach 1, we want the longest subarray with at most two different \"types\" (values of tree[i]). Call these subarrays valid.\n",
    "\n",
    "Say we consider all valid subarrays that end at index j. There must be one with the smallest possible starting index i: lets say opt(j) = i.\n",
    "\n",
    "Now the key idea is that opt(j) is a monotone increasing function. This is because any subarray of a valid subarray is valid.\n",
    "\n",
    "Algorithm\n",
    "\n",
    "Let's perform a sliding window, keeping the loop invariant that i will be the smallest index for which [i, j] is a valid subarray.\n",
    "\n",
    "We'll maintain count, the count of all the elements in the subarray. This allows us to quickly query whether there are 3 types in the subarray or not."
   ]
  },
  {
   "cell_type": "code",
   "execution_count": 2,
   "metadata": {},
   "outputs": [
    {
     "data": {
      "text/plain": [
       "5"
      ]
     },
     "execution_count": 2,
     "metadata": {},
     "output_type": "execute_result"
    }
   ],
   "source": [
    "import collections\n",
    "def totalFruit(tree):\n",
    "    # find out the longest substring with at most k distict characters\n",
    "    # sliding window [i,j] is a valid subarray\n",
    "    # maintain count: count all the elements in valid subarray\n",
    "    res,i = 0,0\n",
    "    count = collections.Counter()\n",
    "    for j,x in enumerate(tree):\n",
    "        count[x] = count.get(x,0) + 1\n",
    "        while len(count) > 2: # maintain valid subarray\n",
    "            count[tree[i]] -= 1 \n",
    "            if count[tree[i]] == 0: #if there no type tree[i] any more\n",
    "                del count[tree[i]]\n",
    "            i += 1 # move the next start\n",
    "        res = max(res,j-i+1)\n",
    "    return res\n",
    "\n",
    "totalFruit([3,3,3,1,2,1,1,2,3,3,4])"
   ]
  },
  {
   "cell_type": "code",
   "execution_count": null,
   "metadata": {},
   "outputs": [],
   "source": []
  },
  {
   "cell_type": "code",
   "execution_count": null,
   "metadata": {},
   "outputs": [],
   "source": []
  }
 ],
 "metadata": {
  "kernelspec": {
   "display_name": "Python 3",
   "language": "python",
   "name": "python3"
  },
  "language_info": {
   "codemirror_mode": {
    "name": "ipython",
    "version": 3
   },
   "file_extension": ".py",
   "mimetype": "text/x-python",
   "name": "python",
   "nbconvert_exporter": "python",
   "pygments_lexer": "ipython3",
   "version": "3.6.8"
  }
 },
 "nbformat": 4,
 "nbformat_minor": 2
}
