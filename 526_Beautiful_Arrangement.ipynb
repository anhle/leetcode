{
 "cells": [
  {
   "cell_type": "markdown",
   "metadata": {},
   "source": [
    "# 526. Beautiful Arrangement\n",
    "Suppose you have N integers from 1 to N. We define a beautiful arrangement as an array that is constructed by these N numbers successfully if one of the following is true for the ith position (1 <= i <= N) in this array:\n",
    "\n",
    "The number at the ith position is divisible by i.\n",
    "i is divisible by the number at the ith position.\n",
    " \n",
    "\n",
    "Now given N, how many beautiful arrangements can you construct?\n",
    "\n",
    "Example 1:\n",
    "\n",
    "Input: 2\n",
    "Output: 2\n",
    "Explanation: \n",
    "\n",
    "The first beautiful arrangement is [1, 2]:\n",
    "\n",
    "Number at the 1st position (i=1) is 1, and 1 is divisible by i (i=1).\n",
    "\n",
    "Number at the 2nd position (i=2) is 2, and 2 is divisible by i (i=2).\n",
    "\n",
    "The second beautiful arrangement is [2, 1]:\n",
    "\n",
    "Number at the 1st position (i=1) is 2, and 2 is divisible by i (i=1).\n",
    "\n",
    "Number at the 2nd position (i=2) is 1, and i (i=2) is divisible by 1."
   ]
  },
  {
   "cell_type": "markdown",
   "metadata": {},
   "source": [
    "## Aproach 1: depth first search\n",
    "simple DFS solution, inspired by common topics like subset, combinations..."
   ]
  },
  {
   "cell_type": "code",
   "execution_count": 1,
   "metadata": {},
   "outputs": [
    {
     "data": {
      "text/plain": [
       "10"
      ]
     },
     "execution_count": 1,
     "metadata": {},
     "output_type": "execute_result"
    }
   ],
   "source": [
    "def countArrangement(N: int) -> int:\n",
    "    def count(i,X):\n",
    "        if i > N:\n",
    "            return 1\n",
    "        return sum(count(i+1,X-{x})\n",
    "                   for x in X\n",
    "                   if x % i == 0 or i % x == 0\n",
    "                  )\n",
    "    return count(1,set(range(1,N+1)))\n",
    "\n",
    "countArrangement(5)"
   ]
  },
  {
   "cell_type": "markdown",
   "metadata": {},
   "source": [
    "Note that my i goes downwards, from N to 1. Because position i = 1 can hold any number, so I don't even have to check whether the last remaining number fits there. Also, position i = 2 happily holds every second number and i = 3 happily holds every third number, so filling the lowest positions last has a relatively high chance of success. In other words, it's relatively hard to end up with dead ends this way.\n",
    "\n",
    "if you save your pre-compute result, the runtime can be further reduced to within 100ms."
   ]
  },
  {
   "cell_type": "code",
   "execution_count": null,
   "metadata": {},
   "outputs": [],
   "source": [
    "def countArrangement(self, N):\n",
    "    memo = {}\n",
    "    def backtrack(i,X, memo):\n",
    "        if i > N:\n",
    "            return 1\n",
    "        if X not in memo:\n",
    "            sum = 0\n",
    "            for x in X:\n",
    "                if x % i == 0 or i % x == 0:\n",
    "                    sum += backtrack(i+1,X-{x},memo)\n",
    "            memo[X] = sum\n",
    "        return memo[X]\n",
    "    return backtrack(1,frozenset(range(1,N+1)),memo)"
   ]
  },
  {
   "cell_type": "code",
   "execution_count": null,
   "metadata": {},
   "outputs": [],
   "source": [
    "def countArrangement(self, N: int) -> int:\n",
    "    def count(i, X, memo = {}):\n",
    "        if i < 2:\n",
    "            return 1\n",
    "        if X not in memo:\n",
    "            memo[X] = sum( count(i-1, X-{x})\n",
    "                          for x in X\n",
    "                          if x % i == 0 or i % x == 0\n",
    "                         )\n",
    "        return memo[X]\n",
    "    return count(N,frozenset(range(1,N+1)))"
   ]
  }
 ],
 "metadata": {
  "kernelspec": {
   "display_name": "Python 3",
   "language": "python",
   "name": "python3"
  },
  "language_info": {
   "codemirror_mode": {
    "name": "ipython",
    "version": 3
   },
   "file_extension": ".py",
   "mimetype": "text/x-python",
   "name": "python",
   "nbconvert_exporter": "python",
   "pygments_lexer": "ipython3",
   "version": "3.6.8"
  }
 },
 "nbformat": 4,
 "nbformat_minor": 2
}
