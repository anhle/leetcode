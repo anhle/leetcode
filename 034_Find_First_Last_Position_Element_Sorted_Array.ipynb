{
 "cells": [
  {
   "cell_type": "markdown",
   "metadata": {},
   "source": [
    "# 34. Find First and Last Position of Element in Sorted Array\n",
    "Given an array of integers nums sorted in ascending order, find the starting and ending position of a given target value.\n",
    "\n",
    "Your algorithm's runtime complexity must be in the order of O(log n).\n",
    "\n",
    "If the target is not found in the array, return [-1, -1].\n",
    "\n",
    "Example 1:\n",
    "\n",
    "Input: nums = [5,7,7,8,8,10], target = 8\n",
    "Output: [3,4]\n",
    "Example 2:\n",
    "\n",
    "Input: nums = [5,7,7,8,8,10], target = 6\n",
    "Output: [-1,-1]"
   ]
  },
  {
   "cell_type": "markdown",
   "metadata": {},
   "source": [
    "## Approach 1: 1 binary search and then linear search left and right\n",
    "    * Time: worst case O(n)\n",
    "    * Space : O(1)"
   ]
  },
  {
   "cell_type": "code",
   "execution_count": 1,
   "metadata": {},
   "outputs": [
    {
     "data": {
      "text/plain": [
       "[3, 4]"
      ]
     },
     "execution_count": 1,
     "metadata": {},
     "output_type": "execute_result"
    }
   ],
   "source": [
    "def searchRange(nums, target):\n",
    "    if not nums:\n",
    "        return [-1,-1]\n",
    "    left,right = 0,len(nums)-1\n",
    "    while left <= right:\n",
    "        mid = (left+right)//2\n",
    "        if nums[mid] < target:\n",
    "            left = mid +1\n",
    "        elif nums[mid] > target:\n",
    "            right = mid -1\n",
    "        else:\n",
    "            start,end = mid,mid\n",
    "            while start-1 >= left and nums[start-1] == target:\n",
    "                start -= 1\n",
    "            while end +1 <= right and nums[end+1] == target:\n",
    "                end += 1\n",
    "            return [start,end]\n",
    "    return [-1,-1]\n",
    "searchRange([5,7,7,8,8,10],8)"
   ]
  },
  {
   "cell_type": "markdown",
   "metadata": {},
   "source": [
    "## Approach 2: Binary Search\n",
    "Intuition\n",
    "\n",
    "Because the array is sorted, we can use binary search to locate the left and rightmost indices.\n",
    "\n",
    "Algorithm\n",
    "\n",
    "The overall algorithm works fairly similarly to the linear scan approach, except for the subroutine used to find the left and rightmost indices themselves. Here, we use a modified binary search to search a sorted array, with a few minor adjustments. First, because we are locating the leftmost (or rightmost) index containing target (rather than returning true iff we find target), the algorithm does not terminate as soon as we find a match. Instead, we continue to search until lo == hi and they contain some index at which target can be found.\n",
    "\n",
    "The other change is the introduction of the left parameter, which is a boolean indicating what to do in the event that target == nums[mid]; if left is true, then we \"recurse\" on the left subarray on ties. Otherwise, we go right. To see why this is correct, consider the situation where we find target at index i. The leftmost target cannot occur at any index greater than i, so we never need to consider the right subarray. The same argument applies to the rightmost index."
   ]
  },
  {
   "cell_type": "code",
   "execution_count": null,
   "metadata": {},
   "outputs": [],
   "source": [
    "def searchRange(nums, target):\n",
    "    if not nums:\n",
    "        return [-1,-1]\n",
    "    start,end = -1,-1\n",
    "    lo,hi = 0,len(nums)-1\n",
    "    # search the first occurence\n",
    "    while lo < hi:\n",
    "        mid = (lo+hi)//2\n",
    "        if nums[mid] < target:\n",
    "            lo = mid +1\n",
    "        else:\n",
    "            hi = mid\n",
    "    print(lo)\n",
    "    if nums[lo] != target: # not found\n",
    "        return [-1,-1]\n",
    "    start = lo\n",
    "    lo,hi = start,len(nums)-1\n",
    "    while lo < hi:\n",
    "        mid = int((lo + hi)/2 + 1)\n",
    "        if nums[mid] == target:\n",
    "            lo = mid\n",
    "        else:\n",
    "            hi = mid -1\n",
    "    end = lo\n",
    "    return [start,end]\n",
    " "
   ]
  },
  {
   "cell_type": "markdown",
   "metadata": {},
   "source": [
    "## Approach 3:  Two binary searches\n"
   ]
  },
  {
   "cell_type": "code",
   "execution_count": 2,
   "metadata": {},
   "outputs": [
    {
     "name": "stdout",
     "output_type": "stream",
     "text": [
      "3\n"
     ]
    },
    {
     "data": {
      "text/plain": [
       "[3, 4]"
      ]
     },
     "execution_count": 2,
     "metadata": {},
     "output_type": "execute_result"
    }
   ],
   "source": [
    "def searchRange(nums, target):\n",
    "    # binary search for the first occurence index \n",
    "    def search(t):\n",
    "        lo,hi = 0, len(nums)\n",
    "        while lo < hi :\n",
    "            mid = ( lo + hi)//2\n",
    "            if nums[mid] >= t:\n",
    "                hi = mid\n",
    "            else:\n",
    "                lo = mid + 1\n",
    "        return lo\n",
    "\n",
    "    lo = search(target)\n",
    "    print(lo)\n",
    "    # if not found\n",
    "    if target not in nums[lo:lo+1]:\n",
    "        return [-1,-1]\n",
    "    else:\n",
    "        # find the first index I could insert (tarter +1), which is one index behind the last index containing target, so all I have left to do is subtract 1.\n",
    "        return [lo,search(target+1)-1]\n",
    "\n",
    "searchRange([5,7,7,8,8,10],8)   "
   ]
  },
  {
   "cell_type": "code",
   "execution_count": 1,
   "metadata": {},
   "outputs": [
    {
     "data": {
      "text/plain": [
       "[3, 4]"
      ]
     },
     "execution_count": 1,
     "metadata": {},
     "output_type": "execute_result"
    }
   ],
   "source": [
    "def searchRange(nums, target):\n",
    "    def search(lo, hi):\n",
    "        if nums[lo] == target == nums[hi]:\n",
    "            return [lo, hi]\n",
    "        if nums[lo] <= target <= nums[hi]:\n",
    "            mid = (lo + hi) // 2\n",
    "            l, r = search(lo, mid), search(mid+1, hi)\n",
    "            # conbine result\n",
    "            return max(l,r) if -1 in l+r else [l[0],r[1]]\n",
    "        return [-1, -1]\n",
    "\n",
    "    if not nums: return [-1,-1]\n",
    "    return search(0, len(nums)-1)\n",
    "\n",
    "searchRange([5,7,7,8,8,10],8)   "
   ]
  },
  {
   "cell_type": "code",
   "execution_count": null,
   "metadata": {},
   "outputs": [],
   "source": []
  }
 ],
 "metadata": {
  "kernelspec": {
   "display_name": "Python 3",
   "language": "python",
   "name": "python3"
  },
  "language_info": {
   "codemirror_mode": {
    "name": "ipython",
    "version": 3
   },
   "file_extension": ".py",
   "mimetype": "text/x-python",
   "name": "python",
   "nbconvert_exporter": "python",
   "pygments_lexer": "ipython3",
   "version": "3.6.8"
  }
 },
 "nbformat": 4,
 "nbformat_minor": 2
}
