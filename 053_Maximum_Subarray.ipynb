{
 "cells": [
  {
   "cell_type": "markdown",
   "metadata": {},
   "source": [
    "# 53. Maximum Subarray\n",
    "Given an integer array nums, find the contiguous subarray (containing at least one number) which has the largest sum and return its sum.\n",
    "\n",
    "Example:\n",
    "\n",
    "Input: [-2,1,-3,4,-1,2,1,-5,4],\n",
    "\n",
    "Output: 6\n",
    "Explanation: [4,-1,2,1] has the largest sum = 6.\n",
    "\n",
    "Follow up:\n",
    "\n",
    "If you have figured out the O(n) solution, try coding another solution using the divide and conquer approach, which is more subtle.\n"
   ]
  },
  {
   "cell_type": "markdown",
   "metadata": {},
   "source": [
    "## Approach1: DP\n",
    "When we are talking about DP, the first problem comes out to our mind should be: what's the statement of the sub-problem, whose format should satisfy that if we've solved a sub-problem, it would be helpful for solving the next-step sub-problem, and, thus, eventually helpful for solving the original problem.\n",
    "\n",
    "At first, I think the sub problem should look like: the maxSubArray for A[i: j]. In this way, our goal is to figure out what maxSubArray for A[0, A.length - 1]. However, if we define the format of the sub problem in this way, it's hard to find the connection from the sub problem to the original problem\n",
    "\n",
    "Here is the sub-problem we state: denote local_max[i] as the max-sub-array-sum that ends with nums[i]. The relationship between the two steps is simple: local_max[i + 1] = max (local_max[i] + nums[i + 1], nums[i + 1]) \n",
    "\n",
    "* Time O(n)\n",
    "* Space O(n)"
   ]
  },
  {
   "cell_type": "code",
   "execution_count": 1,
   "metadata": {},
   "outputs": [
    {
     "data": {
      "text/plain": [
       "6"
      ]
     },
     "execution_count": 1,
     "metadata": {},
     "output_type": "execute_result"
    }
   ],
   "source": [
    "def maxSubArray(nums) :\n",
    "    n = len(nums)\n",
    "    dp = [0]*n\n",
    "    dp[0] = nums[0]\n",
    "    for i in range(1,n):\n",
    "        dp[i] = max(dp[i-1]+nums[i],nums[i])\n",
    "    return max(dp)\n",
    "\n",
    "maxSubArray([-2,1,-3,4,-1,2,1,-5,4])"
   ]
  },
  {
   "cell_type": "markdown",
   "metadata": {},
   "source": [
    "this problem was discussed by Jon Bentley (Sep. 1984 Vol. 27 No. 9 Communications of the ACM P885)\n",
    "\n",
    "algorithm that operates on arrays: it starts at the left end (element A[1]) and scans through to the right end (element A[n]), keeping track of the maximum sum subvector seen so far. The maximum is initially A[0]. Suppose we've solved the problem for A[1 .. i - 1]; how can we extend that to A[1 .. i]? The maximum sum in the first I elements is either the maximum sum in the first i - 1 elements (which we'll call MaxSoFar), or it is that of a subvector that ends in position i (which we'll call MaxEndingHere).\n",
    "\n",
    "MaxEndingHere is either A[i] plus the previous MaxEndingHere, or just A[i], whichever is larger."
   ]
  },
  {
   "cell_type": "code",
   "execution_count": 2,
   "metadata": {},
   "outputs": [
    {
     "data": {
      "text/plain": [
       "6"
      ]
     },
     "execution_count": 2,
     "metadata": {},
     "output_type": "execute_result"
    }
   ],
   "source": [
    "def maxSubArray(nums):\n",
    "    n = len(nums)\n",
    "    maxSoFar = maxEndingHere = nums[0]\n",
    "    for i in range(1,n):\n",
    "        maxEndingHere = max(maxEndingHere + nums[i],nums[i])\n",
    "        maxSoFar = max(maxSoFar,maxEndingHere)\n",
    "    return maxSoFar\n",
    "\n",
    "maxSubArray([-2,1,-3,4,-1,2,1,-5,4])"
   ]
  },
  {
   "cell_type": "code",
   "execution_count": null,
   "metadata": {},
   "outputs": [],
   "source": []
  }
 ],
 "metadata": {
  "kernelspec": {
   "display_name": "Python 3",
   "language": "python",
   "name": "python3"
  },
  "language_info": {
   "codemirror_mode": {
    "name": "ipython",
    "version": 3
   },
   "file_extension": ".py",
   "mimetype": "text/x-python",
   "name": "python",
   "nbconvert_exporter": "python",
   "pygments_lexer": "ipython3",
   "version": "3.6.8"
  }
 },
 "nbformat": 4,
 "nbformat_minor": 2
}
