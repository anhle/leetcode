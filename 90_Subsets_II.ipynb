{
 "cells": [
  {
   "cell_type": "markdown",
   "metadata": {},
   "source": [
    "# 90. Subsets II\n",
    "Given a collection of integers that might contain duplicates, nums, return all possible subsets (the power set).\n",
    "\n",
    "Note: The solution set must not contain duplicate subsets.\n",
    "\n",
    "Example:\n",
    "\n",
    "Input: [1,2,2]\n",
    "Output:\n",
    "\n",
    "    [\n",
    "      [2],\n",
    "      [1],\n",
    "      [1,2,2],\n",
    "      [2,2],\n",
    "      [1,2],\n",
    "      []\n",
    "    ]"
   ]
  },
  {
   "cell_type": "code",
   "execution_count": 4,
   "metadata": {},
   "outputs": [
    {
     "data": {
      "text/plain": [
       "[[], [1], [1, 2], [1, 2, 2], [2], [2, 2]]"
      ]
     },
     "execution_count": 4,
     "metadata": {},
     "output_type": "execute_result"
    }
   ],
   "source": [
    "def subsetsWithDup(nums):\n",
    "    def backtrack(start, end, tmp):\n",
    "        ans.append(tmp[:])\n",
    "        for i in range(start, end):\n",
    "            if i > start and nums[i] == nums[i-1]:\n",
    "                continue\n",
    "            tmp.append(nums[i])\n",
    "            backtrack(i+1, end, tmp)\n",
    "            tmp.pop()\n",
    "    ans = []\n",
    "    nums.sort()\n",
    "    backtrack(0, len(nums), [])\n",
    "    return ans\n",
    "\n",
    "subsetsWithDup([1,2,2])"
   ]
  },
  {
   "cell_type": "code",
   "execution_count": null,
   "metadata": {},
   "outputs": [],
   "source": []
  }
 ],
 "metadata": {
  "kernelspec": {
   "display_name": "Python 3",
   "language": "python",
   "name": "python3"
  },
  "language_info": {
   "codemirror_mode": {
    "name": "ipython",
    "version": 3
   },
   "file_extension": ".py",
   "mimetype": "text/x-python",
   "name": "python",
   "nbconvert_exporter": "python",
   "pygments_lexer": "ipython3",
   "version": "3.6.8"
  }
 },
 "nbformat": 4,
 "nbformat_minor": 2
}
