{
 "cells": [
  {
   "cell_type": "markdown",
   "metadata": {},
   "source": [
    "# 703. Kth Largest Element in a Stream\n",
    "Design a class to find the kth largest element in a stream. Note that it is the kth largest element in the sorted order, not the kth distinct element.\n",
    "\n",
    "Your KthLargest class will have a constructor which accepts an integer k and an integer array nums, which contains initial elements from the stream. For each call to the method KthLargest.add, return the element representing the kth largest element in the stream.\n",
    "\n",
    "Example:\n",
    "\n",
    "int k = 3;\n",
    "int[] arr = [4,5,8,2];\n",
    "\n",
    "KthLargest kthLargest = new KthLargest(3, arr);\n",
    "kthLargest.add(3);   // returns 4\n",
    "kthLargest.add(5);   // returns 5\n",
    "kthLargest.add(10);  // returns 5\n",
    "kthLargest.add(9);   // returns 8\n",
    "kthLargest.add(4);   // returns 8\n",
    "\n",
    "Note: \n",
    "You may assume that nums' length ≥ k-1 and k ≥ 1.\n",
    "\n",
    "\n",
    "We can build a MinHeap that contains only k largest elements.\n",
    "1. On add: compare a new element x with min to decide if we should pop min and insert x take into account a case when heap_size is less than k\n",
    "2. Construction is simply calling the add function N times.\n",
    "\n",
    "Time complexity:\n",
    "\n",
    "* Construction: O(N * logK)\n",
    "* Adding: O(logK)\n",
    "* Additional memory: O(K) (can be reduced to O(1) by reusing memory of the existing array)\n"
   ]
  },
  {
   "cell_type": "code",
   "execution_count": null,
   "metadata": {},
   "outputs": [],
   "source": [
    "class KthLargest(object):\n",
    "\n",
    "    def __init__(self, k, nums):\n",
    "        \"\"\"\n",
    "        :type k: int\n",
    "        :type nums: List[int]\n",
    "        \"\"\"\n",
    "        self.k = k\n",
    "        nums.sort()\n",
    "        self.pool = nums[-k:] # invariance kth largest elements\n",
    "        heapq.heapify(self.pool)\n",
    "        \n",
    "    def add(self, val):\n",
    "        \"\"\"\n",
    "        :type val: int\n",
    "        :rtype: int\n",
    "        \"\"\"\n",
    "        if len(self.pool) < self.k:\n",
    "            heapq.heappush(self.pool,val)\n",
    "        elif val > self.pool[0]:\n",
    "            heapq.heapreplace(self.pool,val)\n",
    "        return self.pool[0]"
   ]
  }
 ],
 "metadata": {
  "kernelspec": {
   "display_name": "Python 3",
   "language": "python",
   "name": "python3"
  },
  "language_info": {
   "codemirror_mode": {
    "name": "ipython",
    "version": 3
   },
   "file_extension": ".py",
   "mimetype": "text/x-python",
   "name": "python",
   "nbconvert_exporter": "python",
   "pygments_lexer": "ipython3",
   "version": "3.6.8"
  }
 },
 "nbformat": 4,
 "nbformat_minor": 2
}
