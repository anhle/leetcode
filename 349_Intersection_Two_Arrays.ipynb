{
 "cells": [
  {
   "attachments": {
    "intersect_2_array.png": {
     "image/png": "[encoded data removed]"
    }
   },
   "cell_type": "markdown",
   "metadata": {},
   "source": [
    "# 349. Intersection of Two Arrays\n",
    "\n",
    "Given two arrays, write a function to compute their intersection.\n",
    "<div class=\"alert alert-block alert-info\">\n",
    "Example 1:\n",
    "\n",
    "Input: nums1 = [1,2,2,1], nums2 = [2,2]\n",
    "Output: [2]\n",
    "Example 2:\n",
    "\n",
    "Input: nums1 = [4,9,5], nums2 = [9,4,9,8,4]\n",
    "Output: [9,4]\n",
    "</div>\n",
    "## Approach 1: Two Sets\n",
    "Intuition\n",
    "\n",
    "The naive approach would be to iterate along the first array nums1 and to check for each value if this value in nums2 or not. If yes - add the value to output. Such an approach would result in a pretty bad $O(n×m)$ time complexity, where n and m are arrays' lengths.\n",
    "\n",
    "To solve the problem in linear time, let's use the structure set, which provides in/contains operation in $O(1)$ time in average case.\n",
    "\n",
    "![intersect_2_array.png](attachment:intersect_2_array.png)"
   ]
  },
  {
   "cell_type": "code",
   "execution_count": 3,
   "metadata": {},
   "outputs": [
    {
     "data": {
      "text/plain": [
       "[2]"
      ]
     },
     "execution_count": 3,
     "metadata": {},
     "output_type": "execute_result"
    }
   ],
   "source": [
    "def intersection(nums1, nums2):\n",
    "    set1,set2 = set(nums1),set(nums2)\n",
    "    res = []\n",
    "    for n in set1:\n",
    "        if n in set2:\n",
    "            res.append(n)\n",
    "    return res\n",
    "\n",
    "def intersection_2(nums1,nums2):\n",
    "    return list(set(nums1)& set(nums2))\n",
    "\n",
    "A = intersection([1,2,2,1],[2,2])\n",
    "A"
   ]
  },
  {
   "cell_type": "code",
   "execution_count": null,
   "metadata": {},
   "outputs": [],
   "source": []
  }
 ],
 "metadata": {
  "kernelspec": {
   "display_name": "Python 3",
   "language": "python",
   "name": "python3"
  },
  "language_info": {
   "codemirror_mode": {
    "name": "ipython",
    "version": 3
   },
   "file_extension": ".py",
   "mimetype": "text/x-python",
   "name": "python",
   "nbconvert_exporter": "python",
   "pygments_lexer": "ipython3",
   "version": "3.6.8"
  }
 },
 "nbformat": 4,
 "nbformat_minor": 2
}
