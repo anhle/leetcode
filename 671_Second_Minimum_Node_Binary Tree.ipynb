{
 "cells": [
  {
   "cell_type": "markdown",
   "metadata": {},
   "source": [
    "# 671. Second Minimum Node In a Binary Tree\n",
    "Given a non-empty special binary tree consisting of nodes with the non-negative value, where each node in this tree has exactly two or zero sub-node. If the node has two sub-nodes, then this node's value is the smaller value among its two sub-nodes. More formally, the property root.val = min(root.left.val, root.right.val) always holds.\n",
    "\n",
    "Given such a binary tree, you need to output the second minimum value in the set made of all the nodes' value in the whole tree.\n",
    "\n",
    "If no such second minimum value exists, output -1 instead.\n",
    "\n",
    "Example 1:\n",
    "\n",
    "Input: \n",
    "\n",
    "       2\n",
    "      / \\\n",
    "     2   5\n",
    "     / \\\n",
    "    5   7\n",
    "\n",
    "Output: 5\n",
    "\n",
    "Explanation: The smallest value is 2, the second smallest value is 5."
   ]
  },
  {
   "cell_type": "markdown",
   "metadata": {},
   "source": [
    "## Approach 1: Brute Force \n",
    "Intuition and Algorithm\n",
    "\n",
    "Traverse the tree with a depth-first search, and record every unique value in the tree using a Set structure uniques.\n",
    "\n",
    "Then, we'll look through the recorded values for the second minimum. The first minimum must be root.val."
   ]
  },
  {
   "cell_type": "code",
   "execution_count": null,
   "metadata": {},
   "outputs": [],
   "source": [
    "class Node:\n",
    "    def __init__(self, val, left=None, right=None):\n",
    "        self.val = val\n",
    "        self.left = left\n",
    "        self.right = right\n",
    "    \n",
    "    def __str__(self):\n",
    "        return \"< \" + str(self.val) + \" >\"\n",
    "    \n",
    "def findSecondMinimumValue(self, root: TreeNode) -> int:\n",
    "    # record every unique value in the tree\n",
    "    unique = set()\n",
    "\n",
    "    def dfs(node):\n",
    "        if node:\n",
    "            unique.add(node.val)\n",
    "            dfs(node.left)\n",
    "            dfs(node.right)\n",
    "\n",
    "    dfs(root)\n",
    "    min1,min2 = root.val,float('inf')\n",
    "    for v in unique:\n",
    "        if min1 < v < min2:\n",
    "            min2 = v\n",
    "    return min2 if min2 < float('inf') else -1"
   ]
  },
  {
   "cell_type": "markdown",
   "metadata": {},
   "source": [
    "## Approach 2: Ad-Hoc \n",
    "Intuition and Algorithm\n",
    "\n",
    "Let min1 = root.val. When traversing the tree at some **node**, if node.val > min1, we know all values in the subtree at node are at least $node.val$, so there cannot be a better candidate for the second minimum in this subtree. Thus, we do not need to search this subtree.\n",
    "\n",
    "Also, as we only care about the second minimum **ans**, we do not need to record any values that are larger than our current candidate for the second minimum, so unlike Approach 1 we can skip maintaining a Set of values(uniques) entirely."
   ]
  },
  {
   "cell_type": "code",
   "execution_count": null,
   "metadata": {},
   "outputs": [],
   "source": [
    "def findSecondMinimumValue(root):\n",
    "\n",
    "    self.res = float('inf')\n",
    "    min1 = root.val\n",
    "\n",
    "    def dfs(node):\n",
    "        if node:\n",
    "            if min1 < node.val < self.res:\n",
    "                self.res = node.val\n",
    "            elif node.val == min1:\n",
    "                dfs(node.left)\n",
    "                dfs(node.right)\n",
    "    dfs(root)\n",
    "    return self.res if self.res < float('inf') else -1"
   ]
  },
  {
   "cell_type": "markdown",
   "metadata": {},
   "source": [
    "# daily coding 36\n",
    "Dropbox\n",
    "This problem was asked by Dropbox.\n",
    "Given the root to a binary search tree, find the second largest node in the tree."
   ]
  },
  {
   "cell_type": "code",
   "execution_count": null,
   "metadata": {},
   "outputs": [],
   "source": [
    "class Node:\n",
    "    def __init__(self, val, left=None, right=None):\n",
    "        self.val = val\n",
    "        self.left = left\n",
    "        self.right = right\n",
    "    \n",
    "    def __str__(self):\n",
    "        return \"< \" + str(self.val) + \" >\"\n",
    "    \n",
    "def findSecondMax(root):\n",
    "    if root.right:\n",
    "        "
   ]
  }
 ],
 "metadata": {
  "kernelspec": {
   "display_name": "Python 3",
   "language": "python",
   "name": "python3"
  },
  "language_info": {
   "codemirror_mode": {
    "name": "ipython",
    "version": 3
   },
   "file_extension": ".py",
   "mimetype": "text/x-python",
   "name": "python",
   "nbconvert_exporter": "python",
   "pygments_lexer": "ipython3",
   "version": "3.6.8"
  }
 },
 "nbformat": 4,
 "nbformat_minor": 2
}
