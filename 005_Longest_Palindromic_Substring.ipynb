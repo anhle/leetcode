{
 "cells": [
  {
   "cell_type": "markdown",
   "metadata": {},
   "source": [
    "# 5. Longest Palindromic Substring\n",
    "Given a string s, find the longest palindromic substring in s. You may assume that the maximum length of s is 1000.\n",
    "\n",
    "Example 1:\n",
    "\n",
    "Input: \"babad\"\n",
    "\n",
    "Output: \"bab\"\n",
    "\n",
    "Note: \"aba\" is also a valid answer.\n",
    "\n",
    "Example 2:\n",
    "\n",
    "Input: \"cbbd\"\n",
    "Output: \"bb\""
   ]
  },
  {
   "cell_type": "markdown",
   "metadata": {},
   "source": [
    "## Approach 3: Dynamic Programming\n",
    "To improve over the brute force solution, we first observe how we can avoid unnecessary re-computation while validating palindromes. Consider the case \"ababa\". If we already knew that \"bab\" is a palindrome, it is obvious that \"ababa\" must be a palindrome since the two left and right end letters are the same.\n",
    "\n",
    "We define P(i,j)P(i,j) as following:\n",
    "\n",
    "$ P(i,j) = \\begin{cases} \\text{true,} &\\quad\\text{if the substring } S_i \\dots S_j \\text{ is a palindrome}\\\\ \\text{false,} &\\quad\\text{otherwise.} \\end{cases} $\n",
    "\n",
    "Therefore,\n",
    "\n",
    "$ P(i, j) = ( P(i+1, j-1) \\text{ and } S_i == S_j ) $ \n",
    "\n",
    "The base cases are:\n",
    "\n",
    "$ P(i, i) = true $\n",
    "\n",
    "$ P(i, i+1) = ( S_i == S_{i+1} ) $\n",
    "\n",
    "This yields a straight forward DP solution, which we first initialize the one and two letters palindromes, and work our way up finding all three letters palindromes, and so on...\n",
    "\n",
    "Complexity Analysis\n",
    "\n",
    "* Time complexity : O(n^2). This gives us a runtime complexity of O(n^2)\n",
    "\n",
    "* Space complexity : O(n^2). It uses O(n^2) space to store the table.\n",
    "\n",
    "Could you improve the above space complexity further and how? "
   ]
  },
  {
   "cell_type": "code",
   "execution_count": 1,
   "metadata": {},
   "outputs": [
    {
     "data": {
      "text/plain": [
       "'bab'"
      ]
     },
     "execution_count": 1,
     "metadata": {},
     "output_type": "execute_result"
    }
   ],
   "source": [
    "def longestPalindrome(s):\n",
    "    n = len(s)\n",
    "    longest = 0\n",
    "    res = \"\"\n",
    "    dp = [[0]*n for _ in range(n)]\n",
    "    for i in range(n):\n",
    "        dp[i][i] = True\n",
    "        res = s[i]\n",
    "        longest = 1\n",
    "    for i in range(n-1):\n",
    "        if s[i] == s[i+1]:\n",
    "            dp[i][i+1] = True\n",
    "            res = s[i:i+2]\n",
    "            longest = 2\n",
    "    for j in range(n):\n",
    "        for i in range(j-1):\n",
    "            if dp[i+1][j-1] and s[i] == s[j]:\n",
    "                dp[i][j] = True\n",
    "                if longest < j-i+1:\n",
    "                    res = s[i:j+1]\n",
    "                    longest = j-i+1\n",
    "    return res\n",
    "\n",
    "longestPalindrome(\"babad\")"
   ]
  },
  {
   "cell_type": "markdown",
   "metadata": {},
   "source": [
    "## Approach 4: Expand Around Center\n",
    "In fact, we could solve it in O(n^2) time using only constant space.\n",
    "\n",
    "We observe that a palindrome mirrors around its center. Therefore, a palindrome can be expanded from its center, and there are only 2n - 1 such centers.\n",
    "\n",
    "You might be asking why there are 2n - 1 but not n centers? The reason is the center of a palindrome can be in between two letters. Such palindromes have even number of letters (such as \"abba\") and its center are between the two 'b's.\n",
    "\n",
    "Complexity Analysis\n",
    "\n",
    "* Time complexity : O(n^2). Since expanding a palindrome around its center could take O(n)O(n) time, the overall complexity is O(n^2)\n",
    "\n",
    "* Space complexity : O(1). "
   ]
  },
  {
   "cell_type": "code",
   "execution_count": 5,
   "metadata": {},
   "outputs": [
    {
     "data": {
      "text/plain": [
       "'aba'"
      ]
     },
     "execution_count": 5,
     "metadata": {},
     "output_type": "execute_result"
    }
   ],
   "source": [
    "def longestPalindrome(s):\n",
    "    res = \"\"\n",
    "    def expand(left,right):\n",
    "        while left >= 0 and right < len(s) and s[left] == s[right]:\n",
    "            left -=1\n",
    "            right +=1\n",
    "        return s[left+1:right]\n",
    "\n",
    "    for i in range(len(s)):\n",
    "        odd = expand(i,i+1)\n",
    "        even = expand(i,i)\n",
    "        res = max(odd,even,res,key=len)\n",
    "\n",
    "    return res\n",
    "longestPalindrome(\"babad\")"
   ]
  },
  {
   "cell_type": "markdown",
   "metadata": {},
   "source": [
    "## Approach 5: Manacher's Algorithm"
   ]
  },
  {
   "cell_type": "code",
   "execution_count": null,
   "metadata": {},
   "outputs": [],
   "source": [
    "def longestPalindrome(s):\n",
    "    #transfor S=\"abba\" to T=\"^#a#b#b#a$\"\n",
    "    T = \"#\".join('^{}$'.format(s))\n",
    "    n = len(T)\n",
    "    P = [0]*n\n",
    "    Center,Right = 0,0\n",
    "    for i in range(1,n-1):\n",
    "        #equal to i' = C-(i-C)\n",
    "        P[i] = (Right > i) and min(Right -i, P[2*Center - i])\n",
    "        # attempt to expand palindrome to centered at i\n",
    "        while T[i+P[i]+1] == T[i-P[i]-1]:\n",
    "            P[i] +=1\n",
    "        # if palindrome cntered at i expand past Right, adjust center \n",
    "        if i + P[i] > Right:\n",
    "            Center, Right = i,i+P[i]\n",
    "    #Find the maximum element in P\n",
    "    maxLen,centerIndex = max((n,i) for i,n in enumerate(P))\n",
    "    return s[(centerIndex-maxLen)//2:(centerIndex+maxLen)//2]\n"
   ]
  }
 ],
 "metadata": {
  "kernelspec": {
   "display_name": "Python 3",
   "language": "python",
   "name": "python3"
  },
  "language_info": {
   "codemirror_mode": {
    "name": "ipython",
    "version": 3
   },
   "file_extension": ".py",
   "mimetype": "text/x-python",
   "name": "python",
   "nbconvert_exporter": "python",
   "pygments_lexer": "ipython3",
   "version": "3.6.8"
  }
 },
 "nbformat": 4,
 "nbformat_minor": 2
}
