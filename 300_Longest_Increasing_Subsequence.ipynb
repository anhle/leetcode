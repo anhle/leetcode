{
 "cells": [
  {
   "cell_type": "markdown",
   "metadata": {},
   "source": [
    "# 300. Longest Increasing Subsequence\n",
    "Given an unsorted array of integers, find the length of longest increasing subsequence.\n",
    "\n",
    "Example:\n",
    "\n",
    "Input: [10,9,2,5,3,7,101,18]\n",
    "Output: 4 \n",
    "Explanation: The longest increasing subsequence is [2,3,7,101], therefore the length is 4. \n",
    "Note:\n",
    "\n",
    "There may be more than one LIS combination, it is only necessary for you to return the length.\n",
    "\n",
    "* Your algorithm should run in O(n2) complexity.\n",
    "* Follow up: Could you improve it to O(n log n) time complexity?"
   ]
  },
  {
   "cell_type": "markdown",
   "metadata": {},
   "source": [
    "## Approach 3: Dynamic Programming\n",
    "Algorithm\n",
    "\n",
    "This method relies on the fact that the longest increasing subsequence possible upto the $i^{th}$ index in a given array is independent of the elements coming later on in the array. Thus, if we know the length of the LIS upto $i^{th}$ index, we can figure out the length of the LIS possible by including the $(i+1)^{th}$ element based on the elements with indices j such that $0 \\leq j \\leq (i + 1)$ .\n",
    "\n",
    "We make use of a dp array to store the required data. dp[i] represents the length of the longest increasing subsequence possible considering the array elements upto the ith index only ,by necessarily including the $i^{th}$ element. In order to find out dp[i], we need to try to append the current element(nums[i]) in every possible increasing subsequences upto the $(i-1)^{th}$ index(including the $(i-1)^{th}$ index), such that the new sequence formed by adding the current element is also an increasing subsequence. Thus, we can easily determine dp[i] using:\n",
    "\n",
    "* $dp[i] = \\text{max}(dp[j]) + 1, \\forall 0\\leq j < i $ \n",
    "\n",
    "At the end, the maximum out of all the dp[i]dp[i]'s to determine the final result.\n",
    "\n",
    "* $LIS_{length}= \\text{max}(dp[i]), \\forall 0\\leq i < n $ \n",
    "\n",
    "Complexity Analysis\n",
    "\n",
    "* Time complexity : O(n^2).Two loops of n are there.\n",
    "\n",
    "* Space complexity : O(n). dp array of size n is used."
   ]
  },
  {
   "cell_type": "code",
   "execution_count": 1,
   "metadata": {},
   "outputs": [
    {
     "data": {
      "text/plain": [
       "4"
      ]
     },
     "execution_count": 1,
     "metadata": {},
     "output_type": "execute_result"
    }
   ],
   "source": [
    "def lengthOfLIS(nums):\n",
    "    if not nums:\n",
    "        return 0\n",
    "    n = len(nums)\n",
    "    dp = [1]*n\n",
    "    for i in range(1,n):\n",
    "        cur_max = 1\n",
    "        for j in range(i):\n",
    "            if nums[i] > nums[j]:\n",
    "                cur_max = max(cur_max,dp[j]+1)\n",
    "        dp[i] = cur_max\n",
    "    return max(dp)\n",
    "\n",
    "lengthOfLIS([10,9,2,5,3,7,101,18])"
   ]
  },
  {
   "cell_type": "code",
   "execution_count": 8,
   "metadata": {},
   "outputs": [
    {
     "data": {
      "text/plain": [
       "4"
      ]
     },
     "execution_count": 8,
     "metadata": {},
     "output_type": "execute_result"
    }
   ],
   "source": [
    "def lengthOfLIS(nums):\n",
    "    ends = [(float('-inf'), 0)]\n",
    "    for num in nums:\n",
    "        ends += (num, max(length + 1\n",
    "                          for lastNum, length in ends\n",
    "                          if num > lastNum)),\n",
    "    return max(ends,key=lambda x: x[1])[1]\n",
    "\n",
    "lengthOfLIS([10,9,2,5,3,7,101,18])"
   ]
  },
  {
   "cell_type": "markdown",
   "metadata": {},
   "source": [
    "## Approach 4: Dynamic Programming with Binary Search\n",
    "Algorithm\n",
    "\n",
    "tails is an array storing the smallest tail of all increasing subsequences with length i+1 in tails[i].\n",
    "For example, say we have nums = [4,5,6,3], then all the available increasing subsequences are:\n",
    "\n",
    "len = 1   :      [4], [5], [6], [3]   => tails[0] = 3\n",
    "len = 2   :      [4, 5], [5, 6]       => tails[1] = 5\n",
    "len = 3   :      [4, 5, 6]            => tails[2] = 6\n",
    "We can easily prove that tails is a increasing array. Therefore it is possible to do a binary search in tails array to find the one needs update.\n",
    "\n",
    "Each time we only do one of the two:\n",
    "\n",
    "(1) if x is larger than all tails, append it, increase the size by 1\n",
    "(2) if tails[i-1] < x <= tails[i], update tails[i]\n",
    "Doing so will maintain the tails invariant. The the final answer is just the size.\n",
    "\n",
    "In this approach, we scan the array from left to right. We also make use of a dp array initialized with all 0's. This dp array is meant to store the increasing subsequence formed by including the currently encountered element. While traversing the numsnums array, we keep on filling the dp array with the elements encountered so far. For the element corresponding to the $j^{th}$ index (nums[j]), we determine its correct position in the dp array(say $i^{th}$ index) by making use of Binary Search(which can be used since the dp array is storing increasing subsequence) and also insert it at the correct position. An important point to be noted is that for Binary Search, we consider only that portion of the dp array in which we have made the updates by inserting some elements at their correct positions(which remains always sorted). Thus, only the elements upto the $i^{th}$ index in the dp array can determine the position of the current element in it. Since, the element enters its correct position(i) in an ascending order in the dp array, the subsequence formed so far in it is surely an increasing subsequence. Whenever this position index i becomes equal to the length of the LIS formed so far(len), it means, we need to update the lenlen as len = len + 1 \n",
    "\n",
    "Note: dp array does not result in longest increasing subsequence, but length of dp array will give you length of LIS.\n",
    "\n",
    "Consider the example:\n",
    "\n",
    "input: [0, 8, 4, 12, 2]\n",
    "\n",
    "dp: [0]\n",
    "\n",
    "dp: [0, 8]\n",
    "\n",
    "dp: [0, 4]\n",
    "\n",
    "dp: [0, 4, 12]\n",
    "\n",
    "dp: [0 , 2, 12] which is not the longest increasing subsequence, but length of dp array results in length of Longest Increasing Subsequence.\n",
    "\n"
   ]
  },
  {
   "cell_type": "code",
   "execution_count": 4,
   "metadata": {},
   "outputs": [
    {
     "data": {
      "text/plain": [
       "4"
      ]
     },
     "execution_count": 4,
     "metadata": {},
     "output_type": "execute_result"
    }
   ],
   "source": [
    "def lengthOfLIS(nums) :\n",
    "    # store tails of each increasing subsequence with different length\n",
    "    tails = [0]*len(nums)\n",
    "    size = 0\n",
    "    for x in nums:\n",
    "        # Use binary search to find the correct tail for new item\n",
    "        left,right = 0,size\n",
    "        while left < right:\n",
    "            mid = (left+right)//2\n",
    "            if tails[mid] < x:\n",
    "                left = mid + 1\n",
    "            else:\n",
    "                right = mid\n",
    "        tails[left] = x\n",
    "        size = max(left+1,size)\n",
    "    return size\n",
    "lengthOfLIS([10,9,2,5,3,7,101,18])"
   ]
  },
  {
   "cell_type": "code",
   "execution_count": null,
   "metadata": {},
   "outputs": [],
   "source": []
  }
 ],
 "metadata": {
  "kernelspec": {
   "display_name": "Python 3",
   "language": "python",
   "name": "python3"
  },
  "language_info": {
   "codemirror_mode": {
    "name": "ipython",
    "version": 3
   },
   "file_extension": ".py",
   "mimetype": "text/x-python",
   "name": "python",
   "nbconvert_exporter": "python",
   "pygments_lexer": "ipython3",
   "version": "3.6.8"
  }
 },
 "nbformat": 4,
 "nbformat_minor": 2
}
