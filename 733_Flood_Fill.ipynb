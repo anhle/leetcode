{
 "cells": [
  {
   "cell_type": "markdown",
   "metadata": {},
   "source": [
    "# 733. Flood Fill\n",
    "An image is represented by a 2-D array of integers, each integer representing the pixel value of the image (from 0 to 65535).\n",
    "\n",
    "Given a coordinate (sr, sc) representing the starting pixel (row and column) of the flood fill, and a pixel value newColor, \"flood fill\" the image.\n",
    "\n",
    "To perform a \"flood fill\", consider the starting pixel, plus any pixels connected 4-directionally to the starting pixel of the same color as the starting pixel, plus any pixels connected 4-directionally to those pixels (also with the same color as the starting pixel), and so on. Replace the color of all of the aforementioned pixels with the newColor.\n",
    "\n",
    "At the end, return the modified image.\n",
    "\n",
    "Example 1:\n",
    "Input: \n",
    "image = [[1,1,1],[1,1,0],[1,0,1]]\n",
    "\n",
    "sr = 1, sc = 1, newColor = 2\n",
    "\n",
    "Output: [[2,2,2],[2,2,0],[2,0,1]]\n",
    "Explanation: \n",
    "From the center of the image (with position (sr, sc) = (1, 1)), all pixels connected \n",
    "by a path of the same color as the starting pixel are colored with the new color.\n",
    "Note the bottom corner is not colored 2, because it is not 4-directionally connected\n",
    "to the starting pixel.\n",
    "Note:\n",
    "\n",
    "* The length of image and image[0] will be in the range [1, 50].\n",
    "* The given starting pixel will satisfy 0 <= sr < image.length and 0 <= sc < image[0].length.\n",
    "* The value of each color in image[i][j] and newColor will be an integer in [0, 65535]."
   ]
  },
  {
   "cell_type": "markdown",
   "metadata": {},
   "source": [
    "The idea is simple. Simply perform a DFS on the source cell. Continue the DFS if:\n",
    "\n",
    "1. Next cell is within bounds.\n",
    "2. Next cell is the same color as source cell.\n",
    "\n",
    "There is a tricky case where the new color is the same as the original color and if the DFS is done on it, there will be an infinite loop. If new color is same as original color, there is nothing to be done and we can simply return the image."
   ]
  },
  {
   "cell_type": "code",
   "execution_count": 1,
   "metadata": {},
   "outputs": [
    {
     "data": {
      "text/plain": [
       "[[2, 2, 2], [2, 2, 0], [2, 0, 1]]"
      ]
     },
     "execution_count": 1,
     "metadata": {},
     "output_type": "execute_result"
    }
   ],
   "source": [
    "def floodFill(image, sr, sc, newColor):\n",
    "    rows,cols = len(image),len(image[0])\n",
    "    oldColor = image[sr][sc]\n",
    "    if oldColor == newColor :\n",
    "        return image\n",
    "    def dfs(r,c):\n",
    "        if image[r][c] == oldColor:\n",
    "            image[r][c] = newColor\n",
    "            if r >= 1: dfs(r-1,c)\n",
    "            if r +1 < rows: dfs(r+1,c)\n",
    "            if c >= 1: dfs(r,c-1)\n",
    "            if c+1 < cols: dfs(r,c+1)\n",
    "    dfs(sr,sc)\n",
    "    return image\n",
    "\n",
    "floodFill([[1,1,1],[1,1,0],[1,0,1]],1,1,2)"
   ]
  },
  {
   "cell_type": "code",
   "execution_count": null,
   "metadata": {},
   "outputs": [],
   "source": []
  }
 ],
 "metadata": {
  "kernelspec": {
   "display_name": "Python 3",
   "language": "python",
   "name": "python3"
  },
  "language_info": {
   "codemirror_mode": {
    "name": "ipython",
    "version": 3
   },
   "file_extension": ".py",
   "mimetype": "text/x-python",
   "name": "python",
   "nbconvert_exporter": "python",
   "pygments_lexer": "ipython3",
   "version": "3.6.8"
  }
 },
 "nbformat": 4,
 "nbformat_minor": 2
}
