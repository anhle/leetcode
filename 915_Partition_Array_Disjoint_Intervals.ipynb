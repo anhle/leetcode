{
 "cells": [
  {
   "cell_type": "markdown",
   "metadata": {},
   "source": [
    "# 915. Partition Array into Disjoint Intervals\n",
    "Given an array A, partition it into two (contiguous) subarrays left and right so that:\n",
    "\n",
    "Every element in left is less than or equal to every element in right.\n",
    "left and right are non-empty.\n",
    "left has the smallest possible size.\n",
    "Return the length of left after such a partitioning.  It is guaranteed that such a partitioning exists.\n",
    "\n",
    " \n",
    "\n",
    "Example 1:\n",
    "\n",
    "Input: [5,0,3,8,6]\n",
    "\n",
    "Output: 3\n",
    "\n",
    "Explanation: left = [5,0,3], right = [8,6]\n",
    "Note:\n",
    "\n",
    "* 2 <= A.length <= 30000\n",
    "* 0 <= A[i] <= 10^6\n",
    "* It is guaranteed there is at least one way to partition A as described."
   ]
  },
  {
   "cell_type": "code",
   "execution_count": null,
   "metadata": {},
   "outputs": [],
   "source": [
    "## 3 passes solution:\n",
    "first pass: use an array to keep the maximun of all left element,\n",
    "second pass: use an array to keep the minimun of all right element,\n",
    "third pass: find where the maxleft <= minright:"
   ]
  },
  {
   "cell_type": "code",
   "execution_count": 1,
   "metadata": {},
   "outputs": [
    {
     "data": {
      "text/plain": [
       "3"
      ]
     },
     "execution_count": 1,
     "metadata": {},
     "output_type": "execute_result"
    }
   ],
   "source": [
    "def partitionDisjoint(A):\n",
    "    n = len(A)\n",
    "    # keep the maximum of all \n",
    "    maxleft = [A[0]]*n\n",
    "    for i in range(1,n):\n",
    "        maxleft[i] = max(maxleft[i-1],A[i])\n",
    "    minright = [A[-1]]*n\n",
    "    for i in range(n-2,-1,-1):\n",
    "        minright[i] = min(minright[i+1],A[i])\n",
    "    for i in range(n-1):\n",
    "        if maxleft[i] <= minright[i+1]:\n",
    "            return i+1\n",
    "\n",
    "partitionDisjoint([5,0,3,8,6])"
   ]
  },
  {
   "cell_type": "code",
   "execution_count": 2,
   "metadata": {},
   "outputs": [
    {
     "data": {
      "text/plain": [
       "3"
      ]
     },
     "execution_count": 2,
     "metadata": {},
     "output_type": "execute_result"
    }
   ],
   "source": [
    "def partitionDisjoint(A):\n",
    "\n",
    "    disjoint  = 0\n",
    "    max_so_far = leftmax = A[0]\n",
    "    for i in range(len(A)):\n",
    "        max_so_far = max(max_so_far,A[i])\n",
    "        if A[i] < leftmax: # we know that value must be in the left partition, so we update disjoint \n",
    "            leftmax = max_so_far\n",
    "            disjoint = i\n",
    "    return disjoint+1\n",
    "\n",
    "partitionDisjoint([5,0,3,8,6])"
   ]
  },
  {
   "cell_type": "code",
   "execution_count": null,
   "metadata": {},
   "outputs": [],
   "source": []
  }
 ],
 "metadata": {
  "kernelspec": {
   "display_name": "Python 3",
   "language": "python",
   "name": "python3"
  },
  "language_info": {
   "codemirror_mode": {
    "name": "ipython",
    "version": 3
   },
   "file_extension": ".py",
   "mimetype": "text/x-python",
   "name": "python",
   "nbconvert_exporter": "python",
   "pygments_lexer": "ipython3",
   "version": "3.6.8"
  }
 },
 "nbformat": 4,
 "nbformat_minor": 2
}
