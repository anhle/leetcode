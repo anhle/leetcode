{
 "cells": [
  {
   "cell_type": "markdown",
   "metadata": {},
   "source": [
    "# 524. Longest Word in Dictionary through Deleting\n",
    "Given a string and a string dictionary, find the longest string in the dictionary that can be formed by deleting some characters of the given string. If there are more than one possible results, return the longest word with the smallest lexicographical order. If there is no possible result, return the empty string.\n",
    "\n",
    "Example 1:\n",
    "Input:\n",
    "s = \"abpcplea\", d = [\"ale\",\"apple\",\"monkey\",\"plea\"]\n",
    "\n",
    "Output: \n",
    "\"apple\"\n",
    "\n",
    "Example 2:\n",
    "Input:\n",
    "s = \"abpcplea\", d = [\"a\",\"b\",\"c\"]\n",
    "\n",
    "Output: \n",
    "\"a\"\n"
   ]
  },
  {
   "cell_type": "markdown",
   "metadata": {},
   "source": [
    "## Approach 3: Sorting and Checking Subsequence\n",
    "Algorithm\n",
    "\n",
    "The matching condition in the given problem requires that we need to consider the matching string in the dictionary with the longest length and in case of same length, the string which is smallest lexicographically. To ease the searching process, we can sort the given dictionary's strings based on the same criteria, such that the more favorable string appears earlier in the sorted dictionary.\n",
    "\n",
    "Now, instead of performing the deletions in ss, we can directly check if any of the words given in the dictionary(say xx) is a subsequence of the given string ss, starting from the beginning of the dictionary. This is because, if xx is a subsequence of s, we can obtain x by performing delete operations on s.\n",
    "\n",
    "If x is a subsequence of ss every character of x will be present in s. \n",
    "\n",
    "Complexity Analysis\n",
    "\n",
    "* Time complexity : $O(n \\cdot x \\log n + n \\cdot x)$ . Here n refers to the number of strings in list d and x refers to average string length. Sorting takes $O(n\\log n)$ and isSubsequence takes O(x) to check whether a string is a subsequence of another string or not.\n",
    "\n",
    "* Space complexity : $O(\\log n)$. Sorting takes $O(\\log n)$ space in average case. "
   ]
  },
  {
   "cell_type": "code",
   "execution_count": 3,
   "metadata": {},
   "outputs": [
    {
     "data": {
      "text/plain": [
       "'apple'"
      ]
     },
     "execution_count": 3,
     "metadata": {},
     "output_type": "execute_result"
    }
   ],
   "source": [
    "def findLongestWord(s, d):\n",
    "    def isSubsequence(src, dest):\n",
    "        i,j = 0,0\n",
    "        while i < len(src) and j < len(dest):\n",
    "            if dest[j] == src[i]:\n",
    "                j +=1\n",
    "            i +=1\n",
    "        return j == len(dest)\n",
    "    \n",
    "    d.sort(key=lambda x: (-len(x),x))\n",
    "    for t in d:\n",
    "        if isSubsequence_1(s,t):\n",
    "            return t\n",
    "    return \"\"\n",
    "findLongestWord(\"abpcplea\",[\"ale\",\"apple\",\"monkey\",\"plea\"])\n"
   ]
  },
  {
   "cell_type": "markdown",
   "metadata": {},
   "source": [
    "## Approach 4: Without Sorting\n",
    "Algorithm\n",
    "\n",
    "Since sorting the dictionary could lead to a huge amount of extra effort, we can skip the sorting and directly look for the strings x in the unsorted dictionary d such that x is a subsequence in s. If such a string x is found, we compare it with the other matching strings found till now based on the required length and lexicographic criteria. Thus, after considering every string in d, we can obtain the required result."
   ]
  },
  {
   "cell_type": "code",
   "execution_count": null,
   "metadata": {},
   "outputs": [],
   "source": [
    "def findLongestWord(s, d):\n",
    "    def isSubsequence(src,dest):\n",
    "        it = iter(src)\n",
    "        return all( c in it for c in dest)\n",
    "    maxlen = 0\n",
    "    maxstr = \"\"\n",
    "    for word in d:\n",
    "        if isSubsequence(s,word):\n",
    "            if maxlen < len(word):\n",
    "                maxlen,maxstr = len(word),word\n",
    "            if maxlen == len(word) and word < maxstr:\n",
    "                maxstr = word\n",
    "    return maxstr"
   ]
  }
 ],
 "metadata": {
  "kernelspec": {
   "display_name": "Python 3",
   "language": "python",
   "name": "python3"
  },
  "language_info": {
   "codemirror_mode": {
    "name": "ipython",
    "version": 3
   },
   "file_extension": ".py",
   "mimetype": "text/x-python",
   "name": "python",
   "nbconvert_exporter": "python",
   "pygments_lexer": "ipython3",
   "version": "3.6.8"
  }
 },
 "nbformat": 4,
 "nbformat_minor": 2
}
