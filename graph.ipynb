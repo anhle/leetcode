{
 "cells": [
  {
   "cell_type": "markdown",
   "metadata": {},
   "source": [
    "# 802. Find Eventual Safe States\n",
    "In a directed graph, we start at some node and every turn, walk along a directed edge of the graph.  If we reach a node that is terminal (that is, it has no outgoing directed edges), we stop.\n",
    "\n",
    "Now, say our starting node is eventually safe if and only if we must eventually walk to a terminal node.  More specifically, there exists a natural number K so that for any choice of where to walk, we must have stopped at a terminal node in less than K steps.\n",
    "\n",
    "Which nodes are eventually safe?  Return them as an array in sorted order.\n",
    "\n",
    "The directed graph has N nodes with labels 0, 1, ..., N-1, where N is the length of graph.  The graph is given in the following form: graph[i] is a list of labels j such that (i, j) is a directed edge of the graph.\n",
    "\n",
    "Example:\n",
    "Input: graph = [[1,2],[2,3],[5],[0],[5],[],[]]\n",
    "\n",
    "Output: [2,4,5,6]\n",
    "Here is a diagram of the above graph.\n",
    "![graph.png](attachment:graph.png)\n",
    "\n",
    "Note:\n",
    "\n",
    "* graph will have length at most 10000.\n",
    "* The number of edges in the graph will not exceed 32000.\n",
    "* Each graph[i] will be a sorted list of different integers, chosen within the range [0, graph.length - 1]."
   ]
  },
  {
   "cell_type": "markdown",
   "metadata": {},
   "source": [
    "## Approach 2: Depth-First Search\n",
    "Intuition\n",
    "\n",
    "As in Approach #1, the crux of the problem is whether you reach a cycle or not.\n",
    "\n",
    "Let us perform a \"brute force\": a cycle-finding DFS algorithm on each node individually. This is a classic \"white-gray-black\" DFS algorithm that would be part of any textbook on DFS. We mark a node gray on entry, and black on exit. If we see a gray node during our DFS, it must be part of a cycle. In a naive view, we'll clear the colors between each search.\n",
    "\n",
    "Complexity Analysis\n",
    "\n",
    "* Time Complexity: O(N+E), where NN is the number of nodes in the given graph, and E is the total number of edges.\n",
    "\n",
    "* Space Complexity: O(N) in additional space complexity."
   ]
  },
  {
   "cell_type": "code",
   "execution_count": null,
   "metadata": {},
   "outputs": [],
   "source": [
    "def eventualSafeNodes(graph):\n",
    "    visited = [-1]*len(graph) # 0: visited but unknow status; 1: unsafe; 2: safe\n",
    "    res = []\n",
    "\n",
    "    def dfs(node):\n",
    "        \"\"\"\n",
    "        False  :   safe (i.e. non-cyclical)\n",
    "        True   :   non-safe (i.e. cyclical)\n",
    "        \"\"\"      \n",
    "        if visited[node] in (0,1):\n",
    "            return True\n",
    "        if visited[node] == 2:\n",
    "            return False\n",
    "        visited[node] = 0\n",
    "        for nei in graph[node]:\n",
    "            if dfs(nei):\n",
    "                visited[node] = 1\n",
    "                return True\n",
    "        visited[node] = 2\n",
    "        res.append(node)\n",
    "        return False\n",
    "\n",
    "    for i in range(len(graph)):\n",
    "        dfs(i)\n",
    "    return sorted(res)\n",
    "\n",
    "eventualSafeNodes([[1,2],[2,3],[5],[0],[5],[],[]])"
   ]
  },
  {
   "cell_type": "markdown",
   "metadata": {},
   "source": [
    "# 207. Course Schedule\n",
    "There are a total of n courses you have to take, labeled from 0 to n-1.\n",
    "\n",
    "Some courses may have prerequisites, for example to take course 0 you have to first take course 1, which is expressed as a pair: [0,1]\n",
    "\n",
    "Given the total number of courses and a list of prerequisite pairs, is it possible for you to finish all courses?\n",
    "\n",
    "Example 1:\n",
    "\n",
    "Input: 2, [[1,0]]\n",
    "\n",
    "Output: true Explanation: There are a total of 2 courses to take. To take course 1 you should have finished course 0. So it is possible.\n",
    "\n",
    "Example 2:\n",
    "\n",
    "Input: 2, [[1,0],[0,1]]\n",
    "\n",
    "Output: false Explanation: There are a total of 2 courses to take. To take course 1 you should have finished course 0, and to take course 0 you should also have finished course 1. So it is impossible."
   ]
  },
  {
   "cell_type": "markdown",
   "metadata": {},
   "source": [
    "## DFS:\n",
    "if node v has not been visited, then mark it as 0.\n",
    "if node v is being visited, then mark it as -1. If we find a vertex marked as -1 in DFS, then their is a ring.\n",
    "if node v has been visited, then mark it as 1. If a vertex was marked as 1, then no ring contains v or its successors."
   ]
  },
  {
   "cell_type": "code",
   "execution_count": null,
   "metadata": {},
   "outputs": [],
   "source": [
    "def canFinish(numCourses, prerequisites):\n",
    "    graph = [[] for _ in range(numCourses)]\n",
    "    visited = [0 for _ in range(numCourses)] # node v not been visited, mark it as 0\n",
    "    # create of graph\n",
    "    for u,v in prerequisites:\n",
    "        graph[u].append(v)\n",
    "\n",
    "    def dfs(i):\n",
    "        # if node i is being visited, then mark it as -1\n",
    "        # If we find a node marked as -1 in DFS, then there is a ring\n",
    "        if visited[i] == -1:\n",
    "            return False\n",
    "        # if it is done visited, then do not visit again \n",
    "        if visited[i] == 1:\n",
    "            return True\n",
    "        # mark as being visited\n",
    "        visited[i] = -1 \n",
    "        for neighbor in graph[i]:\n",
    "            if not dfs(neighbor):\n",
    "                return False\n",
    "        # after visit all the neighbours, mark it as done visited\n",
    "        visited[i] = 1\n",
    "        return True\n",
    "\n",
    "    # for each vertex in graph\n",
    "    for i in range(numCourses):\n",
    "        if not dfs(i):\n",
    "            return False\n",
    "    return True"
   ]
  }
 ],
 "metadata": {
  "kernelspec": {
   "display_name": "Python 3",
   "language": "python",
   "name": "python3"
  },
  "language_info": {
   "codemirror_mode": {
    "name": "ipython",
    "version": 3
   },
   "file_extension": ".py",
   "mimetype": "text/x-python",
   "name": "python",
   "nbconvert_exporter": "python",
   "pygments_lexer": "ipython3",
   "version": "3.6.8"
  }
 },
 "nbformat": 4,
 "nbformat_minor": 2
}
