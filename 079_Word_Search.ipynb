{
 "cells": [
  {
   "cell_type": "markdown",
   "metadata": {},
   "source": [
    "# 79. Word Search\n",
    "Given a 2D board and a word, find if the word exists in the grid.\n",
    "\n",
    "The word can be constructed from letters of sequentially adjacent cell, where \"adjacent\" cells are those horizontally or vertically neighboring. The same letter cell may not be used more than once.\n",
    "\n",
    "Example:\n",
    "\n",
    "board =\n",
    "\n",
    "    [\n",
    "      ['A','B','C','E'],\n",
    "      ['S','F','C','S'],\n",
    "      ['A','D','E','E']\n",
    "    ]\n",
    "\n",
    "Given word = \"ABCCED\", return true.\n",
    "Given word = \"SEE\", return true.\n",
    "Given word = \"ABCB\", return false."
   ]
  },
  {
   "cell_type": "code",
   "execution_count": 6,
   "metadata": {},
   "outputs": [
    {
     "data": {
      "text/plain": [
       "True"
      ]
     },
     "execution_count": 6,
     "metadata": {},
     "output_type": "execute_result"
    }
   ],
   "source": [
    "def exist(board, word):\n",
    "    if not board:\n",
    "        return False\n",
    "    for i in range(len(board)):\n",
    "        for j in range(len(board[0])):\n",
    "            if backtrack(board,i,j,word):\n",
    "                return True\n",
    "    return False\n",
    "\n",
    "# check wheher can find word starting at (i,j)\n",
    "def backtrack(board,i,j,word):\n",
    "    m,n = len(board),len(board[0])\n",
    "    # all the characters are checked\n",
    "    if len(word) == 0:\n",
    "        return True\n",
    "    if i < 0 or i >= m or j < 0 or j >= n or word[0] != board[i][j]:\n",
    "        return False\n",
    "    # Found first character word[0], then check the remaining word[1:]\n",
    "    tmp = board[i][j]\n",
    "    board[i][j] = \"*\" # avoid visited again\n",
    "\n",
    "    found = backtrack(board,i+1,j,word[1:]) or backtrack(board,i-1,j,word[1:]) \\\n",
    "    or backtrack(board,i,j+1,word[1:]) or backtrack(board,i,j-1,word[1:])\n",
    "\n",
    "    board[i][j] = tmp\n",
    "    return found\n",
    "\n",
    "exist([[\"A\",\"B\",\"C\",\"E\"],[\"S\",\"F\",\"C\",\"S\"],[\"A\",\"D\",\"E\",\"E\"]],\"ABCCED\")"
   ]
  },
  {
   "cell_type": "code",
   "execution_count": null,
   "metadata": {},
   "outputs": [],
   "source": []
  }
 ],
 "metadata": {
  "kernelspec": {
   "display_name": "Python 3",
   "language": "python",
   "name": "python3"
  },
  "language_info": {
   "codemirror_mode": {
    "name": "ipython",
    "version": 3
   },
   "file_extension": ".py",
   "mimetype": "text/x-python",
   "name": "python",
   "nbconvert_exporter": "python",
   "pygments_lexer": "ipython3",
   "version": "3.6.8"
  }
 },
 "nbformat": 4,
 "nbformat_minor": 2
}
