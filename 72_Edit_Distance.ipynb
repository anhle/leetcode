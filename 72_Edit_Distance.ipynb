{
 "cells": [
  {
   "cell_type": "markdown",
   "metadata": {},
   "source": [
    "# 72. Edit Distance\n",
    "Given two words word1 and word2, find the minimum number of operations required to convert word1 to word2.\n",
    "\n",
    "You have the following 3 operations permitted on a word:\n",
    "\n",
    "* Insert a character\n",
    "* Delete a character\n",
    "* Replace a character\n",
    "\n",
    "Example 1:\n",
    "\n",
    "Input: word1 = \"horse\", word2 = \"ros\"\n",
    "\n",
    "Output: 3\n",
    "\n",
    "Explanation: \n",
    "\n",
    "horse -> rorse (replace 'h' with 'r')\n",
    "rorse -> rose (remove 'r')\n",
    "rose -> ros (remove 'e')\n",
    "\n",
    "\n",
    "Use f[i][j] to represent the shortest edit distance between word1[0,i) and word2[0, j). Then compare the last character of word1[0,i) and word2[0,j), which are c and d respectively (c == word1[i-1], d == word2[j-1]):\n",
    "\n",
    "1. if c == d, then : f[i][j] = f[i-1][j-1]\n",
    "\n",
    "2. Otherwise we can use three operations to convert word1 to word2:\n",
    "\n",
    ">    if we replaced c with d: f[i][j] = f[i-1][j-1] + 1;\n",
    "\n",
    ">    if we added d after c: f[i][j] = f[i][j-1] + 1;\n",
    "\n",
    ">    if we deleted c: f[i][j] = f[i-1][j] + 1;\n",
    "\n",
    "Note that f[i][j] only depends on f[i-1][j-1], f[i-1][j] and f[i][j-1], therefore we can reduce the space to O(n) by using only the (i-1)th array and previous updated element(f[i][j-1])."
   ]
  },
  {
   "cell_type": "code",
   "execution_count": 1,
   "metadata": {},
   "outputs": [
    {
     "data": {
      "text/plain": [
       "3"
      ]
     },
     "execution_count": 1,
     "metadata": {},
     "output_type": "execute_result"
    }
   ],
   "source": [
    "def minDistance(word1, word2):\n",
    "    # O(m*n) space\n",
    "    len1,len2 = len(word1)+1,len(word2)+1\n",
    "    dp = [[0 for _ in range(len2)] for _ in range(len1)]\n",
    "    # fill 1st colum\n",
    "    for i in range(len1):\n",
    "        dp[i][0] = i\n",
    "    # fill 1st row\n",
    "    for j in range(len2):\n",
    "        dp[0][j] = j\n",
    "    for i in range(1,len1):\n",
    "        for j in range(1,len2):\n",
    "            dp[i][j] = min(dp[i-1][j-1]+(word1[i-1] != word2[j-1]),dp[i-1][j]+1,dp[i][j-1]+1)\n",
    "    return dp[-1][-1]\n",
    "\n",
    "minDistance(\"horse\",\"ros\")"
   ]
  },
  {
   "cell_type": "code",
   "execution_count": 3,
   "metadata": {},
   "outputs": [
    {
     "data": {
      "text/plain": [
       "3"
      ]
     },
     "execution_count": 3,
     "metadata": {},
     "output_type": "execute_result"
    }
   ],
   "source": [
    "def minDistance(word1: str, word2: str) -> int:\n",
    "    len1,len2 = len(word1)+1,len(word2)+1\n",
    "    prev = [0 for _ in range(len2)]\n",
    "    for j in range(len2):\n",
    "        prev[j] = j\n",
    "    for i in range(1,len1):\n",
    "        cur = [i]*len2\n",
    "        for j in range(1,len2):\n",
    "            cur[j] = min(cur[j-1]+1,prev[j]+1, prev[j-1] + (word1[i-1] != word2[j-1]))\n",
    "        prev = cur[:]\n",
    "    return prev[-1]\n",
    "\n",
    "minDistance(\"horse\",\"ros\")"
   ]
  },
  {
   "cell_type": "code",
   "execution_count": null,
   "metadata": {},
   "outputs": [],
   "source": []
  }
 ],
 "metadata": {
  "kernelspec": {
   "display_name": "Python 3",
   "language": "python",
   "name": "python3"
  },
  "language_info": {
   "codemirror_mode": {
    "name": "ipython",
    "version": 3
   },
   "file_extension": ".py",
   "mimetype": "text/x-python",
   "name": "python",
   "nbconvert_exporter": "python",
   "pygments_lexer": "ipython3",
   "version": "3.6.8"
  }
 },
 "nbformat": 4,
 "nbformat_minor": 2
}
