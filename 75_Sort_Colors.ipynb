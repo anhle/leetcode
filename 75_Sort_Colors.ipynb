{
 "cells": [
  {
   "cell_type": "markdown",
   "metadata": {},
   "source": [
    "# 75. Sort Colors\n",
    "Given an array with n objects colored red, white or blue, sort them in-place so that objects of the same color are adjacent, with the colors in the order red, white and blue.\n",
    "\n",
    "Here, we will use the integers 0, 1, and 2 to represent the color red, white, and blue respectively.\n",
    "\n",
    "Note: You are not suppose to use the library's sort function for this problem.\n",
    "\n",
    "Example:\n",
    "\n",
    "Input: [2,0,2,1,1,0]\n",
    "\n",
    "Output: [0,0,1,1,2,2]\n",
    "\n",
    "Follow up:\n",
    "\n",
    "* A rather straight forward solution is a two-pass algorithm using counting sort.First, iterate the array counting number of 0's, 1's, and 2's, then overwrite array with total number of 0's, then 1's and followed by 2's.\n",
    "* Could you come up with a one-pass algorithm using only constant space?"
   ]
  },
  {
   "cell_type": "markdown",
   "metadata": {},
   "source": [
    "One-pass O(n) time O(1) space solution:\n",
    "\n",
    "Loop invariant: entries in nums[:i] are all 0, and entries in nums[k+1:] are all 2."
   ]
  },
  {
   "cell_type": "code",
   "execution_count": 4,
   "metadata": {},
   "outputs": [
    {
     "data": {
      "text/plain": [
       "[0, 0, 1, 1, 2, 2]"
      ]
     },
     "execution_count": 4,
     "metadata": {},
     "output_type": "execute_result"
    }
   ],
   "source": [
    "def sortColors(nums):\n",
    "    zero_end, two_end = 0,len(nums)-1\n",
    "    cur = 0\n",
    "    while cur <= two_end:\n",
    "        if nums[cur] == 0:\n",
    "            nums[cur],nums[zero_end] = nums[zero_end],nums[cur]\n",
    "            zero_end +=1\n",
    "            cur +=1\n",
    "        elif nums[cur] == 2:\n",
    "            nums[cur],nums[two_end] = nums[two_end],nums[cur]\n",
    "            two_end -=1\n",
    "        else:\n",
    "            cur +=1\n",
    "            \n",
    "A= [2,0,2,1,1,0]\n",
    "sortColors(A)\n",
    "A\n"
   ]
  },
  {
   "cell_type": "code",
   "execution_count": null,
   "metadata": {},
   "outputs": [],
   "source": []
  },
  {
   "cell_type": "code",
   "execution_count": null,
   "metadata": {},
   "outputs": [],
   "source": []
  }
 ],
 "metadata": {
  "kernelspec": {
   "display_name": "Python 3",
   "language": "python",
   "name": "python3"
  },
  "language_info": {
   "codemirror_mode": {
    "name": "ipython",
    "version": 3
   },
   "file_extension": ".py",
   "mimetype": "text/x-python",
   "name": "python",
   "nbconvert_exporter": "python",
   "pygments_lexer": "ipython3",
   "version": "3.6.8"
  }
 },
 "nbformat": 4,
 "nbformat_minor": 2
}
