{
 "cells": [
  {
   "cell_type": "markdown",
   "metadata": {},
   "source": [
    "# 105. Construct Binary Tree from Preorder and Inorder Traversal\n",
    "Given preorder and inorder traversal of a tree, construct the binary tree.\n",
    "\n",
    "Note:\n",
    "You may assume that duplicates do not exist in the tree.\n",
    "\n",
    "For example, given\n",
    "\n",
    "preorder = [3,9,20,15,7]\n",
    "\n",
    "inorder = [9,3,15,20,7]\n",
    "\n",
    "Return the following binary tree:\n",
    "\n",
    "        3\n",
    "       / \\\n",
    "      9  20\n",
    "        /  \\\n",
    "       15   7\n",
    "       "
   ]
  },
  {
   "cell_type": "markdown",
   "metadata": {},
   "source": [
    "The idea is to find the root first, and then recursively build each left and right subtree"
   ]
  },
  {
   "cell_type": "code",
   "execution_count": null,
   "metadata": {},
   "outputs": [],
   "source": [
    "def buildTree(preorder, inorder):\n",
    "    if inorder:\n",
    "        root_val = preorder.pop(0)\n",
    "        root_idx = inorder.index(root_val)\n",
    "\n",
    "        root = TreeNode(root_val)           \n",
    "        root.left = self.buildTree(preorder,inorder[:root_idx])\n",
    "        root.right = self.buildTree(preorder,inorder[root_idx+1:])\n",
    "        return root\n",
    "        "
   ]
  },
  {
   "cell_type": "markdown",
   "metadata": {},
   "source": [
    "ideas: \n",
    "\n",
    "1. use inddict, a dictionary of val:index in inorder, to reduce the runtime. \n",
    "\n",
    "Geting an item in a dictionary is O(1), but list.index() is O(n) \n",
    "2. use index pointers Lin, Rin for inorder instead of slicing to avoid 'Memory Limit Exceeded'"
   ]
  },
  {
   "cell_type": "code",
   "execution_count": null,
   "metadata": {},
   "outputs": [],
   "source": [
    "def buildTree(preorder, inorder):\n",
    "    def helper(L_inorder,R_inorder):\n",
    "        if L_inorder < R_inorder:\n",
    "            root_val = preorder.pop(0)\n",
    "            root_idx = rootind[root_val]\n",
    "            root = TreeNode(root_val)\n",
    "            root.left = helper(L_inorder,root_idx)\n",
    "            root.right = helper(root_idx+1,R_inorder)\n",
    "            return root\n",
    "\n",
    "    rootind = { val: i for i,val in enumerate(inorder)}\n",
    "    return helper(0,len(inorder))"
   ]
  }
 ],
 "metadata": {
  "kernelspec": {
   "display_name": "Python 3",
   "language": "python",
   "name": "python3"
  },
  "language_info": {
   "codemirror_mode": {
    "name": "ipython",
    "version": 3
   },
   "file_extension": ".py",
   "mimetype": "text/x-python",
   "name": "python",
   "nbconvert_exporter": "python",
   "pygments_lexer": "ipython3",
   "version": "3.6.8"
  }
 },
 "nbformat": 4,
 "nbformat_minor": 2
}
