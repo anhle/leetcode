{
 "cells": [
  {
   "attachments": {
    "113_sample.png": {
     "image/png": "[encoded data removed]"
    }
   },
   "cell_type": "markdown",
   "metadata": {},
   "source": [
    "# 133. Clone Graph\n",
    "Given a reference of a node in a connected undirected graph, return a deep copy (clone) of the graph. Each node in the graph contains a val (int) and a list (List[Node]) of its neighbors.\n",
    "\n",
    " \n",
    "\n",
    "Example:\n",
    "\n",
    "![113_sample.png](attachment:113_sample.png)\n",
    "\n",
    "Input:\n",
    "{\"$id\":\"1\",\"neighbors\":[{\"$id\":\"2\",\"neighbors\":[{\"$ref\":\"1\"},{\"$id\":\"3\",\"neighbors\":[{\"$ref\":\"2\"},{\"$id\":\"4\",\"neighbors\":[{\"$ref\":\"3\"},{\"$ref\":\"1\"}],\"val\":4}],\"val\":3}],\"val\":2},{\"$ref\":\"4\"}],\"val\":1}\n",
    "\n",
    "Explanation:\n",
    "Node 1's value is 1, and it has two neighbors: Node 2 and 4.\n",
    "Node 2's value is 2, and it has two neighbors: Node 1 and 3.\n",
    "Node 3's value is 3, and it has two neighbors: Node 2 and 4.\n",
    "Node 4's value is 4, and it has two neighbors: Node 1 and 3.\n",
    "\n",
    "Note:\n",
    "\n",
    "The number of nodes will be between 1 and 100.\n",
    "The undirected graph is a simple graph, which means no repeated edges and no self-loops in the graph.\n",
    "Since the graph is undirected, if node p has node q as neighbor, then node q must have node p as neighbor too.\n",
    "You must return the copy of the given node as a reference to the cloned graph."
   ]
  },
  {
   "cell_type": "code",
   "execution_count": null,
   "metadata": {},
   "outputs": [],
   "source": [
    "class Node:\n",
    "    def __init__(self, val, neighbors):\n",
    "        self.val = val\n",
    "        self.neighbors = neighbors\n",
    "def cloneGraph(self, node: 'Node') -> 'Node':\n",
    "    nodeCopy = Node(node.val,[])\n",
    "    dic = {node:nodeCopy}\n",
    "    queue = collections.deque([node])\n",
    "    while queue:\n",
    "        cur = queue.popleft()\n",
    "        parentCopy = dic[cur]\n",
    "        for neighbor in cur.neighbors:                \n",
    "            # if neighbor is not visited\n",
    "            if neighbor not in dic:\n",
    "                neiCopy = Node(neighbor.val,[])\n",
    "                dic[neighbor] = neiCopy                    \n",
    "                parentCopy.neighbors.append(neiCopy)\n",
    "                queue.append(neighbor)\n",
    "            else:\n",
    "                parentCopy.neighbors.append(dic[neighbor])\n",
    "    return nodeCopy\n",
    "                    "
   ]
  },
  {
   "cell_type": "code",
   "execution_count": null,
   "metadata": {},
   "outputs": [],
   "source": [
    "def cloneGraph(self, node: 'Node') -> 'Node':\n",
    "    nodeCopy = UndirectedGraphNode(node.val)\n",
    "    dic = {node:nodeCopy}\n",
    "\n",
    "    def dfs(node):\n",
    "        for neighbor in node.neighbors:\n",
    "            if neighbor not in dic:\n",
    "                neiCopy = UndirectedGraphNode(neighbor.val)\n",
    "                dic[neighbor] = neiCopy\n",
    "                dic[node].neighbors.append(neiCopy)\n",
    "                dfs(neighbor)\n",
    "            else:\n",
    "                dic[node].neighbors.append(dic[neighbor])\n",
    "\n",
    "    dfs(node)\n",
    "    return nodeCopy"
   ]
  }
 ],
 "metadata": {
  "kernelspec": {
   "display_name": "Python 3",
   "language": "python",
   "name": "python3"
  },
  "language_info": {
   "codemirror_mode": {
    "name": "ipython",
    "version": 3
   },
   "file_extension": ".py",
   "mimetype": "text/x-python",
   "name": "python",
   "nbconvert_exporter": "python",
   "pygments_lexer": "ipython3",
   "version": "3.6.8"
  }
 },
 "nbformat": 4,
 "nbformat_minor": 2
}
