{
 "cells": [
  {
   "cell_type": "markdown",
   "metadata": {},
   "source": [
    "# 207. Course Schedule\n",
    "This problem is equivalent to detecting a cycle in the directed graph represented by prerequisites. Both BFS and DFS can be used to solve it using the idea of topological sort. Since pair<int, int> is inconvenient for implementing graph algorithms, we first transform it to the adjacency-list representation. If course u is a prerequisite of course v, then the adjacency list of u will contain v.\n"
   ]
  },
  {
   "cell_type": "markdown",
   "metadata": {},
   "source": [
    "## BFS\n",
    "\n",
    "BFS uses the indegrees of each node. We will first try to find a node with 0 indegree. If we fail to do so, there must be a cycle in the graph and we return false. Otherwise we set its indegree to be -1 to prevent from visiting it again and reduce the indegrees of its neighbors by 1. This process will be repeated for n (number of nodes) times."
   ]
  },
  {
   "cell_type": "code",
   "execution_count": null,
   "metadata": {},
   "outputs": [],
   "source": [
    "def canFinish(numCourses: int, prerequisites: List[List[int]]) -> bool:\n",
    "    forward = {i:set() for i in range(numCourses)}\n",
    "    backward = collections.defaultdict(set)\n",
    "    for i,j in prerequisites:\n",
    "        forward[i].add(j)\n",
    "        backward[j].add(i)\n",
    "    # BFS from the end to the front\n",
    "    queue = collections.deque([node for node in forward if len(forward[node]) == 0])\n",
    "    while queue:\n",
    "        node = queue.popleft()\n",
    "        for neighbor in backward[node]:\n",
    "            forward[neighbor].remove(node)\n",
    "            if len(forward[neighbor]) == 0:\n",
    "                queue.append(neighbor)\n",
    "        forward.pop(node)\n",
    "    return not forward"
   ]
  },
  {
   "cell_type": "code",
   "execution_count": null,
   "metadata": {},
   "outputs": [],
   "source": [
    "def canFinish(numCourses, prerequisites):\n",
    "    forward = {i:set() for i in range(numCourses)}\n",
    "    backward = collections.defaultdict(set)\n",
    "    for i,j in prerequisites:\n",
    "        forward[i].add(j)\n",
    "        backward[j].add(i)\n",
    "    # DFS from th eend to the front\n",
    "    stack = [node for node in forward if len(forward[node]) == 0]\n",
    "    while stack:\n",
    "        node = stack.pop()\n",
    "        for nei in backward[node]:\n",
    "            forward[nei].remove(node)\n",
    "            if len(forward[nei]) == 0:\n",
    "                stack.append(nei)\n",
    "        forward.pop(node)\n",
    "    return not forward"
   ]
  },
  {
   "cell_type": "markdown",
   "metadata": {},
   "source": [
    "## DFS:\n",
    "* if node v has not been visited, then mark it as 0.\n",
    "* if node v is being visited, then mark it as -1. If we find a vertex marked as -1 in DFS, then their is a ring.\n",
    "* if node v has been visited, then mark it as 1. If a vertex was marked as 1, then no ring contains v or its successors."
   ]
  },
  {
   "cell_type": "code",
   "execution_count": null,
   "metadata": {},
   "outputs": [],
   "source": [
    "def canFinish(numCourses, prerequisites):\n",
    "    graph = [[] for _ in range(numCourses)]\n",
    "    visited = [0 for _ in range(numCourses)] # node v not been visited, mark it as 0\n",
    "    # create of graph\n",
    "    for u,v in prerequisites:\n",
    "        graph[u].append(v)\n",
    "\n",
    "    def dfs(i):\n",
    "        # if node i is being visited, then mark it as -1\n",
    "        # If we find a node marked as -1 in DFS, then there is a ring\n",
    "        if visited[i] == -1:\n",
    "            return False\n",
    "        # if it is done visited, then do not visit again \n",
    "        if visited[i] == 1:\n",
    "            return True\n",
    "        # mark as being visited\n",
    "        visited[i] = -1 \n",
    "        for neighbor in graph[i]:\n",
    "            if not dfs(neighbor):\n",
    "                return False\n",
    "        # after visit all the neighbours, mark it as done visited\n",
    "        visited[i] = 1\n",
    "        return True\n",
    "\n",
    "    # for each vertex in graph\n",
    "    for i in range(numCourses):\n",
    "        if not dfs(i):\n",
    "            return False\n",
    "    return True"
   ]
  }
 ],
 "metadata": {
  "kernelspec": {
   "display_name": "Python 3",
   "language": "python",
   "name": "python3"
  },
  "language_info": {
   "codemirror_mode": {
    "name": "ipython",
    "version": 3
   },
   "file_extension": ".py",
   "mimetype": "text/x-python",
   "name": "python",
   "nbconvert_exporter": "python",
   "pygments_lexer": "ipython3",
   "version": "3.6.8"
  }
 },
 "nbformat": 4,
 "nbformat_minor": 2
}
