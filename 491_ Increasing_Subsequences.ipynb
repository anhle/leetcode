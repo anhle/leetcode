{
 "cells": [
  {
   "cell_type": "markdown",
   "metadata": {},
   "source": [
    "# 491. Increasing Subsequences\n",
    "Given an integer array, your task is to find all the different possible increasing subsequences of the given array, and the length of an increasing subsequence should be at least 2 .\n",
    "\n",
    "Example:\n",
    "Input: [4, 6, 7, 7]\n",
    "\n",
    "Output: [[4, 6], [4, 7], [4, 6, 7], [4, 6, 7, 7], [6, 7], [6, 7, 7], [7,7], [4,7,7]]\n",
    "\n",
    "Note:\n",
    "The length of the given array will not exceed 15.\n",
    "The range of integer in the given array is [-100,100].\n",
    "The given array may contain duplicates, and two equal integers should also be considered as a special case of increasing sequence."
   ]
  },
  {
   "cell_type": "code",
   "execution_count": 1,
   "metadata": {},
   "outputs": [
    {
     "data": {
      "text/plain": [
       "[[4, 6], [4, 6, 7], [4, 6, 7, 7], [4, 7], [4, 7, 7], [6, 7], [6, 7, 7], [7, 7]]"
      ]
     },
     "execution_count": 1,
     "metadata": {},
     "output_type": "execute_result"
    }
   ],
   "source": [
    "def findSubsequences(nums):\n",
    "    #choosing next number starting from idx\n",
    "    def backtrack(start,path):\n",
    "        if len(path) >= 2:\n",
    "            res.append(path[:])\n",
    "        seen = set()\n",
    "        prev = path[-1] if path else float('-inf')\n",
    "        for j in range(start,len(nums)):\n",
    "            if nums[j] >= prev and nums[j] not in seen:\n",
    "                seen.add(nums[j])\n",
    "                path.append(nums[j])                   \n",
    "                backtrack(j+1,path)\n",
    "                path.pop()\n",
    "\n",
    "    # check possible repetitions of this step\n",
    "    res = []\n",
    "    backtrack(0,[])\n",
    "    return res\n",
    "\n",
    "findSubsequences([4,6,7,7])"
   ]
  },
  {
   "cell_type": "markdown",
   "metadata": {},
   "source": [
    "# 300. Longest Increasing Subsequence\n",
    "Given an unsorted array of integers, find the length of longest increasing subsequence.\n",
    "\n",
    "Example:\n",
    "\n",
    "Input: [10,9,2,5,3,7,101,18]\n",
    "Output: 4 \n",
    "Explanation: The longest increasing subsequence is [2,3,7,101], therefore the length is 4. \n",
    "Note:\n",
    "\n",
    "There may be more than one LIS combination, it is only necessary for you to return the length.\n",
    "\n",
    "* Your algorithm should run in O(n2) complexity.\n",
    "* Follow up: Could you improve it to O(n log n) time complexity?"
   ]
  }
 ],
 "metadata": {
  "kernelspec": {
   "display_name": "Python 3",
   "language": "python",
   "name": "python3"
  },
  "language_info": {
   "codemirror_mode": {
    "name": "ipython",
    "version": 3
   },
   "file_extension": ".py",
   "mimetype": "text/x-python",
   "name": "python",
   "nbconvert_exporter": "python",
   "pygments_lexer": "ipython3",
   "version": "3.6.8"
  }
 },
 "nbformat": 4,
 "nbformat_minor": 2
}
