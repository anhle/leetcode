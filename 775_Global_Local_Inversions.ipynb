{
 "cells": [
  {
   "cell_type": "markdown",
   "metadata": {},
   "source": [
    "775. Global and Local Inversions\n",
    "We have some permutation A of [0, 1, ..., N - 1], where N is the length of A.\n",
    "\n",
    "The number of (global) inversions is the number of i < j with 0 <= i < j < N and A[i] > A[j].\n",
    "\n",
    "The number of local inversions is the number of i with 0 <= i < N and A[i] > A[i+1].\n",
    "\n",
    "Return true if and only if the number of global inversions is equal to the number of local inversions.\n",
    "\n",
    "Example 1:\n",
    "\n",
    "Input: A = [1,0,2]\n",
    "\n",
    "Output: true\n",
    "Explanation: There is 1 global inversion, and 1 local inversion.\n",
    "\n",
    "Note:\n",
    "\n",
    "* A will be a permutation of [0, 1, ..., A.length - 1].\n",
    "* A will have length in range [1, 5000]."
   ]
  },
  {
   "cell_type": "markdown",
   "metadata": {},
   "source": [
    "Logical Thinking\n",
    "Local Inversions are part of Global Inversions when j == i + 1.\n",
    "Thus, whenever we find inversions that j != i + 1, we return false.\n",
    "However, that will cause TLE for the time complexity is O(n^2).\n",
    "Let's think about the problem in an abstract way, local inversions are actually swaps between two adjacent elements only. So whenever we detect |i - A[i]| > 1, we return false."
   ]
  },
  {
   "cell_type": "code",
   "execution_count": 1,
   "metadata": {},
   "outputs": [
    {
     "data": {
      "text/plain": [
       "False"
      ]
     },
     "execution_count": 1,
     "metadata": {},
     "output_type": "execute_result"
    }
   ],
   "source": [
    "def isIdealPermutation(A):\n",
    "    for i in range(len(A)):\n",
    "        if abs(i-A[i]) > 1:\n",
    "            return False\n",
    "    return True\n",
    "\n",
    "isIdealPermutation([1,2,0])"
   ]
  },
  {
   "cell_type": "code",
   "execution_count": null,
   "metadata": {},
   "outputs": [],
   "source": []
  }
 ],
 "metadata": {
  "kernelspec": {
   "display_name": "Python 3",
   "language": "python",
   "name": "python3"
  },
  "language_info": {
   "codemirror_mode": {
    "name": "ipython",
    "version": 3
   },
   "file_extension": ".py",
   "mimetype": "text/x-python",
   "name": "python",
   "nbconvert_exporter": "python",
   "pygments_lexer": "ipython3",
   "version": "3.6.8"
  }
 },
 "nbformat": 4,
 "nbformat_minor": 2
}
