{
 "cells": [
  {
   "cell_type": "markdown",
   "metadata": {},
   "source": [
    "# 123. Best Time to Buy and Sell Stock III\n",
    "Say you have an array for which the ith element is the price of a given stock on day i.\n",
    "\n",
    "Design an algorithm to find the maximum profit. You may complete at most two transactions.\n",
    "\n",
    "Note: You may not engage in multiple transactions at the same time (i.e., you must sell the stock before you buy again).\n",
    "\n",
    "Example 1:\n",
    "\n",
    "Input: [3,3,5,0,0,3,1,4]\n",
    "\n",
    "Output: 6\n",
    "\n",
    "Explanation: Buy on day 4 (price = 0) and sell on day 6 (price = 3), profit = 3-0 = 3. Then buy on day 7 (price = 1) and sell on day 8 (price = 4), profit = 4-1 = 3."
   ]
  },
  {
   "cell_type": "markdown",
   "metadata": {},
   "source": [
    "* f[k, i] represents the max profit up until prices[i] (Note: NOT ending with prices[i]) using at most k transactions. \n",
    "\n",
    "* $f[k, i] = max(f[k, i-1], prices[i] - prices[j] + f[k-1, j])$  j in range of [0, i-1] \n",
    "        $ = max(f[k, i-1], prices[i] + max(f[k-1, j] - prices[j]))$\n",
    "* f[0, i] = 0; 0 times transation makes 0 profit\n",
    "* f[k, 0] = 0; if there is only one price data point you can't make any money no matter how many times you can trade"
   ]
  },
  {
   "cell_type": "code",
   "execution_count": null,
   "metadata": {},
   "outputs": [],
   "source": [
    "def maxProfit(prices):\n",
    "    n = len(prices)\n",
    "    if n <= 1:\n",
    "        return 0\n",
    "    K = 2\n",
    "    #f[k, i] represents the max profit up until prices[i] (Note: NOT ending with prices[i]) using at most k transactions. \n",
    "    dp = [[0]*n for _ in range(K+1)]\n",
    "    for k in range(1,K+1):\n",
    "        tmpMax = -prices[0]\n",
    "        for i in range(1,n):\n",
    "            dp[k][i] = max(dp[k][i-1],prices[i]+tmpMax)\n",
    "            tmpMax = max(tmpMax,dp[k-1][i-1]-prices[i])\n",
    "\n",
    "    return dp[K][n-1]"
   ]
  },
  {
   "cell_type": "markdown",
   "metadata": {},
   "source": [
    "# 188. Best Time to Buy and Sell Stock IV\n",
    "Say you have an array for which the ith element is the price of a given stock on day i.\n",
    "\n",
    "Design an algorithm to find the maximum profit. You may complete at most k transactions.\n",
    "\n",
    "Note:\n",
    "You may not engage in multiple transactions at the same time (ie, you must sell the stock before you buy again).\n",
    "\n",
    "Example 1:\n",
    "\n",
    "Input: [2,4,1], k = 2\n",
    "\n",
    "Output: 2\n",
    "\n",
    "Explanation: Buy on day 1 (price = 2) and sell on day 2 (price = 4), profit = 4-2 = 2.\n"
   ]
  },
  {
   "cell_type": "code",
   "execution_count": null,
   "metadata": {},
   "outputs": [],
   "source": [
    "def maxProfit(k, prices):        \n",
    "    def quickSolve1(prices):\n",
    "        return sum(prices[i+1] - prices[i] for i in range(len(prices)-1) if prices[i+1] - prices[i] > 0)\n",
    "\n",
    "    n = len(prices)\n",
    "    if k >= n//2:\n",
    "        return quickSolve1(prices)\n",
    "\n",
    "    #f[k, i] represents the max profit up until prices[i] (Note: NOT ending with prices[i]) using at most k transactions. \n",
    "    dp = [[0]*n for _ in range(k+1)]\n",
    "    for k in range(1,k+1):\n",
    "        tmpMax = -prices[0]\n",
    "        for i in range(1,n):\n",
    "            dp[k][i] = max(dp[k][i-1],prices[i]+tmpMax)\n",
    "            tmpMax = max(tmpMax,dp[k-1][i-1]-prices[i])\n",
    "\n",
    "    return dp[k][n-1]"
   ]
  }
 ],
 "metadata": {
  "kernelspec": {
   "display_name": "Python 3",
   "language": "python",
   "name": "python3"
  },
  "language_info": {
   "codemirror_mode": {
    "name": "ipython",
    "version": 3
   },
   "file_extension": ".py",
   "mimetype": "text/x-python",
   "name": "python",
   "nbconvert_exporter": "python",
   "pygments_lexer": "ipython3",
   "version": "3.6.8"
  }
 },
 "nbformat": 4,
 "nbformat_minor": 2
}
