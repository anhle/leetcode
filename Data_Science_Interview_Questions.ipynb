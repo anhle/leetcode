{
  "nbformat": 4,
  "nbformat_minor": 0,
  "metadata": {
    "colab": {
      "name": "Data Science Interview Questions.ipynb",
      "provenance": [],
      "collapsed_sections": [
        "ENJdFdFUb1f0"
      ],
      "include_colab_link": true
    },
    "kernelspec": {
      "name": "python3",
      "display_name": "Python 3"
    }
  },
  "cells": [
    {
      "cell_type": "markdown",
      "metadata": {
        "id": "view-in-github",
        "colab_type": "text"
      },
      "source": [
        "<a href=\"https://colab.research.google.com/github/anhle/leetcode/blob/master/Data_Science_Interview_Questions.ipynb\" target=\"_parent\"><img src=\"https://colab.research.google.com/assets/colab-badge.svg\" alt=\"Open In Colab\"/></a>"
      ]
    },
    {
      "cell_type": "code",
      "metadata": {
        "id": "Cb9Ehf5LbZJQ",
        "colab_type": "code",
        "colab": {}
      },
      "source": [
        ""
      ],
      "execution_count": 0,
      "outputs": []
    },
    {
      "cell_type": "markdown",
      "metadata": {
        "id": "ENJdFdFUb1f0",
        "colab_type": "text"
      },
      "source": [
        "# Communication (5 questions)"
      ]
    },
    {
      "cell_type": "markdown",
      "metadata": {
        "id": "HpTaKniib-ny",
        "colab_type": "text"
      },
      "source": [
        "## 1. Explain to me a technical concept related to the role that you’re interviewing for.\n"
      ]
    },
    {
      "cell_type": "markdown",
      "metadata": {
        "id": "YNPfp0O9cE-Q",
        "colab_type": "text"
      },
      "source": [
        "## 2. Introduce me to something you’re passionate about.\n"
      ]
    },
    {
      "cell_type": "markdown",
      "metadata": {
        "id": "DK9Fz7R4cJq1",
        "colab_type": "text"
      },
      "source": [
        "## 3. How would you explain an A/B test to an engineer with no statistics background? A linear regression?\n",
        "A/B testing, or more broadly, multivariate testing, is the testing of different elements of a user's experience to determine which variation helps the business achieve its goal more effectively (i.e. increasing conversions, etc..)  This can be copy on a web site, button colors, different user interfaces, different email subject lines, calls to action, offers, etc. \n"
      ]
    },
    {
      "cell_type": "markdown",
      "metadata": {
        "id": "fj5PydFVcPHV",
        "colab_type": "text"
      },
      "source": [
        "## 4. How would you explain a confidence interval to an engineer with no statistics background? What does 95% confidence mean?\n",
        "link\n"
      ]
    },
    {
      "cell_type": "markdown",
      "metadata": {
        "id": "Sgjyq92bcR9J",
        "colab_type": "text"
      },
      "source": [
        "## 5. How would you explain to a group of senior executives why data is important?"
      ]
    },
    {
      "cell_type": "markdown",
      "metadata": {
        "id": "QzyHqHEZcVzQ",
        "colab_type": "text"
      },
      "source": [
        "# Data Analysis (27 questions)\n"
      ]
    },
    {
      "cell_type": "markdown",
      "metadata": {
        "id": "L00db6EPcvz-",
        "colab_type": "text"
      },
      "source": [
        "## 1. (Given a Dataset) Analyze this dataset and tell me what you can learn from it.\n",
        "## 2. What is R2? What are some other metrics that could be better than R2 and why?\n",
        "goodness of fit measure. variance explained by the regression / total variance\n",
        "the more predictors you add the higher R^2 becomes.\n",
        "hence use adjusted R^2 which adjusts for the degrees of freedom \n",
        "or train error metrics\n",
        "## 3. What is the curse of dimensionality?\n",
        "High dimensionality makes clustering hard, because having lots of dimensions means that everything is \"far away\" from each other.\n",
        "For example, to cover a fraction of the volume of the data we need to capture a very wide range for each variable as the number of variables increases\n",
        "All samples are close to the edge of the sample. And this is a bad news because prediction is much more difficult near the edges of the training sample.\n",
        "The sampling density decreases exponentially as p increases and hence the data becomes much more sparse without significantly more data. \n",
        "We should conduct PCA to reduce dimensionality\n",
        "## 4. Is more data always better?\n",
        "Statistically,\n",
        "It depends on the quality of your data, for example, if your data is biased, just getting more data won’t help.\n",
        "It depends on your model. If your model suffers from high bias, getting more data won’t improve your test results beyond a point. You’d need to add more features, etc.\n",
        "Practically,\n",
        "Also there’s a tradeoff between having more data and the additional storage, computational power, memory it requires. Hence, always think about the cost of having more data.\n",
        "## 5. What are advantages of plotting your data before per- forming analysis?\n",
        "Data sets have errors.  You won't find them all but you might find some. That 212 year old man. That 9 foot tall woman.\n",
        "Variables can have skewness, outliers etc.  Then the arithmetic mean might not be useful. Which means the standard deviation isn't useful.\n",
        "\n",
        "Variables can be multimodal!  If a variable is multimodal then anything based on its mean or median is going to be suspect. \n",
        "\n",
        "## 6. How can you make sure that you don’t analyze something that ends up meaningless?\n",
        "Proper exploratory data analysis.\n",
        "In every data analysis task, there's the exploratory phase where you're just graphing things, testing things on small sets of the data, summarizing simple statistics, and getting rough ideas of what hypotheses you might want to pursue further.\n",
        "\n",
        "Then there's the exploitatory phase, where you look deeply into a set of hypotheses. \n",
        "\n",
        "The exploratory phase will generate lots of possible hypotheses, and the exploitatory phase will let you really understand a few of them. Balance the two and you'll prevent yourself from wasting time on many things that end up meaningless, although not all.\n",
        "\n",
        "## 7. What is the role of trial and error in data analysis? What is the the role of making a hypothesis before diving in?\n",
        "data analysis is a repetition of setting up a new hypothesis and trying to refute the null hypothesis.\n",
        "The scientific method is eminently inductive: we elaborate a hypothesis, test it and refute it or not. As a result, we come up with new hypotheses which are in turn tested and so on. This is an iterative process, as science always is.\n",
        "## 8. How can you determine which features are the most im- portant in your model?\n",
        "run the features though a Gradient Boosting Machine or Random Forest to generate plots of relative importance and information gain for each feature in the ensembles.\n",
        "Look at the variables added in forward variable selection \n",
        "## 9. How do you deal with some of your predictors being missing?\n",
        "Remove rows with missing values - This works well if 1) the values are missing randomly (see Vinay Prabhu's answer for more details on this) 2) if you don't lose too much of the dataset after doing so.\n",
        "Build another predictive model to predict the missing values - This could be a whole project in itself, so simple techniques are usually used here.\n",
        "Use a model that can incorporate missing data - Like a random forest, or any tree-based method.\n",
        "## 10. You have several variables that are positively correlated with your response, and you think combining all of the variables could give you a good prediction of your response. However, you see that in the multiple linear regression, one of the weights on the predictors is negative. What could be the issue?\n",
        "Multicollinearity refers to a situation in which two or more explanatory variables in a multiple regression model are highly linearly related. \n",
        "Leave the model as is, despite multicollinearity. The presence of multicollinearity doesn't affect the efficiency of extrapolating the fitted model to new data provided that the predictor variables follow the same pattern of multicollinearity in the new data as in the data on which the regression model is based.\n",
        "principal component regression\n",
        "## 11. Let’s say you’re given an unfeasible amount of predictors in a predictive modeling task. What are some ways to make the prediction more feasible?\n",
        "PCA\n",
        "## 12. Now you have a feasible amount of predictors, but you’re fairly sure that you don’t need all of them. How would you perform feature selection on the dataset?\n",
        "ridge / lasso / elastic net regression\n",
        "Univariate Feature Selection where a statistical test is applied to each feature individually. You retain only the best features according to the test outcome scores\n",
        "\"Recursive Feature Elimination\":\n",
        "First, train a model with all the feature and evaluate its performance on held out data.\n",
        "Then drop let say the 10% weakest features (e.g. the feature with least absolute coefficients in a linear model) and retrain on the remaining features.\n",
        "Iterate until you observe a sharp drop in the predictive accuracy of the model.\n",
        "## 13. Your linear regression didn’t run and communicates that there are an infinite number of best estimates for the regression coefficients. What could be wrong?\n",
        "p > n.\n",
        "If some of the explanatory variables are perfectly correlated (positively or negatively) then the coefficients would not be unique. \n",
        "## 14. You run your regression on different subsets of your data, and find that in each subset, the beta value for a certain variable varies wildly. What could be the issue here?\n",
        "The dataset might be heterogeneous. In which case, it is recommended to cluster datasets into different subsets wisely, and then draw different models for different subsets. Or, use models like non parametric models (trees) which can deal with heterogeneity quite nicely.\n",
        "## 15. What is the main idea behind ensemble learning? If I had many different models that predicted the same response variable, what might I want to do to incorporate all of the models? Would you expect this to perform better than an individual model or worse?\n",
        "The assumption is that a group of weak learners can be combined to form a strong learner.\n",
        "Hence the combined model is expected to perform better than an individual model.\n",
        "Assumptions:\n",
        "average out biases\n",
        "reduce variance\n",
        "Bagging works because some underlying learning algorithms are unstable: slightly different inputs leads to very different outputs. If you can take advantage of this instability by running multiple instances, it can be shown that the reduced instability leads to lower error. If you want to understand why, the original bagging paper( http://www.springerlink.com/cont...) has a section called \"why bagging works\"\n",
        "Boosting works because of the focus on better defining the \"decision edge\". By reweighting examples near the margin (the positive and negative examples) you get a reduced error (see http://citeseerx.ist.psu.edu/vie...)\n",
        "Use the outputs of your models as inputs to a meta-model. \n",
        "For example, if you're doing binary classification, you can use all the probability outputs of your individual models as inputs to a final logistic regression (or any model, really) that can combine the probability estimates.\n",
        "\n",
        "One very important point is to make sure that the output of your models are out-of-sample predictions. This means that the predicted value for any row in your dataframe should NOT depend on the actual value for that row.\n",
        "\n",
        "## 16. Given that you have wi  data in your o ce, how would you determine which rooms and areas are underutilized and overutilized?\n",
        "If the data is more used in one room, then that one is over utilized! Maybe account for the room capacity and normalize the data.\n",
        "## 17. How could you use GPS data from a car to determine the quality of a driver?\n",
        "## 18. Given accelerometer, altitude, and fuel usage data from a car, how would you determine the optimum acceleration pattern to drive over hills?\n",
        "## 19. Given position data of NBA players in a season’s games, how would you evaluate a basketball player’s defensive ability?\n",
        "## 20. How would you quantify the influence of a Twitter user?\n",
        "like page rank with each user corresponding to the webpages and linking to the page equivalent to following.\n",
        "## 21. Given location data of golf balls in games, how would construct a model that can advise golfers where to aim?\n",
        "## 22. You have 100 mathletes and 100 math problems. Each mathlete gets to choose 10 problems to solve. Given data on who got what problem correct, how would you rank the problems in terms of di culty?\n",
        "One way you could do this is by storing a \"skill level\" for each user and a \"difficulty level\" for each problem.  We assume that the probability that a user solves a problem only depends on the skill of the user and the difficulty of the problem.*  Then we maximize the likelihood of the data to find the hidden skill and difficulty levels.\n",
        "The Rasch model for dichotomous data takes the form:\n",
        "{\\displaystyle \\Pr\\{X_{ni}=1\\}={\\frac {\\exp({\\beta _{n}}-{\\delta _{i}})}{1+\\exp({\\beta _{n}}-{\\delta _{i}})}},}\n",
        "where  is the ability of person  and  is the difficulty of item}.\n",
        "## 23. You have 5000 people that rank 10 sushis in terms of saltiness. How would you aggregate this data to estimate the true saltiness rank in each sushi?\n",
        "Some people would take the mean rank of each sushi.  If I wanted something simple, I would use the median, since ranks are (strictly speaking) ordinal and not interval, so adding them is a bit risque (but people do it all the time and you probably won't be far wrong).\n",
        "## 24. Given data on congressional bills and which congressional representatives co-sponsored the bills, how would you determine which other representatives are most similar to yours in voting behavior? How would you evaluate who is the most liberal? Most republican? Most bipartisan?\n",
        "collaborative filtering. you have your votes and we can calculate the similarity for each representatives and select the most similar representative\n",
        "for liberal and republican parties, find the mean vector and find the representative closest to the center point\n",
        "## 25. How would you come up with an algorithm to detect plagiarism in online content?\n",
        "reduce the text to a more compact form (e.g. fingerprinting, bag of words) then compare those with other texts by calculating the similarity\n",
        "## 26. You have data on all purchases of customers at a grocery store. Describe to me how you would program an algorithm that would cluster the customers into groups. How would you determine the appropriate number of clusters to include?\n",
        "KNN\n",
        "choose a small value of k that still has a low SSE (elbow method)\n",
        "https://bl.ocks.org/rpgove/0060ff3b656618e9136b\n",
        "## 27. Let's say you're building the recommended music engine at Spotify to recommend people music based on past listening history. How would you approach this problem?\n",
        "collaborative filtering(https://en.wikipedia.org/wiki/Collaborative_filtering)"
      ]
    },
    {
      "cell_type": "markdown",
      "metadata": {
        "id": "Lu1gu6LYd3Uv",
        "colab_type": "text"
      },
      "source": [
        "# Predictive Modeling (19 questions)"
      ]
    },
    {
      "cell_type": "markdown",
      "metadata": {
        "id": "nP9QP78qd5zn",
        "colab_type": "text"
      },
      "source": [
        "## 1. (Given a Dataset) Analyze this dataset and give me a model that can predict this response variable.\n",
        "*   Start by fitting a simple model (multivariate regression, logistic regression), do some feature engineering accordingly, and then try some complicated models. Always split the dataset into train, validation, test dataset and use cross validation to check their performance.\n",
        "* Determine if the problem is classification or regression\n",
        "Favor simple models that run quickly and you can easily explain.\n",
        "* Mention cross validation as a means to evaluate the model.\n",
        "* Plot and visualize the data.\n",
        "\n"
      ]
    },
    {
      "cell_type": "markdown",
      "metadata": {
        "id": "GAI1EnS0xGXw",
        "colab_type": "text"
      },
      "source": [
        "## 2. What could be some issues if the distribution of the test data is significantly different than the distribution of the training data?\n",
        "* The model that has high training accuracy might have low test accuracy. Without further knowledge, it is hard to know which dataset represents the population data and thus the generalizability of the algorithm is hard to measure. This should be mitigated by repeated splitting of train vs test dataset (as in cross validation).\n",
        "* When there is a change in data distribution, this is called the dataset shift. If the train and test data has a different distribution, then the classifier would likely overfit to the train data.\n",
        "* This issue can be overcome by using a more general learning method.\n",
        "* This can occur when:\n",
        "  * P(y|x) are the same but P(x) are different. (covariate shift)\n",
        "  * P(y|x) are different. (concept shift)\n",
        "* The causes can be:\n",
        "  * Training samples are obtained in a biased way. (sample selection bias)\n",
        "  * Train is different from test because of temporal, spatial changes. (non-stationary environments)\n",
        "* Solution to covariate shift\n",
        "  * importance weighted cv"
      ]
    },
    {
      "cell_type": "markdown",
      "metadata": {
        "id": "XSbHfEmcxomR",
        "colab_type": "text"
      },
      "source": [
        "## 3. What are some ways I can make my model more robust to outliers?\n",
        "* We can have regularization such as L1 or L2 to reduce variance (increase bias).\n",
        "* Changes to the algorithm:\n",
        "  * Use tree-based methods instead of regression methods as they are more resistant to outliers. For statistical tests, use non parametric tests instead of parametric ones.\n",
        "  * Use robust error metrics such as MAE or Huber Loss instead of MSE.\n",
        "* Changes to the data:\n",
        "  * Winsorizing the data\n",
        "  * Transforming the data (e.g. log)\n",
        "  * Remove them only if you’re certain they’re anomalies not worth predicting"
      ]
    },
    {
      "cell_type": "markdown",
      "metadata": {
        "id": "u1bdyHrfx-dc",
        "colab_type": "text"
      },
      "source": [
        "## 4. What are some differences you would expect in a model that minimizes squared error, versus a model that minimizes absolute error? In which cases would each error metric be appropriate?\n",
        "* MSE is more strict to having outliers. MAE is more robust in that sense, but is harder to fit the model for because it cannot be numerically optimized. So when there are less variability in the model and the model is computationally easy to fit, we should use MAE, and if that’s not the case, we should use MSE.\n",
        "* MSE: easier to compute the gradient, MAE: linear programming needed to compute the gradient\n",
        "* MAE more robust to outliers. If the consequences of large errors are great, use MSE\n",
        "* MSE corresponds to maximizing likelihood of Gaussian random variables"
      ]
    },
    {
      "cell_type": "markdown",
      "metadata": {
        "id": "qWCjFQDFyShn",
        "colab_type": "text"
      },
      "source": [
        "## 5. What error metric would you use to evaluate how good a binary classifier is? What if the classes are imbalanced? What if there are more than 2 groups?\n",
        "* Accuracy: proportion of instances you predict correctly. Pros: intuitive, easy to explain, Cons: works poorly when the class labels are imbalanced and the signal from the data is weak\n",
        "* AUROC: plot fpr on the x axis and tpr on the y axis for different threshold. Given a random positive instance and a random negative instance, the AUC is the probability that you can identify who's who. \n",
        "  * Pros: Works well when testing the ability of distinguishing the two classes, \n",
        "  * Cons: can’t interpret predictions as probabilities (because AUC is determined by rankings), so can’t explain the uncertainty of the model\n",
        "* logloss/deviance: \n",
        "  * Pros: error metric based on probabilities, \n",
        "  * Cons: very sensitive to false positives, negatives\n",
        "* When there are more than 2 groups, we can have k binary classifications and add them up for logloss. Some metrics like AUC is only applicable in the binary case."
      ]
    },
    {
      "cell_type": "markdown",
      "metadata": {
        "id": "H7WGzOjXytqq",
        "colab_type": "text"
      },
      "source": [
        "## 6. What are various ways to predict a binary response variable? Can you compare two of them and tell me when one would be more appropriate? What’s the difference between these? (SVM, Logistic Regression, Naive Bayes, Decision Tree, etc.)\n",
        "\n",
        "* Things to look at: N, P, linearly seperable?, features independent?, likely to overfit?, speed, performance, memory usage\n",
        "* Logistic Regression\n",
        "  * features roughly linear, problem roughly linearly separable\n",
        "  * robust to noise, use l1,l2 regularization for model selection, avoid overfitting\n",
        "  * the output come as probabilities\n",
        "  * efficient and the computation can be distributed\n",
        "  * can be used as a baseline for other algorithms\n",
        "  * (-) can hardly handle categorical features\n",
        "* SVM\n",
        "  * with a nonlinear kernel, can deal with problems that are not linearly separable\n",
        "  * (-) slow to train, for most industry scale applications, not really efficient\n",
        "* Naive Bayes\n",
        "  * computationally efficient when P is large by alleviating the curse of dimensionality\n",
        "  * works surprisingly well for some cases even if the condition doesn’t hold\n",
        "  * with word frequencies as features, the independence assumption can be seen reasonable. So the algorithm can be used in text categorization\n",
        "  * (-) conditional independence of every other feature should be met\n",
        "* Tree Ensembles\n",
        "  * good for large N and large P, can deal with categorical features very well\n",
        "  * non parametric, so no need to worry about outliers\n",
        "  * GBT’s work better but the parameters are harder to tune\n",
        "  * RF works out of the box, but usually performs worse than GBT\n",
        "* Deep Learning\n",
        "  * works well for some classification tasks (e.g. image)\n",
        "  * used to squeeze something out of the problem"
      ]
    }
  ]
}