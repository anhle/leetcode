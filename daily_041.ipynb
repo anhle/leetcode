{
 "cells": [
  {
   "cell_type": "markdown",
   "metadata": {},
   "source": [
    "# problem 41\n",
    "This problem was asked by Facebook.\n",
    "\n",
    "Given an unordered list of flights taken by someone, each represented as (origin, destination) pairs, and a starting airport, compute the person's itinerary. If no such itinerary exists, return null. If there are multiple possible itineraries, return the lexicographically smallest one. All flights must be used in the itinerary.\n",
    "\n",
    "For example, given the list of flights [('SFO', 'HKO'), ('YYZ', 'SFO'), ('YUL', 'YYZ'), ('HKO', 'ORD')] and starting airport 'YUL', you should return the list ['YUL', 'YYZ', 'SFO', 'HKO', 'ORD'].\n",
    "\n",
    "Given the list of flights [('SFO', 'COM'), ('COM', 'YYZ')] and starting airport 'COM', you should return null.\n",
    "\n",
    "Given the list of flights [('A', 'B'), ('A', 'C'), ('B', 'C'), ('C', 'A')] and starting airport 'A', you should return the list ['A', 'B', 'C', 'A', 'C'] even though ['A', 'C', 'A', 'B', 'C'] is also a valid itinerary. However, the first one is lexicographically smaller."
   ]
  },
  {
   "cell_type": "code",
   "execution_count": 7,
   "metadata": {},
   "outputs": [
    {
     "data": {
      "text/plain": [
       "True"
      ]
     },
     "execution_count": 7,
     "metadata": {},
     "output_type": "execute_result"
    }
   ],
   "source": [
    "def itinerary(flights,start,cur_itinerary):\n",
    "    #All flights must be used in the itinerary\n",
    "    if not flights:\n",
    "        return cur_itinerary + [start]\n",
    "    update = None\n",
    "    next_itinerary = None\n",
    "    for i,(depart,dest) in enumerate(flights):\n",
    "        if start == depart:\n",
    "            next_itinerary = itinerary(flights[:i]+flights[i+1:],dest,cur_itinerary+[depart])\n",
    "        # choose the lexicographically smallest one\n",
    "        if next_itinerary:\n",
    "            if not update or \"\".join(next_itinerary) < \"\".join(update):\n",
    "                update = next_itinerary\n",
    "    return update\n",
    "        \n",
    "#itinerary([('SFO', 'HKO'), ('YYZ', 'SFO'), ('YUL', 'YYZ'),('HKO', 'ORD')], \"YUL\", [])\n",
    "itinerary([('A', 'B'), ('A', 'C'), ('B', 'C'), ('C', 'A')], \"A\", []) == ['A', 'B', 'C', 'A', 'C']"
   ]
  },
  {
   "cell_type": "code",
   "execution_count": null,
   "metadata": {},
   "outputs": [],
   "source": []
  }
 ],
 "metadata": {
  "kernelspec": {
   "display_name": "Python 3",
   "language": "python",
   "name": "python3"
  },
  "language_info": {
   "codemirror_mode": {
    "name": "ipython",
    "version": 3
   },
   "file_extension": ".py",
   "mimetype": "text/x-python",
   "name": "python",
   "nbconvert_exporter": "python",
   "pygments_lexer": "ipython3",
   "version": "3.6.8"
  }
 },
 "nbformat": 4,
 "nbformat_minor": 2
}
