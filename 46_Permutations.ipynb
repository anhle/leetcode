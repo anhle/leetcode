{
 "cells": [
  {
   "cell_type": "markdown",
   "metadata": {},
   "source": [
    "# 46. Permutations\n",
    "Given a collection of distinct integers, return all possible permutations.\n",
    "\n",
    "Example:\n",
    "\n",
    "Input: [1,2,3]\n",
    "\n",
    "Output:\n",
    "\n",
    "[\n",
    "  [1,2,3],\n",
    "  [1,3,2],\n",
    "  [2,1,3],\n",
    "  [2,3,1],\n",
    "  [3,1,2],\n",
    "  [3,2,1]\n",
    "]"
   ]
  },
  {
   "cell_type": "markdown",
   "metadata": {},
   "source": [
    "## Solution 1: Recursive, take any number as first\n",
    "Take any number as the first number and append any permutation of the other numbers."
   ]
  },
  {
   "cell_type": "code",
   "execution_count": null,
   "metadata": {},
   "outputs": [],
   "source": [
    "def permute(nums):\n",
    "    res = []\n",
    "    def backtrack(nums,path):\n",
    "        if not nums:\n",
    "            res.append(path)\n",
    "            return\n",
    "        # choose c as the first character\n",
    "        for i in range(len(nums)):\n",
    "            backtrack(nums[:i]+nums[i+1:],path+[nums[i]])\n",
    "\n",
    "    backtrack(nums,[])\n",
    "    return res\n",
    "\n",
    "permute([1,2,3])"
   ]
  },
  {
   "cell_type": "code",
   "execution_count": null,
   "metadata": {},
   "outputs": [],
   "source": [
    "def permute(self, nums):\n",
    "\n",
    "    return [[n] + p\n",
    "           for i,n in enumerate(nums)\n",
    "           for p in self.permute(nums[:i] + nums[i+1:])] or [[]]\n",
    "        "
   ]
  },
  {
   "cell_type": "markdown",
   "metadata": {},
   "source": [
    "## Solution 2: Recursive, insert first number anywhere\n",
    "\n",
    "Insert the first number anywhere in any permutation of the remaining numbers."
   ]
  },
  {
   "cell_type": "code",
   "execution_count": null,
   "metadata": {},
   "outputs": [],
   "source": [
    "def permute(self, nums):\n",
    "# insert first number anywhere in any permutation of the remaining numbers\n",
    "return nums and [p[:i] + [nums[0]] + p[i:]\n",
    "                 for p in self.permute(nums[1:])\n",
    "                 for i in range(len(nums))] or [[]]"
   ]
  }
 ],
 "metadata": {
  "kernelspec": {
   "display_name": "Python 3",
   "language": "python",
   "name": "python3"
  },
  "language_info": {
   "codemirror_mode": {
    "name": "ipython",
    "version": 3
   },
   "file_extension": ".py",
   "mimetype": "text/x-python",
   "name": "python",
   "nbconvert_exporter": "python",
   "pygments_lexer": "ipython3",
   "version": "3.6.8"
  }
 },
 "nbformat": 4,
 "nbformat_minor": 2
}
