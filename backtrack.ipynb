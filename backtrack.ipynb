{
 "cells": [
  {
   "cell_type": "markdown",
   "metadata": {},
   "source": [
    "## 39. Combination Sum\n",
    "https://leetcode.com/problems/combination-sum/\n",
    "Given a set of candidate numbers (candidates) (without duplicates) and a target number (target), find all unique combinations in candidates where the candidate numbers sums to target.\n",
    "\n",
    "The same repeated number may be chosen from candidates unlimited number of times.\n",
    "\n",
    "All numbers (including target) will be positive integers.\n",
    "The solution set must not contain duplicate combinations.\n",
    "Example 1:\n",
    "\n",
    "Input: candidates = [2,3,6,7], target = 7,\n",
    "A solution set is:\n",
    "\n",
    "[\n",
    "  [7],\n",
    "  [2,2,3]\n",
    "]"
   ]
  },
  {
   "cell_type": "code",
   "execution_count": 6,
   "metadata": {},
   "outputs": [
    {
     "data": {
      "text/plain": [
       "[[2, 2, 3], [7]]"
      ]
     },
     "execution_count": 6,
     "metadata": {},
     "output_type": "execute_result"
    }
   ],
   "source": [
    "def combinationSum(candidates, target):\n",
    "    res = []\n",
    "    candidates.sort()\n",
    "    dfs(candidates,target,0,[],res)\n",
    "    return res\n",
    "\n",
    "def dfs(nums,target,idx,path,res):\n",
    "    if target == 0:\n",
    "        res.append(path)\n",
    "        return\n",
    "    if target > 0:\n",
    "        for i in range(idx,len(nums)):\n",
    "            dfs(nums,target-nums[i],i,path + [nums[i]],res)\n",
    "            \n",
    "combinationSum([2,3,6,7],7)"
   ]
  },
  {
   "cell_type": "code",
   "execution_count": null,
   "metadata": {},
   "outputs": [],
   "source": [
    "def combinationSum(candidates, target):\n",
    "    candidates.sort()\n",
    "    dp = [[] for _ in range(target+1)]\n",
    "    dp[0].append([]) # when target is 0, there is no combination\n",
    "    for sub_target in range(target+1):\n",
    "        for c in candidates:     \n",
    "            if c == sub_target:\n",
    "                dp[sub_target] += [[c]]\n",
    "            if c < sub_target and sub_target - c >= c:\n",
    "                dp[sub_target] += [[c] + L for L in dp[sub_target-c] if L[0] >= c]\n",
    "\n",
    "    return dp[target]\n",
    "                    "
   ]
  },
  {
   "cell_type": "markdown",
   "metadata": {},
   "source": [
    "## 40. Combination Sum II\n",
    "https://leetcode.com/problems/combination-sum-ii/"
   ]
  },
  {
   "cell_type": "markdown",
   "metadata": {},
   "source": [
    "## 216. Combination Sum III\n",
    "Find all possible combinations of k numbers that add up to a number n, given that only numbers from 1 to 9 can be used and each combination should be a unique set of numbers.\n",
    "\n",
    "Note:\n",
    "\n",
    "All numbers will be positive integers.\n",
    "The solution set must not contain duplicate combinations.\n",
    "Example 1:\n",
    "\n",
    "Input: k = 3, n = 7\n",
    "Output: [[1,2,4]]"
   ]
  },
  {
   "cell_type": "code",
   "execution_count": 7,
   "metadata": {},
   "outputs": [
    {
     "data": {
      "text/plain": [
       "[[1, 2, 4]]"
      ]
     },
     "execution_count": 7,
     "metadata": {},
     "output_type": "execute_result"
    }
   ],
   "source": [
    "def combinationSum3(k, n):\n",
    "    res = []\n",
    "    backtrack(k,n,1,[],res)\n",
    "    return res\n",
    "def backtrack(k,remain,start,path,res):\n",
    "    if len(path) == k and remain == 0:\n",
    "        res.append(path)\n",
    "        return\n",
    "    if len(path) < k:\n",
    "        for i in range(start,10):\n",
    "            backtrack(k,remain-i,i+1,path+[i],res)\n",
    "\n",
    "combinationSum3(3,7)"
   ]
  },
  {
   "cell_type": "markdown",
   "metadata": {},
   "source": [
    "## 78. Subsets\n",
    "Given a set of distinct integers, nums, return all possible subsets (the power set).\n",
    "\n",
    "Note: The solution set must not contain duplicate subsets.\n",
    "\n",
    "Example:\n",
    "\n",
    "Input: nums = [1,2,3]\n",
    "Output:\n",
    "[\n",
    "  [3],\n",
    "  [1],\n",
    "  [2],\n",
    "  [1,2,3],\n",
    "  [1,3],\n",
    "  [2,3],\n",
    "  [1,2],\n",
    "  []\n",
    "]\n"
   ]
  },
  {
   "cell_type": "code",
   "execution_count": 8,
   "metadata": {},
   "outputs": [
    {
     "data": {
      "text/plain": [
       "[[], [1], [1, 2], [1, 2, 3], [1, 3], [2], [2, 3], [3]]"
      ]
     },
     "execution_count": 8,
     "metadata": {},
     "output_type": "execute_result"
    }
   ],
   "source": [
    "def subsets(nums):\n",
    "    def backtrack(start,path):\n",
    "        res.append(path)\n",
    "        for i in range(start,len(nums)):\n",
    "            backtrack(i+1,path+[nums[i]])\n",
    "    res = []\n",
    "    backtrack(0,[])\n",
    "    return res\n",
    "\n",
    "subsets([1,2,3])"
   ]
  },
  {
   "cell_type": "markdown",
   "metadata": {},
   "source": [
    "## 90. Subsets II"
   ]
  },
  {
   "cell_type": "code",
   "execution_count": 1,
   "metadata": {},
   "outputs": [
    {
     "data": {
      "text/plain": [
       "[[], [1], [1, 2], [1, 2, 2], [2], [2, 2]]"
      ]
     },
     "execution_count": 1,
     "metadata": {},
     "output_type": "execute_result"
    }
   ],
   "source": [
    "def subsetsWithDup(nums):\n",
    "    def backtrack(start, end, tmp):\n",
    "        ans.append(tmp[:])\n",
    "        for i in range(start, end):\n",
    "            if i > start and nums[i] == nums[i-1]:\n",
    "                continue\n",
    "            tmp.append(nums[i])\n",
    "            backtrack(i+1, end, tmp)\n",
    "            tmp.pop()\n",
    "    ans = []\n",
    "    nums.sort()\n",
    "    backtrack(0, len(nums), [])\n",
    "    return ans\n",
    "\n",
    "subsetsWithDup([1,2,2])"
   ]
  },
  {
   "cell_type": "markdown",
   "metadata": {},
   "source": [
    "## 46. Permutations\n",
    "Given a collection of distinct integers, return all possible permutations.\n",
    "\n",
    "Example:\n",
    "\n",
    "Input: [1,2,3]\n",
    "Output:\n",
    "\n",
    "    [\n",
    "      [1,2,3],\n",
    "      [1,3,2],\n",
    "      [2,1,3],\n",
    "      [2,3,1],\n",
    "      [3,1,2],\n",
    "      [3,2,1]\n",
    "    ]"
   ]
  },
  {
   "cell_type": "code",
   "execution_count": 1,
   "metadata": {},
   "outputs": [
    {
     "data": {
      "text/plain": [
       "[[1, 2, 3, 4],\n",
       " [1, 2, 4, 3],\n",
       " [1, 3, 2, 4],\n",
       " [1, 3, 4, 2],\n",
       " [1, 4, 2, 3],\n",
       " [1, 4, 3, 2],\n",
       " [2, 1, 3, 4],\n",
       " [2, 1, 4, 3],\n",
       " [2, 3, 1, 4],\n",
       " [2, 3, 4, 1],\n",
       " [2, 4, 1, 3],\n",
       " [2, 4, 3, 1],\n",
       " [3, 1, 2, 4],\n",
       " [3, 1, 4, 2],\n",
       " [3, 2, 1, 4],\n",
       " [3, 2, 4, 1],\n",
       " [3, 4, 1, 2],\n",
       " [3, 4, 2, 1],\n",
       " [4, 1, 2, 3],\n",
       " [4, 1, 3, 2],\n",
       " [4, 2, 1, 3],\n",
       " [4, 2, 3, 1],\n",
       " [4, 3, 1, 2],\n",
       " [4, 3, 2, 1]]"
      ]
     },
     "execution_count": 1,
     "metadata": {},
     "output_type": "execute_result"
    }
   ],
   "source": [
    "def permute(nums):\n",
    "    res = []\n",
    "    def backtrack(nums,path):\n",
    "        if not nums:\n",
    "            res.append(path)\n",
    "            return\n",
    "        for i in range(len(nums)):\n",
    "            backtrack(nums[:i]+nums[i+1:],path+[nums[i]])\n",
    "\n",
    "    backtrack(nums,[])\n",
    "    return res\n",
    "permute([1,2,3,4])"
   ]
  },
  {
   "cell_type": "code",
   "execution_count": 2,
   "metadata": {},
   "outputs": [
    {
     "data": {
      "text/plain": [
       "[[1, 2, 3, 4],\n",
       " [1, 2, 4, 3],\n",
       " [1, 3, 2, 4],\n",
       " [1, 3, 4, 2],\n",
       " [1, 4, 3, 2],\n",
       " [1, 4, 2, 3],\n",
       " [2, 1, 3, 4],\n",
       " [2, 1, 4, 3],\n",
       " [2, 3, 1, 4],\n",
       " [2, 3, 4, 1],\n",
       " [2, 4, 3, 1],\n",
       " [2, 4, 1, 3],\n",
       " [3, 2, 1, 4],\n",
       " [3, 2, 4, 1],\n",
       " [3, 1, 2, 4],\n",
       " [3, 1, 4, 2],\n",
       " [3, 4, 1, 2],\n",
       " [3, 4, 2, 1],\n",
       " [4, 2, 3, 1],\n",
       " [4, 2, 1, 3],\n",
       " [4, 3, 2, 1],\n",
       " [4, 3, 1, 2],\n",
       " [4, 1, 3, 2],\n",
       " [4, 1, 2, 3]]"
      ]
     },
     "execution_count": 2,
     "metadata": {},
     "output_type": "execute_result"
    }
   ],
   "source": [
    "def permute(nums):\n",
    "    def backtrack(start, end):\n",
    "        if start == end:\n",
    "            ans.append(nums[:])\n",
    "        for i in range(start,end):\n",
    "            nums[start],nums[i] = nums[i],nums[start]\n",
    "            backtrack(start+1,end)\n",
    "            nums[start],nums[i] = nums[i],nums[start]\n",
    "\n",
    "    ans = []\n",
    "    backtrack(0,len(nums))\n",
    "    return ans\n",
    "\n",
    "permute([1,2,3,4])"
   ]
  },
  {
   "cell_type": "markdown",
   "metadata": {},
   "source": [
    "## 60. Permutation Sequence"
   ]
  }
 ],
 "metadata": {
  "kernelspec": {
   "display_name": "Python 3",
   "language": "python",
   "name": "python3"
  },
  "language_info": {
   "codemirror_mode": {
    "name": "ipython",
    "version": 3
   },
   "file_extension": ".py",
   "mimetype": "text/x-python",
   "name": "python",
   "nbconvert_exporter": "python",
   "pygments_lexer": "ipython3",
   "version": "3.6.8"
  }
 },
 "nbformat": 4,
 "nbformat_minor": 2
}
