{
 "cells": [
  {
   "cell_type": "markdown",
   "metadata": {},
   "source": [
    "# 22. Generate Parentheses\n",
    "Given n pairs of parentheses, write a function to generate all combinations of well-formed parentheses.\n",
    "\n",
    "For example, given n = 3, a solution set is:\n",
    "\n",
    "[\n",
    "  \"((()))\",\n",
    "  \"(()())\",\n",
    "  \"(())()\",\n",
    "  \"()(())\",\n",
    "  \"()()()\"\n",
    "]\n"
   ]
  },
  {
   "cell_type": "markdown",
   "metadata": {},
   "source": [
    "## Approach 2: Backtracking\n",
    "Intuition and Algorithm\n",
    "\n",
    "Instead of adding '(' or ')' every time as in Approach 1, let's only add them when we know it will remain a valid sequence. We can do this by keeping track of the number of opening and closing brackets we have placed so far.\n",
    "\n",
    "We can start an opening bracket if we still have one (of n) left to place. And we can start a closing bracket if it would not exceed the number of opening brackets.\n",
    "\n",
    "Our complexity analysis rests on understanding how many elements there are in generateParenthesis(n). This analysis is outside the scope of this article, but it turns out this is the n-th Catalan number $\\dfrac{1}{n+1}\\binom{2n}{n} \n",
    "n+1$, which is bounded asymptotically by $\\dfrac{4^n}{n\\sqrt{n}} $\n",
    "\n",
    "* Time Complexity : $O(\\dfrac{4^n}{\\sqrt{n}})$ . Each valid sequence has at most n steps during the backtracking procedure.\n",
    "\n",
    "* Space Complexity : $O(\\dfrac{4^n}{\\sqrt{n}})$ , as described above, and using O(n) space to store the sequence. "
   ]
  },
  {
   "cell_type": "code",
   "execution_count": 1,
   "metadata": {},
   "outputs": [
    {
     "data": {
      "text/plain": [
       "['((()))', '(()())', '(())()', '()(())', '()()()']"
      ]
     },
     "execution_count": 1,
     "metadata": {},
     "output_type": "execute_result"
    }
   ],
   "source": [
    "def generateParenthesis(n):\n",
    "    ans = []\n",
    "    def backtrack(path = '', left = 0, right = 0):\n",
    "        if len(path) == 2*n:\n",
    "            ans.append(path)\n",
    "            return\n",
    "        if left < n:\n",
    "            backtrack(path+'(', left+1,right)\n",
    "        if left > right:\n",
    "            backtrack(path+')',left,right+1)\n",
    "\n",
    "    backtrack()\n",
    "    return ans\n",
    "generateParenthesis(3)"
   ]
  },
  {
   "cell_type": "code",
   "execution_count": null,
   "metadata": {},
   "outputs": [],
   "source": []
  }
 ],
 "metadata": {
  "kernelspec": {
   "display_name": "Python 3",
   "language": "python",
   "name": "python3"
  },
  "language_info": {
   "codemirror_mode": {
    "name": "ipython",
    "version": 3
   },
   "file_extension": ".py",
   "mimetype": "text/x-python",
   "name": "python",
   "nbconvert_exporter": "python",
   "pygments_lexer": "ipython3",
   "version": "3.6.8"
  }
 },
 "nbformat": 4,
 "nbformat_minor": 2
}
