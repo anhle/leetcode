{
 "cells": [
  {
   "cell_type": "markdown",
   "metadata": {},
   "source": [
    "# 155. Min Stack\n",
    "Design a stack that supports push, pop, top, and retrieving the minimum element in constant time.\n",
    "\n",
    "* push(x) -- Push element x onto stack.\n",
    "* pop() -- Removes the element on top of the stack.\n",
    "* top() -- Get the top element.\n",
    "* getMin() -- Retrieve the minimum element in the stack."
   ]
  },
  {
   "cell_type": "markdown",
   "metadata": {},
   "source": [
    "## Approach 1: using 2 stack"
   ]
  },
  {
   "cell_type": "code",
   "execution_count": null,
   "metadata": {},
   "outputs": [],
   "source": [
    "class MinStack:\n",
    "    def __init__(self):\n",
    "        self.stack = []\n",
    "        self.minstack = []\n",
    "\n",
    "    def push(self, x):\n",
    "        self.stack.append(x)\n",
    "        if len(self.minstack) == 0 or x <= self.minstack[-1]:\n",
    "            self.minstack.append(x)\n",
    "            \n",
    "    def pop(self):\n",
    "        \n",
    "        if self.stack[-1] == self.minstack[-1]:\n",
    "            self.minstack.pop()\n",
    "        self.stack.pop()\n",
    "\n",
    "    def top(self):\n",
    "        return self.stack[-1]\n",
    "\n",
    "    def getMin(self):\n",
    "        return self.minstack[-1]"
   ]
  },
  {
   "cell_type": "markdown",
   "metadata": {},
   "source": [
    "## Approach 2: using 01 stack"
   ]
  },
  {
   "cell_type": "code",
   "execution_count": null,
   "metadata": {},
   "outputs": [],
   "source": [
    "class MinStack(object):\n",
    "    def __init__(self):\n",
    " \n",
    "        self.stack = []\n",
    "\n",
    "    def push(self, x):\n",
    "        curMin = self.getMin()\n",
    "        if curMin == None or x < curMin:\n",
    "            curMin = x\n",
    "        self.stack.append((x,curMin))\n",
    "                   \n",
    "    def pop(self):\n",
    "        self.stack.pop()\n",
    "\n",
    "    def top(self):\n",
    "        if len(self.stack) == 0:\n",
    "            return None\n",
    "        else:\n",
    "            return self.stack[-1][0]\n",
    "\n",
    "    def getMin(self):\n",
    "        if len(self.stack) == 0:\n",
    "            return None\n",
    "        else:\n",
    "            return self.stack[-1][1]"
   ]
  }
 ],
 "metadata": {
  "kernelspec": {
   "display_name": "Python 3",
   "language": "python",
   "name": "python3"
  },
  "language_info": {
   "codemirror_mode": {
    "name": "ipython",
    "version": 3
   },
   "file_extension": ".py",
   "mimetype": "text/x-python",
   "name": "python",
   "nbconvert_exporter": "python",
   "pygments_lexer": "ipython3",
   "version": "3.6.8"
  }
 },
 "nbformat": 4,
 "nbformat_minor": 2
}
