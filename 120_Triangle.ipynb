{
 "cells": [
  {
   "cell_type": "markdown",
   "metadata": {},
   "source": [
    "# 120. Triangle\n",
    "Given a triangle, find the minimum path sum from top to bottom. Each step you may move to adjacent numbers on the row below.\n",
    "\n",
    "For example, given the following triangle\n",
    "\n",
    "\n",
    "    [\n",
    "       [2],\n",
    "      [3,4],\n",
    "     [6,5,7],\n",
    "    [4,1,8,3]\n",
    "    ]\n",
    "\n",
    "The minimum path sum from top to bottom is 11 (i.e., 2 + 3 + 5 + 1 = 11).\n",
    "\n",
    "Note:\n",
    "\n",
    "Bonus point if you are able to do this using only O(n) extra space, where n is the total number of rows in the triangle.\n",
    "\n",
    "## Analysis: \n",
    "you would notice that the adjacent nodes always share a 'branch'. In other word, there are **overlapping subproblems** . Also, suppose x and y are 'children' of k. Once minimum paths from x and y to the bottom are known, the minimum path starting from k can be decided in O(1), that is **optimal substructure**. Therefore, dynamic programming would be the best solution to this problem in terms of time complexity.\n",
    "\n",
    "What I like about this problem even more is that the difference between 'top-down' and 'bottom-up' DP can be 'literally' pictured in the input triangle. \n",
    "\n",
    "* For 'top-down' DP, starting from the node on the very top, we recursively find the minimum path sum of each node. When a path sum is calculated, we store it in an array (memoization); the next time we need to calculate the path sum of the same node, just retrieve it from the array. However, you will need a cache that is at least the same size as the input triangle itself to store the pathsum, which takes O(N^2) space. With some clever thinking, it might be possible to release some of the memory that will never be used after a particular point, but the order of the nodes being processed is not straightforwardly seen in a recursive solution, so deciding which part of the cache to discard can be a hard job.\n",
    "\n",
    "* 'Bottom-up' DP, on the other hand, is very straightforward: we start from the nodes on the bottom row; the min pathsums for these nodes are the values of the nodes themselves. From there, the min pathsum at the ith node on the kth row would be the lesser of the pathsums of its two children plus the value of itself, i.e.:\n",
    "\n",
    "> minpath[k][i] = min( minpath[k+1][i], minpath[k+1][i+1]) + triangle[k][i];\n",
    "\n",
    "Or even better, since the row minpath[k+1] would be useless after minpath[k] is computed, we can simply set minpath as a 1D array, and iteratively update itself:\n",
    "\n",
    "> For the kth level:\n",
    "> minpath[i] = min( minpath[i], minpath[i+1]) + triangle[k][i]; "
   ]
  },
  {
   "cell_type": "code",
   "execution_count": 1,
   "metadata": {},
   "outputs": [
    {
     "name": "stdout",
     "output_type": "stream",
     "text": [
      "[0, 0, 0, 0, 0]\n",
      "11\n"
     ]
    }
   ],
   "source": [
    "def minimumTotal(triangle):\n",
    "    n = len(triangle)        \n",
    "    dp = [0]*(n+1)\n",
    "    for row in triangle[::-1]: # for each row\n",
    "        for i in range(len(row)):\n",
    "            dp[i] = min(dp[i],dp[i+1]) + row[i]\n",
    "    return dp[0]\n",
    "\n",
    "print(minimumTotal([[2],[3,4],[6,5,7],[4,1,8,3]]))"
   ]
  },
  {
   "cell_type": "code",
   "execution_count": null,
   "metadata": {},
   "outputs": [],
   "source": []
  }
 ],
 "metadata": {
  "kernelspec": {
   "display_name": "Python 3",
   "language": "python",
   "name": "python3"
  },
  "language_info": {
   "codemirror_mode": {
    "name": "ipython",
    "version": 3
   },
   "file_extension": ".py",
   "mimetype": "text/x-python",
   "name": "python",
   "nbconvert_exporter": "python",
   "pygments_lexer": "ipython3",
   "version": "3.6.8"
  }
 },
 "nbformat": 4,
 "nbformat_minor": 2
}
