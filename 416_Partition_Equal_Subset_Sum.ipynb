{
 "cells": [
  {
   "cell_type": "markdown",
   "metadata": {},
   "source": [
    "# 416. Partition Equal Subset Sum\n",
    "Given a non-empty array containing only positive integers, find if the array can be partitioned into two subsets such that the sum of elements in both subsets is equal.\n",
    "\n",
    "Note:\n",
    "\n",
    "Each of the array element will not exceed 100.\n",
    "The array size will not exceed 200.\n",
    " \n",
    "\n",
    "Example 1:\n",
    "\n",
    "Input: [1, 5, 11, 5]\n",
    "\n",
    "Output: true\n",
    "\n",
    "Explanation: The array can be partitioned as [1, 5, 5] and [11]."
   ]
  },
  {
   "cell_type": "code",
   "execution_count": 1,
   "metadata": {},
   "outputs": [
    {
     "data": {
      "text/plain": [
       "True"
      ]
     },
     "execution_count": 1,
     "metadata": {},
     "output_type": "execute_result"
    }
   ],
   "source": [
    "def canPartition(nums):\n",
    "    s = sum(nums)\n",
    "    if s % 2 != 0:\n",
    "        return False\n",
    "    nums.sort(reverse=True)\n",
    "    memo = {}\n",
    "\n",
    "    def findSum(start,target):\n",
    "        if target in memo:\n",
    "            return memo[target]\n",
    "        if target == 0:\n",
    "            return True\n",
    "        elif target < 0:\n",
    "            return\n",
    "        else:            \n",
    "            for i in range(start,len(nums)):\n",
    "                if findSum(i+1,target-nums[i]):\n",
    "                    return True\n",
    "        memo[target] = False\n",
    "        return memo[target]\n",
    "\n",
    "    return findSum(0,s/2)\n",
    "canPartition([1, 5, 11, 5])"
   ]
  },
  {
   "cell_type": "code",
   "execution_count": 2,
   "metadata": {},
   "outputs": [
    {
     "data": {
      "text/plain": [
       "True"
      ]
     },
     "execution_count": 2,
     "metadata": {},
     "output_type": "execute_result"
    }
   ],
   "source": [
    "def canPartition(nums) :\n",
    "    s = sum(nums)\n",
    "    if s % 2 != 0:\n",
    "        return False\n",
    "    s >>= 1\n",
    "    n = len(nums)\n",
    "    dp = [[0]*(s+1) for _ in range(n+1)]\n",
    "    for i in range(n+1):\n",
    "        dp[i][0] = 1 # True\n",
    "    for i in range(1,n+1):\n",
    "        for j in range(1,s+1):\n",
    "            if j < nums[i-1]: # nums[i-1] can't be picked\n",
    "                dp[i][j] = dp[i-1][j]\n",
    "            else: # pick num{i-1}\n",
    "                dp[i][j] = dp[i-1][j] or dp[i-1][j-nums[i-1]]\n",
    "\n",
    "    return bool(dp[n][s])\n",
    "\n",
    "canPartition([1, 5, 11, 5])"
   ]
  },
  {
   "cell_type": "code",
   "execution_count": null,
   "metadata": {},
   "outputs": [],
   "source": []
  }
 ],
 "metadata": {
  "kernelspec": {
   "display_name": "Python 3",
   "language": "python",
   "name": "python3"
  },
  "language_info": {
   "codemirror_mode": {
    "name": "ipython",
    "version": 3
   },
   "file_extension": ".py",
   "mimetype": "text/x-python",
   "name": "python",
   "nbconvert_exporter": "python",
   "pygments_lexer": "ipython3",
   "version": "3.6.8"
  }
 },
 "nbformat": 4,
 "nbformat_minor": 2
}
