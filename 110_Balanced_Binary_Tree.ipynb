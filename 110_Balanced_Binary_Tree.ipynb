{
 "cells": [
  {
   "cell_type": "markdown",
   "metadata": {},
   "source": [
    "# 110. Balanced Binary Tree\n",
    "Given a binary tree, determine if it is height-balanced.\n",
    "\n",
    "For this problem, a height-balanced binary tree is defined as:\n",
    "\n",
    "a binary tree in which the depth of the two subtrees of every node never differ by more than 1.\n",
    "\n",
    "Example 1:\n",
    "\n",
    "Given the following tree [3,9,20,null,null,15,7]:\n",
    "\n",
    "        3\n",
    "       / \\\n",
    "      9  20\n",
    "        /  \\\n",
    "       15   7\n",
    "Return true.\n"
   ]
  },
  {
   "cell_type": "markdown",
   "metadata": {},
   "source": [
    "This problem is generally believed to have two solutions: the top down approach and the bottom up way.\n",
    "\n",
    "## Approach 1: top down\n",
    "The first method checks whether the tree is balanced strictly according to the definition of balanced binary tree: the difference between the heights of the two sub trees are not bigger than 1, and both the left sub tree and right sub tree are also balanced. With the helper function depth(), we could easily write the code;\n",
    "\n",
    "* Time O(n^2): For the current node root, calling depth() for its left and right children actually has to access all of its children, thus the complexity is O(N). We do this for each node in the tree, so the overall complexity of isBalanced will be O(N^2). \n",
    "- I think it should be O(nlogn) in average case, and O(n^2) in worse case ( skew tree\n",
    "\n",
    "* Space O(n) ?\n"
   ]
  },
  {
   "cell_type": "code",
   "execution_count": null,
   "metadata": {},
   "outputs": [],
   "source": [
    "def isBalanced(root):\n",
    "    def depth(node):\n",
    "        if not node:\n",
    "            return 0\n",
    "        return max(depth(node.left),depth(node.right)) +1\n",
    "\n",
    "    if not root:\n",
    "        return True\n",
    "    left,right = depth(root.left),depth(root.right)\n",
    "    return abs(left - right) <= 1 and self.isBalanced(root.left) and self.isBalanced(root.right)"
   ]
  },
  {
   "cell_type": "markdown",
   "metadata": {},
   "source": [
    "## Approach 2: bottom up\n",
    "The second method is based on DFS. Instead of calling depth() explicitly for each child node, we return the height of the current node in DFS recursion. When the sub tree of the current node (inclusive) is balanced, the function dfsHeight() returns a non-negative value as the height. Otherwise -1 is returned. According to the leftHeight and rightHeight of the two children, the parent node could check if the sub tree\n",
    "is balanced, and decides its return value.\n",
    "\n",
    "* Time O(n): each node in the tree only need to be accessed once. "
   ]
  },
  {
   "cell_type": "code",
   "execution_count": null,
   "metadata": {},
   "outputs": [],
   "source": [
    "def isBalanced(root):\n",
    "    def dfsHeight(root):\n",
    "        if not root:\n",
    "            return 0\n",
    "        left,right = dfsHeight(root.left),dfsHeight(root.right)\n",
    "        if left == -1 or  right == -1 or abs(left-right) > 1:\n",
    "            return -1\n",
    "        return max(left,right) + 1\n",
    "\n",
    "    return dfsHeight(root) != -1"
   ]
  }
 ],
 "metadata": {
  "kernelspec": {
   "display_name": "Python 3",
   "language": "python",
   "name": "python3"
  },
  "language_info": {
   "codemirror_mode": {
    "name": "ipython",
    "version": 3
   },
   "file_extension": ".py",
   "mimetype": "text/x-python",
   "name": "python",
   "nbconvert_exporter": "python",
   "pygments_lexer": "ipython3",
   "version": "3.6.8"
  }
 },
 "nbformat": 4,
 "nbformat_minor": 2
}
