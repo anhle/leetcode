{
 "cells": [
  {
   "attachments": {},
   "cell_type": "markdown",
   "metadata": {},
   "source": [
    "# 279. Perfect Squares\n",
    "Given a positive integer n, find the least number of perfect square numbers (for example, 1, 4, 9, 16, ...) which sum to n.\n",
    "\n",
    "Example 1:\n",
    "\n",
    "Input: n = 12\n",
    "\n",
    "Output: 3 \n",
    "\n",
    "Explanation: 12 = 4 + 4 + 4.\n",
    "\n",
    "Example 2:\n",
    "\n",
    "Input: n = 13\n",
    "\n",
    "Output: 2\n",
    "\n",
    "Explanation: 13 = 4 + 9.\n",
    "\n",
    "Topic analysis\n",
    "This topic is very interesting.\n",
    "\n",
    "The answers given in most of the articles are based on a theorem: the four-square theorem .\n",
    "\n",
    "The four-square theorem says that any positive integer can be expressed as the sum of squares of no more than four integers. In other words, the answer to this question is only the four possibilities of 1, 2, 3, and 4.\n",
    "\n",
    "At the same time, there is a very important inference that satisfies the number n of the square sum theorem (which is composed of four numbers and less than four), and must satisfy n = 4 a * (8b + 7).\n",
    "\n",
    "\n",
    "## 1.Dynamic Programming\n",
    "Suppose dp[i] records to least number of perfect square numbers that sum up to i. And there are multiple ways for perfect square numbers to sum up to i.\n",
    "\n",
    "The candidate way is to add a perfect square number j*j to a sum of perfect square numbers that equals to i. And it can be generized as i-j*j + j*j. So the least number of perfect square numbers that sum up to i-j*j is dp[i-j*j]. So candidate answer is dp[i-j*j]+1(add one more number j*j).\n",
    "\n",
    "Time complexity is O(n√n)."
   ]
  },
  {
   "cell_type": "code",
   "execution_count": 2,
   "metadata": {},
   "outputs": [
    {
     "name": "stdout",
     "output_type": "stream",
     "text": [
      "3\n"
     ]
    }
   ],
   "source": [
    "def numSquares(n):\n",
    "    dp = [0] + [n+1]*n\n",
    "    for i in range(1,n+1):\n",
    "        dp[i] = min(dp[i-j*j] for j in range(1,int(i**0.5)+1)) +1\n",
    "\n",
    "    return dp[n]\n",
    "\n",
    "print(numSquares(12))"
   ]
  },
  {
   "cell_type": "markdown",
   "metadata": {},
   "source": [
    "## Another solution is to use BFS.\n",
    "\n",
    "Consider a graph which consists of number 0, 1,...,n as its nodes. Node j is connected to node i via an edge if and only if either j = i + (a perfect square number) or i = j + (a perfect square number). Starting from node 0, do the breadth-first search. If we reach node n at step m, then the least number of perfect square numbers which sum to n is m. Here since we have already obtained the perfect square numbers, we have actually finished the search at step 1.\n",
    "\n",
    "The root node is n, and we are trying to keep reduce a perfect square number from it each layer. So the next layer nodes are ${n - i**2 for i in range(1, int(n**0.5)+1)}$. And target leaf node is 0, indicates n is made up of a number of perfect square numbers and depth is the least number of perfect square numbers.\n",
    "\n",
    "![four_square.gif](attachment:four_square.gif)\n"
   ]
  },
  {
   "cell_type": "code",
   "execution_count": 3,
   "metadata": {},
   "outputs": [
    {
     "name": "stdout",
     "output_type": "stream",
     "text": [
      "3\n"
     ]
    }
   ],
   "source": [
    "def numSquares(n):\n",
    "    squares = [i**2 for i in range(1,int(n**0.5)+1)]\n",
    "    d, q, nq = 1,{n},set()\n",
    "    while q:\n",
    "        for node in q:\n",
    "            for square in squares:\n",
    "                if node == square:\n",
    "                    return d\n",
    "                if node < square:\n",
    "                    break\n",
    "                nq.add(node-square)\n",
    "        q,nq,d = nq,set(),d+1\n",
    "        \n",
    "print(numSquares(12))"
   ]
  },
  {
   "cell_type": "code",
   "execution_count": null,
   "metadata": {},
   "outputs": [],
   "source": []
  }
 ],
 "metadata": {
  "kernelspec": {
   "display_name": "Python 3",
   "language": "python",
   "name": "python3"
  },
  "language_info": {
   "codemirror_mode": {
    "name": "ipython",
    "version": 3
   },
   "file_extension": ".py",
   "mimetype": "text/x-python",
   "name": "python",
   "nbconvert_exporter": "python",
   "pygments_lexer": "ipython3",
   "version": "3.6.8"
  }
 },
 "nbformat": 4,
 "nbformat_minor": 2
}
