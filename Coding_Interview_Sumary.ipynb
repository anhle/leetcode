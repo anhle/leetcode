{
  "nbformat": 4,
  "nbformat_minor": 0,
  "metadata": {
    "colab": {
      "name": "Coding_Interview_Sumary.ipynb",
      "version": "0.3.2",
      "provenance": [],
      "collapsed_sections": [],
      "include_colab_link": true
    },
    "kernelspec": {
      "name": "python3",
      "display_name": "Python 3"
    }
  },
  "cells": [
    {
      "cell_type": "markdown",
      "metadata": {
        "id": "view-in-github",
        "colab_type": "text"
      },
      "source": [
        "<a href=\"https://colab.research.google.com/github/anhle/leetcode/blob/master/Coding_Interview_Sumary.ipynb\" target=\"_parent\"><img src=\"https://colab.research.google.com/assets/colab-badge.svg\" alt=\"Open In Colab\"/></a>"
      ]
    },
    {
      "cell_type": "markdown",
      "metadata": {
        "id": "YlZm-vmhl32g",
        "colab_type": "text"
      },
      "source": [
        "# Coding Interview \n",
        "\n",
        "\n",
        "1.  [Arrays and Strings](#Arrays-and-Strings) - 10\n",
        "2.  [Linked Lists](#Linked-Lists) - 8\n",
        "3. [Stacks and Queues](#Stacks-and-Queues) - 8\n",
        "4. [Graphs and Trees](#Graphs-and-Trees) - 21\n",
        "5. [Sorting](#Sorting) - 10\n",
        "6. [Recursion and Dynamic Programming](#Recursion-and-Dynamic-Programming) - 17\n",
        "7. [Bit Manipulation](#Bit-Manipulation) - 8\n",
        "8. System Design - 8\n",
        "9. Object Oriented Design - 8\n",
        "\n"
      ]
    },
    {
      "cell_type": "markdown",
      "metadata": {
        "id": "JsYSVIQ6mK7E",
        "colab_type": "text"
      },
      "source": [
        "# Arrays and Strings\n",
        "1. Determine if a string contains unique characters\t- Solution\n",
        "2. Determine if a string is a permutation of another\t- Solution\n",
        "3. Determine if a string is a rotation of another\t- Solution\n",
        "4. Compress a string\t- Solution\n",
        "6. Given two strings, find the single different char\t- Solution\n",
        "7. Find two indices that sum to a specific value\t- Solution\n",
        "8. Implement a hash table\t- Solution\n",
        "9. Find the first non-repeated character in a string\t- Contribute\n",
        "10. Remove specified characters in a string\t- Contribute\n",
        "11. Reverse words in a string\t- Contribute\n",
        "12. Convert a string to an integer\t- Contribute\n",
        "13. Convert an integer to a string\t- Contribute"
      ]
    },
    {
      "cell_type": "markdown",
      "metadata": {
        "id": "ElB4uL3Dtn-M",
        "colab_type": "text"
      },
      "source": [
        "## 1. Determine if a string contains unique characters\n",
        "**Constraints**\n",
        "* Can we assume the string is ASCII?\n",
        "Yes.\n",
        "Note: Unicode strings could require special handling depending on your language\n",
        "* Can we assume this is case sensitive?\n",
        "Yes\n",
        "* Can we use additional data structures?\n",
        "Yes\n",
        "\n",
        "**Test Cases**\n",
        "\n",
        "* None -> False\n",
        "* '' -> True\n",
        "* 'foo' -> False\n",
        "* 'bar' -> True\n",
        "\n",
        "**Algorithm 1: Sets and Length Comparison**\n",
        "\n",
        "A set is an unordered collection of unique elements.\n",
        "If the length of the set(string) equals the length of the string\n",
        "  Return True\n",
        "Else\n",
        "Return False\n",
        "\n",
        "**Complexity:**\n",
        "\n",
        "* Time: O(n)\n",
        "* Space: Additional O(n)"
      ]
    },
    {
      "cell_type": "code",
      "metadata": {
        "id": "YvCOjFsDuzSP",
        "colab_type": "code",
        "colab": {}
      },
      "source": [
        "def has_unique_chars(string):\n",
        "    if string is None:\n",
        "        return False\n",
        "    return len(set(string)) == len(string)\n",
        "has_unique_chars(\"abc\")"
      ],
      "execution_count": 0,
      "outputs": []
    },
    {
      "cell_type": "markdown",
      "metadata": {
        "id": "upCkQscOvNXH",
        "colab_type": "text"
      },
      "source": [
        "**Algorithm 2: Hash Map Lookup**\n",
        "\n",
        "We'll keep a hash map (set) to keep track of unique characters we encounter.\n",
        "\n",
        "Steps:\n",
        "\n",
        "Scan each character\n",
        "For each character:\n",
        "If the character does not exist in a hash map, add the character to a hash map\n",
        "Else, return False\n",
        "Return True\n",
        "Notes:\n",
        "\n",
        "* We could also use a dictionary, but it seems more logical to use a set as it does not contain duplicate elements\n",
        "* Since the characters are in ASCII, we could potentially use an array of size 128 (or 256 for extended ASCII)\n",
        "\n",
        "**Complexity:**\n",
        "\n",
        "* Time: O(n)\n",
        "* Space: Additional O(n)"
      ]
    },
    {
      "cell_type": "code",
      "metadata": {
        "id": "etZDVd7ovg3O",
        "colab_type": "code",
        "colab": {}
      },
      "source": [
        "def has_unique_chars(string):\n",
        "      if string is None:\n",
        "          return False\n",
        "      chars_set = set()\n",
        "      for char in string:\n",
        "          if char in chars_set:\n",
        "              return False\n",
        "          else:\n",
        "              chars_set.add(char)\n",
        "      return True\n",
        "\n",
        "has_unique_chars(\"abc\")"
      ],
      "execution_count": 0,
      "outputs": []
    },
    {
      "cell_type": "markdown",
      "metadata": {
        "id": "ko8mqqAhwEmd",
        "colab_type": "text"
      },
      "source": [
        "**Algorithm 3: In-Place**\n",
        "Assume we cannot use additional data structures, which will eliminate the fast lookup O(1) time provided by our hash map.\n",
        "\n",
        "Scan each character\n",
        "For each character:\n",
        "Scan all [other] characters in the array\n",
        "Excluding the current character from the scan is rather tricky in Python and results in a non-Pythonic solution\n",
        "If there is a match, return False\n",
        "Return True\n",
        "\n",
        "**Complexity:**\n",
        "\n",
        "* Time: O(n^2)\n",
        "* Space: O(1)"
      ]
    },
    {
      "cell_type": "code",
      "metadata": {
        "id": "eHW4WGp5wPVC",
        "colab_type": "code",
        "colab": {}
      },
      "source": [
        "def has_unique_chars(string):\n",
        "      if string is None:\n",
        "          return False\n",
        "      for char in string:\n",
        "          if string.count(char) > 1:\n",
        "              return False\n",
        "      return True"
      ],
      "execution_count": 0,
      "outputs": []
    },
    {
      "cell_type": "markdown",
      "metadata": {
        "id": "EprtHylqwfy2",
        "colab_type": "text"
      },
      "source": [
        "## Determine if a string is a permutation of another string\n",
        "**Constraints**\n",
        "* Can we assume the string is ASCII?\n",
        "Yes\n",
        "Note: Unicode strings could require special handling depending on your language\n",
        "* Is whitespace important?\n",
        "Yes\n",
        "* Is this case sensitive? 'Nib', 'bin' is not a match?\n",
        "Yes\n",
        "* Can we use additional data structures?\n",
        "Yes\n",
        "\n",
        "**Test Cases**\n",
        "* One or more None inputs -> False\n",
        "* One or more empty strings -> False\n",
        "* 'Nib', 'bin' -> False\n",
        "* 'act', 'cat' -> True\n",
        "* 'a ct', 'ca t' -> True\n",
        "* 'dog', 'doggo' -> False\n",
        "\n",
        "**Algorithm 1: Compare Sorted Strings**\n",
        "Permutations contain the same strings but in different orders. This approach could be slow for large strings due to sorting.\n",
        "\n",
        "**Complexity:**\n",
        "\n",
        "* Time: O(n log n) from the sort, in general\n",
        "* Space: O(n)\n"
      ]
    },
    {
      "cell_type": "code",
      "metadata": {
        "id": "SrkZFA3CxIi6",
        "colab_type": "code",
        "colab": {}
      },
      "source": [
        "def is_permutation(str1, str2):\n",
        "      if str1 is None or str2 is None:\n",
        "          return False\n",
        "      return sorted(str1) == sorted(str2)\n",
        "is_permutation('act', 'cat')"
      ],
      "execution_count": 0,
      "outputs": []
    },
    {
      "cell_type": "markdown",
      "metadata": {
        "id": "RPgLs8EAxXkT",
        "colab_type": "text"
      },
      "source": [
        "**Algorithm: Hash Map Lookup**\n",
        "\n",
        "We'll keep a hash map (dict) to keep track of characters we encounter.\n",
        "\n",
        "Steps:\n",
        "\n",
        "Scan each character\n",
        "For each character in each string:\n",
        "If the character does not exist in a hash map, add the character to a hash map\n",
        "Else, increment the character's count\n",
        "If the hash maps for each string are equal\n",
        "Return True\n",
        "Else\n",
        "Return False\n",
        "\n",
        "Notes:\n",
        "\n",
        "* Since the characters are in ASCII, we could potentially use an array of size 128 (or 256 for extended ASCII), where each array index is equivalent to an ASCII value\n",
        "* Instead of using two hash maps, you could use one hash map and increment character values based on the first string and decrement based on the second string\n",
        "*You can short circuit if the lengths of each string are not equal, although len() in Python is generally O(1) unlike other languages like C where getting the length of a string is O(n)\n",
        "\n",
        "**Complexity:**\n",
        "\n",
        "Time: O(n)\n",
        "Space: O(n)"
      ]
    },
    {
      "cell_type": "code",
      "metadata": {
        "id": "6iyY2s-pxwD_",
        "colab_type": "code",
        "colab": {}
      },
      "source": [
        "import collections\n",
        "def is_permutation(str1, str2):\n",
        "      if str1 is None or str2 is None:\n",
        "          return False\n",
        "      if len(str1) != len(str2):\n",
        "          return False\n",
        "      unique_counts1 = defaultdict(int)\n",
        "      unique_counts2 = defaultdict(int)\n",
        "      for char in str1:\n",
        "          unique_counts1[char] += 1\n",
        "      for char in str2:\n",
        "          unique_counts2[char] += 1\n",
        "      return unique_counts1 == unique_counts2\n",
        "\n",
        "is_permutation('act', 'cat')"
      ],
      "execution_count": 0,
      "outputs": []
    },
    {
      "cell_type": "markdown",
      "metadata": {
        "id": "smu6sb7Mzhrk",
        "colab_type": "text"
      },
      "source": [
        "## Determine if a string s1 is a rotation of another string s2, by calling (only once) a function is_substring\n",
        "**Constraints**\n",
        "* Can we assume the string is ASCII?\n",
        "Yes\n",
        "Note: Unicode strings could require special handling depending on your language\n",
        "* Is this case sensitive?\n",
        "Yes\n",
        "* Can we use additional data structures?\n",
        "Yes\n",
        "\n",
        "**Test Cases**\n",
        "* Any strings that differ in size -> False\n",
        "* None, 'foo' -> False (any None results in False)\n",
        "* ' ', 'foo' -> False\n",
        "* ' ', ' ' -> True\n",
        "* 'foobarbaz', 'barbazfoo' -> True\n",
        "\n",
        "**Algorithm**\n",
        "Examine the following test case:\n",
        "\n",
        "s1 = 'barbazfoo'\n",
        "s2 = 'foobarbaz'\n",
        "We see that if we can use the given is_substring method if we take compare s2 with s1 + s1:\n",
        "\n",
        "s2 = 'foobarbaz'\n",
        "s3 = 'barbazfoobarbazfoo'\n",
        "\n",
        "**Complexity:**\n",
        "\n",
        "Time: O(n)\n",
        "Space: O(n)"
      ]
    },
    {
      "cell_type": "code",
      "metadata": {
        "id": "l1onnUE30G_f",
        "colab_type": "code",
        "colab": {}
      },
      "source": [
        "def is_rotation(s1, s2):\n",
        "      if s1 is None or s2 is None:\n",
        "          return False\n",
        "      if len(s1) = len(s2):\n",
        "          return False\n",
        "      return s1 in (s2 + s2)\n",
        "\n",
        "is_rotation('foobarbaz', 'barbazfoo')"
      ],
      "execution_count": 0,
      "outputs": []
    },
    {
      "cell_type": "markdown",
      "metadata": {
        "id": "k263nipO0li4",
        "colab_type": "text"
      },
      "source": [
        "## Compress a string such that 'AAABCCDDDD' becomes 'A3BC2D4'. Only compress the string if it saves space\n",
        "\n",
        "**Test Cases**\n",
        "* None -> None\n",
        "* '' -> ''\n",
        "* 'AABBCC' -> 'AABBCC'\n",
        "* 'AAABCCDDDD' -> 'A3BC2D4'\n",
        "\n",
        "**Algorithm**\n",
        "\n",
        "For each char in string\n",
        "If char is the same as last_char, increment count\n",
        "Else\n",
        "Append last_char and count to compressed_string\n",
        "last_char = char\n",
        "count = 1\n",
        "Append last_char and count to compressed_string\n",
        "If the compressed string size is < string size\n",
        "Return compressed string\n",
        "Else\n",
        "Return string\n",
        "\n",
        "**Complexity:**\n",
        "\n",
        "Time: O(n)\n",
        "Space: O(n)\n",
        "\n",
        "Complexity Note:\n",
        "\n",
        "Although strings are immutable in Python, appending to strings is optimized in CPython so that it now runs in O(n) and extends the string in-place."
      ]
    },
    {
      "cell_type": "code",
      "metadata": {
        "id": "HUhenV4Y1Rto",
        "colab_type": "code",
        "colab": {
          "base_uri": "https://localhost:8080/",
          "height": 35
        },
        "outputId": "9d019913-00d9-4ff1-cf98-6df5c5cf1837"
      },
      "source": [
        "def compress(string):\n",
        "      if string is None or not string:\n",
        "          return string\n",
        "      result = ''\n",
        "      prev_char = string[0]\n",
        "      count = 0\n",
        "      for char in string:\n",
        "          if char == prev_char:\n",
        "              count += 1\n",
        "          else:\n",
        "              result += _calc_partial_result(prev_char, count)\n",
        "              prev_char = char\n",
        "              count = 1\n",
        "      result += _calc_partial_result(prev_char, count)\n",
        "      return result if len(result) < len(string) else string\n",
        "\n",
        "def _calc_partial_result(prev_char, count):\n",
        "    return prev_char + (str(count) if count > 1 else '')\n",
        "\n",
        "compress('AAABCCDDDD')\n",
        "\n"
      ],
      "execution_count": 12,
      "outputs": [
        {
          "output_type": "execute_result",
          "data": {
            "text/plain": [
              "'A3BC2D4'"
            ]
          },
          "metadata": {
            "tags": []
          },
          "execution_count": 12
        }
      ]
    },
    {
      "cell_type": "markdown",
      "metadata": {
        "id": "iKma1iOO3JwD",
        "colab_type": "text"
      },
      "source": [
        "## Find the single different char between two strings.\n",
        "**Constraints**\n",
        "* Can we assume the strings are ASCII?\n",
        "Yes\n",
        "* Is case important?\n",
        "The strings are lower case\n",
        "* Can we assume the inputs are valid?\n",
        "No, check for None\n",
        "* Otherwise, assume there is only a single different char between the two strings\n",
        "\n",
        "**Test Cases**\n",
        "* None input -> TypeError\n",
        "* 'ab', 'aab' -> 'a'\n",
        "* 'aab', 'ab' -> 'a'\n",
        "* 'abcd', 'abcde' -> 'e'\n",
        "* 'aaabbcdd', 'abdbacade' -> 'e'\n",
        "\n",
        "**Algorithm**\n",
        "Dictionary\n",
        "Keep a dictionary of seen values in s\n",
        "Loop through t, decrementing the seen values\n",
        "If the char is not there or if the decrement results in a negative value, return the char\n",
        "Return the differing char from the dictionary\n",
        "\n",
        "**Complexity:**\n",
        "\n",
        "Time: O(m+n), where m and n are the lengths of s, t\n",
        "Space: O(h), for the dict, where h is the unique chars in s\n",
        "\n",
        "**XOR**\n",
        "\n",
        "XOR the two strings, which will isolate the differing char\n",
        "\n",
        "**Complexity:**\n",
        "\n",
        "* Time: O(m+n), where m and n are the lengths of s, t\n",
        "* Space: O(1)"
      ]
    },
    {
      "cell_type": "code",
      "metadata": {
        "id": "ub4-uwTS31EO",
        "colab_type": "code",
        "colab": {
          "base_uri": "https://localhost:8080/",
          "height": 35
        },
        "outputId": "253a4a88-067a-4870-e7eb-2bddf785ac89"
      },
      "source": [
        "def find_diff(str1, str2):\n",
        "        if str1 is None or str2 is None:\n",
        "            raise TypeError('str1 or str2 cannot be None')\n",
        "        seen = {}\n",
        "        for char in str1:\n",
        "            if char in seen:\n",
        "                seen[char] += 1\n",
        "            else:\n",
        "                seen[char] = 1\n",
        "        for char in str2:\n",
        "            try:\n",
        "                seen[char] -= 1\n",
        "            except KeyError:\n",
        "                return char\n",
        "            if seen[char] < 0:\n",
        "                return char\n",
        "        for char, count in seen.items():\n",
        "            return char\n",
        "\n",
        "def find_diff_xor(str1, str2):\n",
        "    if str1 is None or str2 is None:\n",
        "        raise TypeError('str1 or str2 cannot be None')\n",
        "    result = 0\n",
        "    for char in str1:\n",
        "        result ^= ord(char)\n",
        "    for char in str2:\n",
        "        result ^= ord(char)\n",
        "    return chr(result)\n",
        "\n",
        "find_diff('aaabbcdd', 'abdbacade')"
      ],
      "execution_count": 13,
      "outputs": [
        {
          "output_type": "execute_result",
          "data": {
            "text/plain": [
              "'e'"
            ]
          },
          "metadata": {
            "tags": []
          },
          "execution_count": 13
        }
      ]
    },
    {
      "cell_type": "markdown",
      "metadata": {
        "id": "BAE4Lfr2or-N",
        "colab_type": "text"
      },
      "source": [
        "# Linked Lists\n",
        "1. Remove duplicates from a linked list\t- Solution\n",
        "2. Find the kth to last element of a linked list\t- Solution\n",
        "3. Delete a node in the middle of a linked list\t- Solution\n",
        "4. Partition a linked list around a given value\t- Solution\n",
        "5. Add two numbers whose digits are stored in a linked list\t- Solution\n",
        "6. Find the start of a linked list loop\t- Solution\n",
        "7. Determine if a linked list is a palindrome\t- Solution\n",
        "8. Implement a linked list\t- Solution\n",
        "9. Determine if a list is cyclic or acyclic\t- Contribute"
      ]
    },
    {
      "cell_type": "markdown",
      "metadata": {
        "id": "9l3SMig0-taM",
        "colab_type": "text"
      },
      "source": [
        "## Remove duplicates from a linked list\n",
        "**Constraints**\n",
        "* Can we assume this is a non-circular, singly linked list?\n",
        "Yes\n",
        "* Can you insert None values in the list?\n",
        "No\n",
        "* Can we assume we already have a linked list class that can be used for this problem?\n",
        "Yes\n",
        "* Can we use additional data structures?\n",
        "Implement both solutions\n",
        "\n",
        "**Test Cases**\n",
        "* Empty linked list -> []\n",
        "* One element linked list -> [element]\n",
        "* General case with no duplicates\n",
        "* General case with duplicates\n",
        "\n",
        "**Algorithm 1: Hash Map Lookup**\n",
        "Loop through each node\n",
        "\n",
        "For each node\n",
        "If the node's value is in the hash map\n",
        "Delete the node\n",
        "Else\n",
        "Add node's value to the hash map\n",
        "\n",
        "**Complexity:**\n",
        "\n",
        "Time: O(n)\n",
        "Space: O(n)\n",
        "\n",
        "\n",
        "**Algorithm: In-Place**\n",
        "For each node\n",
        "Compare node with every other node\n",
        "Delete nodes that match current node\n",
        "\n",
        "**Complexity:**\n",
        "\n",
        "Time: O(n^2)\n",
        "Space: O(1)\n",
        "\n",
        "Note:\n",
        "\n",
        "We'll need to use a 'runner' to check every other node and compare it to the current node"
      ]
    },
    {
      "cell_type": "code",
      "metadata": {
        "id": "zEBNQHuX_Zt4",
        "colab_type": "code",
        "colab": {}
      },
      "source": [
        "def remove_dupes(self):\n",
        "        if self.head is None:\n",
        "            return\n",
        "        node = self.head\n",
        "        seen_data = set()\n",
        "        while node is not None:\n",
        "            if node.data not in seen_data:\n",
        "                seen_data.add(node.data)\n",
        "                prev = node\n",
        "                node = node.next\n",
        "            else:\n",
        "                prev.next = node.next\n",
        "                node = node.next\n",
        "\n",
        "    def remove_dupes_single_pointer(self):\n",
        "        if self.head is None:\n",
        "            return\n",
        "        node = self.head\n",
        "        seen_data = set({node.data})\n",
        "        while node.next is not None:\n",
        "            if node.next.data in seen_data:\n",
        "                node.next = node.next.next\n",
        "            else:\n",
        "                seen_data.add(node.next.data)\n",
        "                node = node.next\n",
        "\n",
        "    def remove_dupes_in_place(self):\n",
        "        curr = self.head\n",
        "        while curr is not None:\n",
        "            runner = curr\n",
        "            while runner.next is not None:\n",
        "                if runner.next.data == curr.data:\n",
        "                    runner.next = runner.next.next\n",
        "                else:\n",
        "                    runner = runner.next\n",
        "            curr = curr.next"
      ],
      "execution_count": 0,
      "outputs": []
    },
    {
      "cell_type": "markdown",
      "metadata": {
        "id": "qLZ-UnHS_rRc",
        "colab_type": "text"
      },
      "source": [
        "## Find the kth to last element of a linked list\n",
        "**Constraints**\n",
        "* Can we assume this is a non-circular, singly linked list?\n",
        "Yes\n",
        "* Can we assume k is a valid integer?\n",
        "Yes\n",
        "* If k = 0, does this return the last element?\n",
        "Yes\n",
        "* What happens if k is greater than or equal to the length of the linked list?\n",
        "Return None\n",
        "* Can you use additional data structures?\n",
        "No\n",
        "* Can we assume we already have a linked list class that can be used for this problem?\n",
        "Yes\n",
        "\n",
        "**Test Cases**\n",
        "* Empty list -> None\n",
        "* k is >= the length of the linked list -> None\n",
        "* One element, k = 0 -> element\n",
        "* General case with many elements, k < length of linked list\n",
        "\n",
        "**Algorithm**\n",
        "Setup two pointers, fast and slow\n",
        "Give fast a headstart, incrementing it once if k = 1, twice if k = 2, ...\n",
        "Increment both pointers until fast reaches the end\n",
        "Return the value of slow\n",
        "\n",
        "**Complexity:**\n",
        "\n",
        "Time: O(n)\n",
        "Space: O(1)"
      ]
    },
    {
      "cell_type": "code",
      "metadata": {
        "id": "Bd2_63sdAD7u",
        "colab_type": "code",
        "colab": {}
      },
      "source": [
        "def kth_to_last_elem(k):\n",
        "      if self.head is None:\n",
        "          return None\n",
        "      fast = self.head\n",
        "      slow = self.head\n",
        "\n",
        "      # Give fast a headstart, incrementing it\n",
        "      # once for k = 1, twice for k = 2, etc\n",
        "      for _ in range(k):\n",
        "          fast = fast.next\n",
        "          # If k >= num elements, return None\n",
        "          if fast is None:\n",
        "              return None\n",
        "\n",
        "      # Increment both pointers until fast reaches the end\n",
        "      while fast.next is not None:\n",
        "          fast = fast.next\n",
        "          slow = slow.next\n",
        "      return slow.data"
      ],
      "execution_count": 0,
      "outputs": []
    },
    {
      "cell_type": "markdown",
      "metadata": {
        "id": "eoc-yy55AdGv",
        "colab_type": "text"
      },
      "source": [
        "## Partition a linked list around a value x, such that all nodes less than x come before all nodes greater than or equal to x"
      ]
    },
    {
      "cell_type": "markdown",
      "metadata": {
        "id": "kl3eGRpjpNW_",
        "colab_type": "text"
      },
      "source": [
        "# Stacks and Queues\n",
        "1. Implement n stacks using a single array\t│Solution\n",
        "2. Implement a stack that keeps track of its minimum element\t│Solution\n",
        "3. Implement a set of stacks class that wraps a list of capacity-bounded stacks │Solution\n",
        "4. Implement a queue using two stacks\t│Solution\n",
        "5. Sort a stack using another stack as a buffer\t│Solution\n",
        "6. Implement a stack\t│Solution\n",
        "7. Implement a queue\t│Solution\n",
        "8. Implement a priority queue backed by an array │Solution"
      ]
    },
    {
      "cell_type": "markdown",
      "metadata": {
        "id": "oWD-zzWRpvV_",
        "colab_type": "text"
      },
      "source": [
        "# Graphs and Trees\n",
        "1. Implement depth-first search (pre-, in-, post-order) on a tree\t│Solution\n",
        "2. Implement breadth-first search on a tree\t│Solution\n",
        "3. Determine the height of a tree\t│Solution\n",
        "4. Create a binary search tree with minimal height from a sorted array\t│Solution\n",
        "5. Create a linked list for each level of a binary tree\t│Solution\n",
        "6. Check if a binary tree is balanced\t│Solution\n",
        "7. Determine if a tree is a valid binary search tree\t│Solution\n",
        "8. Find the in-order successor of a given node in a binary search tree\t│Solution\n",
        "9. Find the second largest node in a binary search tree\t│Solution\n",
        "10.Find the lowest common ancestor\t│Solution\n",
        "11. Invert a binary tree\t│Solution\n",
        "12. Implement a binary search tree\t│Solution\n",
        "13. Implement a min heap\t│Solution\n",
        "14. Implement a trie\t│Solution\n",
        "15. Implement depth-first search on a graph\t│Solution\n",
        "16. Implement breadth-first search on a graph\t│Solution\n",
        "17. Determine if there is a path between two nodes in a graph\t│Solution\n",
        "18. Implement a graph\t│Solution\n",
        "19. Find a build order given a list of projects and dependencies.│Solution\n",
        "20. Find the shortest path in a weighted graph.\t│Solution\n",
        "21. Find the shortest path in an unweighted graph.\t│Solution"
      ]
    },
    {
      "cell_type": "markdown",
      "metadata": {
        "id": "5sV1rjGjqqM-",
        "colab_type": "text"
      },
      "source": [
        "# Sorting\n",
        "1. Implement quick sort\tChallenge│Solution\n",
        "2. Implement merge sort\tChallenge│Solution\n",
        "3. Implement radix sort\tChallenge│Solution\n",
        "4. Sort an array of strings so all anagrams are next to each other\tChallenge│Solution\n",
        "5. Find an item in a sorted, rotated array\tChallenge│Solution\n",
        "6. Search a sorted matrix for an item\tChallenge│Solution\n",
        "7. Find an int not in an input of n integers\tChallenge│Solution\n",
        "8. Given sorted arrays A, B, merge B into A in sorted order\tChallenge│Solution\n",
        "9. Implement a stable selection sort\tContribute│Contribute\n",
        "10. Make an unstable sort stable\tContribute│Contribute\n",
        "11. Implement an efficient, in-place version of quicksort\tContribute│Contribute\n",
        "12. Given two sorted arrays, merge one into the other in sorted order\tContribute│Contribute\n",
        "13. Find an element in a rotated and sorted array of integers\tContribute│Contribute"
      ]
    },
    {
      "cell_type": "markdown",
      "metadata": {
        "id": "b_vG65c8rD0b",
        "colab_type": "text"
      },
      "source": [
        "# Recursion and Dynamic Programming\n",
        "1. Implement fibonacci recursively, dynamically, and iteratively│Solution\n",
        "2. Maximize items placed in a knapsack\t│Solution\n",
        "3. Maximize unbounded items placed in a knapsack\t│Solution\n",
        "4. Find the longest common subsequence\t│Solution\n",
        "5. Find the longest increasing subsequence\t│Solution\n",
        "6. Minimize the cost of matrix multiplication\t│Solution\n",
        "7. Maximize stock prices given k transactions\t│Solution\n",
        "8. Find the minimum number of ways to represent n cents given an array of coins\t│Solution\n",
        "9. Find the unique number of ways to represent n cents given an array of coins\tChallenge│Solution\n",
        "10. Print all valid combinations of n-pairs of parentheses│Solution\n",
        "11. Navigate a maze\t│Solution\n",
        "12. Print all subsets of a set\t│Solution\n",
        "13. Print all permutations of a string\t│Solution\n",
        "14. Find the magic index in an array│Solution\n",
        "15. Find the number of ways to run up n steps\t│Solution\n",
        "16. Implement the Towers of Hanoi with 3 towers and N disks\t│Solution\n",
        "17. Implement factorial recursively, dynamically, and iteratively\t│Contribute\n",
        "18. Perform a binary search on a sorted array of integers\t│Contribute\n",
        "19. Print all combinations of a string │Contribute\n",
        "20. Implement a paint fill function\t│Contribute\n",
        "21. Find all permutations to represent n cents, given 1, 5, 10, 25 cent coins\t│Contribute"
      ]
    },
    {
      "cell_type": "markdown",
      "metadata": {
        "id": "hLnpKrqqr6XC",
        "colab_type": "text"
      },
      "source": [
        "# Bit Manipulation\n",
        "1. Implement common bit manipulation operations\tChallenge│Solution\n",
        "2. Determine number of bits to flip to convert a into b\tChallenge│Solution\n",
        "3. Flip a bit to maximize the longest sequence of 1s\tChallenge│Solution\n",
        "4. Get the next largest and next smallest numbers\tChallenge│Solution\n",
        "5. Merge two binary numbers\tChallenge│Solution\n",
        "6. Swap odd and even bits in an integer\tChallenge│Solution\n",
        "7. Print the binary representation of a number between 0 and 1\tChallenge│Solution"
      ]
    },
    {
      "cell_type": "code",
      "metadata": {
        "id": "AMwXagg0lSpW",
        "colab_type": "code",
        "colab": {}
      },
      "source": [
        ""
      ],
      "execution_count": 0,
      "outputs": []
    }
  ]
}