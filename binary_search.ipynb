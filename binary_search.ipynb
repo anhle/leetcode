{
 "cells": [
  {
   "cell_type": "markdown",
   "metadata": {},
   "source": [
    "# 704. Binary Search"
   ]
  },
  {
   "cell_type": "code",
   "execution_count": 1,
   "metadata": {},
   "outputs": [
    {
     "data": {
      "text/plain": [
       "4"
      ]
     },
     "execution_count": 1,
     "metadata": {},
     "output_type": "execute_result"
    }
   ],
   "source": [
    "def search( nums, target) :\n",
    "    lo,hi = 0,len(nums)-1\n",
    "    while lo <= hi:\n",
    "        mid = (lo + hi)//2\n",
    "        if nums[mid] < target:\n",
    "            lo = mid +1\n",
    "        elif nums[mid] > target:\n",
    "            hi = mid -1\n",
    "        else:\n",
    "            return mid\n",
    "    return -1\n",
    "\n",
    "search([-1,0,3,5,9,12],9)"
   ]
  },
  {
   "cell_type": "markdown",
   "metadata": {},
   "source": [
    "# 34. Find First and Last Position of Element in Sorted Array\n",
    "Given an array of integers nums sorted in ascending order, find the starting and ending position of a given target value.\n",
    "\n",
    "Your algorithm's runtime complexity must be in the order of O(log n).\n",
    "\n",
    "If the target is not found in the array, return [-1, -1].\n",
    "\n",
    "Example 1:\n",
    "\n",
    "Input: nums = [5,7,7,8,8,10], target = 8 Output: [3,4] Example 2:\n",
    "\n",
    "Input: nums = [5,7,7,8,8,10], target = 6 Output: [-1,-1]"
   ]
  },
  {
   "cell_type": "code",
   "execution_count": null,
   "metadata": {},
   "outputs": [],
   "source": [
    "## Approach 1: 1 binary search and then linear search left and right\n",
    "    * Time: worst case O(n)\n",
    "    * Space : O(1)"
   ]
  },
  {
   "cell_type": "code",
   "execution_count": null,
   "metadata": {},
   "outputs": [],
   "source": [
    "def searchRange(nums, target):\n",
    "    if not nums:\n",
    "        return [-1,-1]\n",
    "    left,right = 0,len(nums)-1\n",
    "    while left <= right:\n",
    "        mid = (left+right)//2\n",
    "        if nums[mid] < target:\n",
    "            left = mid +1\n",
    "        elif nums[mid] > target:\n",
    "            right = mid -1\n",
    "        else:\n",
    "            start,end = mid,mid\n",
    "            while start-1 >= left and nums[start-1] == target:\n",
    "                start -= 1\n",
    "            while end +1 <= right and nums[end+1] == target:\n",
    "                end += 1\n",
    "            return [start,end]\n",
    "    return [-1,-1]\n",
    "searchRange([5,7,7,8,8,10],8)"
   ]
  },
  {
   "cell_type": "markdown",
   "metadata": {},
   "source": [
    "## Approach 3:  Two binary searches"
   ]
  },
  {
   "cell_type": "code",
   "execution_count": null,
   "metadata": {},
   "outputs": [],
   "source": [
    "def searchRange(nums, target):\n",
    "    # binary search for the first occurence index \n",
    "    def search(t):\n",
    "        lo,hi = 0, len(nums)\n",
    "        while lo < hi :\n",
    "            mid = ( lo + hi)//2\n",
    "            if nums[mid] >= t:\n",
    "                hi = mid\n",
    "            else:\n",
    "                lo = mid + 1\n",
    "        return lo\n",
    "\n",
    "    lo = search(target)\n",
    "    print(lo)\n",
    "    # if not found\n",
    "    if target not in nums[lo:lo+1]:\n",
    "        return [-1,-1]\n",
    "    else:\n",
    "        # find the first index I could insert (tarter +1), which is one index behind the last index containing target, so all I have left to do is subtract 1.\n",
    "        return [lo,search(target+1)-1]\n",
    "\n",
    "searchRange([5,7,7,8,8,10],8)   "
   ]
  }
 ],
 "metadata": {
  "kernelspec": {
   "display_name": "Python 3",
   "language": "python",
   "name": "python3"
  },
  "language_info": {
   "codemirror_mode": {
    "name": "ipython",
    "version": 3
   },
   "file_extension": ".py",
   "mimetype": "text/x-python",
   "name": "python",
   "nbconvert_exporter": "python",
   "pygments_lexer": "ipython3",
   "version": "3.6.8"
  }
 },
 "nbformat": 4,
 "nbformat_minor": 2
}
